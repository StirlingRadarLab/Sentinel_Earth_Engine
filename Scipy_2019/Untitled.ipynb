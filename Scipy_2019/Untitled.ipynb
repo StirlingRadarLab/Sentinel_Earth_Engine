{
 "cells": [
  {
   "cell_type": "code",
   "execution_count": null,
   "metadata": {},
   "outputs": [],
   "source": [
    "import plotly.plotly as py\n",
    "from plotly.graph_objs import *\n",
    "py.sign_in('username', 'api_key')\n",
    "trace1 = {\n",
    "  \"mode\": \"markers\", \n",
    "  \"type\": \"scattermapbox\", \n",
    "  \"lat\": [48.856614, 48.793409, 49.663613, 49.524641, 47.903791, 48.878847, 47.052505, 50.573277, 48.874423, 48.318179, 47.134321, 47.763284, 48.202047, 45.903552, 44.700222, 43.604652, 45.893223, 45.16958, 45.703269, 43.591236, 43.935169, 42.039604], \n",
    "  \"lon\": [2.352222, 4.472525, 2.528073, 0.882833, 1.916502, -0.515749, 4.383721, 2.324468, 6.208093, 7.441624, 6.022302, -0.329969, -2.932644, -0.309184, -0.299579, 1.444209, 1.569602, 5.450282, 3.344854, 3.258363, 6.067919, 9.012893], \n",
    "  \"marker\": {\n",
    "    \"size\": [5, 5, 5, 5, 5, 5, 5, 5, 5, 5, 5, 8, 8, 8, 8, 8, 8, 8, 8, 8, 8, 8], \n",
    "    \"color\": [\"red\", \"red\", \"red\", \"red\", \"red\", \"red\", \"red\", \"red\", \"red\", \"red\", \"red\", \"green\", \"green\", \"green\", \"green\", \"green\", \"green\", \"green\", \"green\", \"green\", \"green\", \"green\"]\n",
    "  }, \n",
    "  \"text\": [\"Région: Île-de-France<br>lon: 2.35<br>lat: 48.86\", \"Région: Champagne-Ardenne<br>lon: 4.47<br>lat: 48.79\", \"Région: Picardie<br>lon: 2.53<br>lat: 49.66\", \"Région: Haute-Normandie<br>lon: 0.88<br>lat: 49.52\", \"Région: Centre-Val de Loire<br>lon: 1.92<br>lat: 47.90\", \"Région: Basse-Normandie<br>lon: -0.52<br>lat: 48.88\", \"Région: Bourgogne<br>lon: 4.38<br>lat: 47.05\", \"Région: Nord-Pas-de-Calais<br>lon: 2.32<br>lat: 50.57\", \"Région: Lorraine<br>lon: 6.21<br>lat: 48.87\", \"Région: Alsace<br>lon: 7.44<br>lat: 48.32\", \"Région: Franche-Comté<br>lon: 6.02<br>lat: 47.13\", \"Région: Pays de la Loire<br>lon: -0.33<br>lat: 47.76\", \"Région: Bretagne<br>lon: -2.93<br>lat: 48.20\", \"Région: Poitou-Charentes<br>lon: -0.31<br>lat: 45.90\", \"Région: Aquitaine<br>lon: -0.30<br>lat: 44.70\", \"Région: Midi-Pyrénées<br>lon: 1.44<br>lat: 43.60\", \"Région: Limousin<br>lon: 1.57<br>lat: 45.89\", \"Région: Rhône-Alpes<br>lon: 5.45<br>lat: 45.17\", \"Région: Auvergne<br>lon: 3.34<br>lat: 45.70\", \"Région: Languedoc-Roussillon<br>lon: 3.26<br>lat: 43.59\", \"Région: Provence-Alpes-Côte d'Azur<br>lon: 6.07<br>lat: 43.94\", \"Région: Corse<br>lon: 9.01<br>lat: 42.04\"], \n",
    "  \"hoverinfo\": \"text\", \n",
    "  \"showlegend\": False\n",
    "}\n",
    "data = Data([trace1])\n",
    "layout = {"
   ]
  }
 ],
 "metadata": {
  "kernelspec": {
   "display_name": "Python 3",
   "language": "python",
   "name": "python3"
  },
  "language_info": {
   "codemirror_mode": {
    "name": "ipython",
    "version": 3
   },
   "file_extension": ".py",
   "mimetype": "text/x-python",
   "name": "python",
   "nbconvert_exporter": "python",
   "pygments_lexer": "ipython3",
   "version": "3.6.8"
  }
 },
 "nbformat": 4,
 "nbformat_minor": 2
}
