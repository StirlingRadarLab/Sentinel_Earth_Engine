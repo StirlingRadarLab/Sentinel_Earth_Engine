{
 "cells": [
  {
   "cell_type": "markdown",
   "metadata": {},
   "source": [
    "# Earth engine API to get time series"
   ]
  },
  {
   "cell_type": "markdown",
   "metadata": {},
   "source": [
    "Load the Sentinel-1 ImageCollection from the Earth engine\n",
    "Read shapefile and select Modulo/Turno/Lote to retrieve the time series\n",
    "Get the time series of a manually defined polygon\n",
    "Get the time series of a manually defined point (lat,lon)\n",
    "\n",
    "Pending:\n",
    "    comment the code (specially in the library)\n",
    "    Enable customization of plots (Change limits, titles, location of legends, dates x-axis ...)\n",
    "    Filter image collection by geometry (e.g. Doñana, Nazca, Agrisar, etc)\n",
    "    Combine incidence angles for each polarization\n",
    "    Visualice maps"
   ]
  },
  {
   "cell_type": "code",
   "execution_count": 31,
   "metadata": {},
   "outputs": [],
   "source": [
    "import ee\n",
    "ee.Initialize()\n",
    "#import time\n",
    "from datetime import datetime\n",
    "#from pprint import pprint\n",
    "#import geextract\n",
    "#from geextract import ts_extract, get_date\n",
    "#import numpy as np\n",
    "#import matplotlib.pyplot as plt\n",
    "import pandas as pd\n",
    "import geopandas\n",
    "import sys\n",
    "sys.path.insert(1, 'D:\\\\PhD Info\\\\GitHub repositories\\\\My_Sentinel_Earth_Engine\\\\Earth_Engine_scripts')\n",
    "import EE_library\n",
    "#import matplotlib.dates as mdates"
   ]
  },
  {
   "cell_type": "code",
   "execution_count": 32,
   "metadata": {},
   "outputs": [
    {
     "name": "stdout",
     "output_type": "stream",
     "text": [
      "Folium version: 0.9.1\n"
     ]
    }
   ],
   "source": [
    "import folium\n",
    "# Define the URL format used for Earth Engine generated map tiles.\n",
    "EE_TILES = 'https://earthengine.googleapis.com/map/{mapid}/{{z}}/{{x}}/{{y}}?token={token}'\n",
    "print('Folium version: ' + folium.__version__)"
   ]
  },
  {
   "cell_type": "code",
   "execution_count": 33,
   "metadata": {},
   "outputs": [],
   "source": [
    "#----------------------------Parameters: DATES, DESCENDING OR DESCENDING, POLARISATION------- \n",
    "save_ts = \"No\"    # whether or not save the time series \n",
    "path_out_img = \"\" # Not active\n",
    "#str2='2019-08-05' #  Final date to filter the image collection from EE\n",
    "#date2 = ee.Date(str2) # uncomment if is not \n",
    "date2=ee.Date(datetime.today()) \n",
    "str1='2016-12-01' # Initial date to filter the image collection from EE\n",
    "date1 = ee.Date(str1)\n",
    "Direction='ASCENDING' # Sentinel 1 pass direction\n",
    "#Direction='DESCENDING'\n",
    "\n",
    "\n",
    "\n",
    "ds = date2.difference(date1, 'day')\n",
    "orbit_No=18\n",
    "# Needed later on\n",
    "stats = 'mean'    #   median, max, min, minMax\n",
    "out_path=\"\"\n",
    "dicc_of_geometries1={}"
   ]
  },
  {
   "cell_type": "markdown",
   "metadata": {},
   "source": [
    "#  Filter the image collection by the parameters previously defined"
   ]
  },
  {
   "cell_type": "code",
   "execution_count": 34,
   "metadata": {},
   "outputs": [],
   "source": [
    "sentinel1 = ee.ImageCollection('COPERNICUS/S1_GRD').filterDate(date1, date2).filter(ee.Filter.listContains('transmitterReceiverPolarisation', 'VV')).filter(ee.Filter.listContains('transmitterReceiverPolarisation', 'VH')).filter(ee.Filter.eq('instrumentMode', 'IW')).filter(ee.Filter.eq('orbitProperties_pass', Direction)).filter(ee.Filter.eq('relativeOrbitNumber_start', orbit_No)); \n",
    "#sentinel1 = ee.ImageCollection('COPERNICUS/S1_GRD').filterDate(date1, date2).filter(ee.Filter.listContains('transmitterReceiverPolarisation', 'VV')).filter(ee.Filter.listContains('transmitterReceiverPolarisation', 'VH')).filter(ee.Filter.eq('instrumentMode', 'IW')); "
   ]
  },
  {
   "cell_type": "raw",
   "metadata": {},
   "source": [
    "Read the shapefile"
   ]
  },
  {
   "cell_type": "markdown",
   "metadata": {},
   "source": [
    "# Show a reduced image of the collection by using the ee.reduce.median() "
   ]
  },
  {
   "cell_type": "code",
   "execution_count": 35,
   "metadata": {},
   "outputs": [],
   "source": [
    "#@title Mapdisplay: Display GEE objects using folium.\n",
    "def Mapdisplay(center, dicc, Tiles=\"OpensTreetMap\",zoom_start=10):\n",
    "    '''\n",
    "    :param center: Center of the map (Latitude and Longitude).\n",
    "    :param dicc: Earth Engine Geometries or Tiles dictionary\n",
    "    :param Tiles: Mapbox Bright,Mapbox Control Room,Stamen Terrain,Stamen Toner,stamenwatercolor,cartodbpositron.\n",
    "    :zoom_start: Initial zoom level for the map.\n",
    "    :return: A folium.Map object.\n",
    "    '''\n",
    "    mapViz = folium.Map(location=center,tiles=Tiles, zoom_start=zoom_start)\n",
    "    for k,v in dicc.items():\n",
    "      if ee.image.Image in [type(x) for x in v.values()]:\n",
    "        folium.TileLayer(\n",
    "            tiles = EE_TILES.format(**v),\n",
    "            attr  = 'Google Earth Engine',\n",
    "            overlay =True,\n",
    "            name  = k\n",
    "          ).add_to(mapViz)\n",
    "      else:\n",
    "        folium.GeoJson(\n",
    "        data = v,\n",
    "        name = k\n",
    "          ).add_to(mapViz)\n",
    "    mapViz.add_child(folium.LayerControl())\n",
    "    return mapViz"
   ]
  },
  {
   "cell_type": "code",
   "execution_count": 36,
   "metadata": {},
   "outputs": [],
   "source": [
    "# Compute the median in each band, each pixel.\n",
    "# Band names are VH_median, VV_median\n",
    "Sentinel1_median=sentinel1.reduce(ee.Reducer.median())\n",
    "# Compute the ratio (difference in dB)\n",
    "Ratio=Sentinel1_median.select('VH_median').subtract(Sentinel1_median.select('VV_median'))\n",
    "Sentinel1_median_RGB=Sentinel1_median.addBands(Ratio)\n",
    "#Image_july=ee.image(Sentinel1.filter(July).mean())"
   ]
  },
  {
   "cell_type": "code",
   "execution_count": 37,
   "metadata": {},
   "outputs": [],
   "source": [
    "# The output is an Image.  Add it to the map.\n",
    "vis_param = {'min': -25, 'max':0, 'bands': ['VV_median', 'VH_median', 'VH_median_1'],'gamma': 1.6}\n",
    "#vis_param = {'bands': ['VH_median', 'VV_median', 'VH_median_1'], 'gamma': 1.6}"
   ]
  },
  {
   "cell_type": "code",
   "execution_count": null,
   "metadata": {},
   "outputs": [],
   "source": [
    "median_tk = Sentinel1_median_RGB.getMapId(vis_param)"
   ]
  },
  {
   "cell_type": "code",
   "execution_count": null,
   "metadata": {},
   "outputs": [],
   "source": [
    "center = [-8.520166448964439,-78.79737094642212]\n",
    "Mapdisplay(center,{'Sentinel 1':median_tk},zoom_start=12)"
   ]
  },
  {
   "cell_type": "markdown",
   "metadata": {},
   "source": [
    "# Read shapefile"
   ]
  },
  {
   "cell_type": "code",
   "execution_count": 15,
   "metadata": {},
   "outputs": [],
   "source": [
    "geo_df = geopandas.read_file(\"D:\\\\PhD Info\\\\EO4 Cultivar\\\\Ground data\\\\20180504_Danper_Ground_data\\Shapefiles\\\\Danper_Campositan_parcels_boundaries_lotes_EPSG 4326 - WGS 84.shp\")"
   ]
  },
  {
   "cell_type": "raw",
   "metadata": {},
   "source": [
    "Select the polygons to extract the time series:\n",
    "Select the columns by which to filter the geodataframe to select the desired polygons\n",
    "Specify the poligons mathing the ones in the geo_df"
   ]
  },
  {
   "cell_type": "code",
   "execution_count": null,
   "metadata": {},
   "outputs": [],
   "source": [
    "filter_geo_df_by=\"ID_MT\"\n",
    "#List_of_interesting_modulos = [\"M14\",\"M14\",\"M14\",\"M14\",\"M24\",\"M12\"]\n",
    "#List_of_interesting_turnos =  [\"T02\",\"T04\",\"T05\",\"T06\",\"T02\",\"T05\"]\n",
    "# MT with phenology\n",
    "#List_of_interesting_modulos = [\"M19\",\"M11\",\"M24\",\"M10\",\"M23\",\"M06\",\"M22\",\"M12\",\"M14\",'M07']\n",
    "#List_of_interesting_turnos =  [\"T04\",\"T01\",\"T02\",\"T05\",\"T05\",\"T02\",\"T03\",\"T02\",\"T05\",'T04'] # Turno representativo de ese modulo\n",
    "List_of_interesting_modulos = [\"M14\",\"M24\"]\n",
    "List_of_interesting_turnos =  [\"T05\",\"T01\"]"
   ]
  },
  {
   "cell_type": "code",
   "execution_count": null,
   "metadata": {},
   "outputs": [],
   "source": [
    "%matplotlib qt\n",
    "for o in range(len(List_of_interesting_modulos)):\n",
    "    #ID_MT=\"M23T05\"\n",
    "    ID_MT=List_of_interesting_modulos[o]+List_of_interesting_turnos[o]\n",
    "    geo_df_IDMT=geo_df.loc[geo_df[filter_geo_df_by] == ID_MT]  \n",
    "    # Use automatic_ax_lim=\"No\" if it is desired to do interparcel visual comparisons. All plot will have then same y limits               \n",
    "    dicc_of_geometries1[ID_MT]=EE_library.time_series_from_shp(sentinel1,geo_df_IDMT,ID_MT,stats,save_ts,out_path,automatic_ax_lim=\"No\")\n",
    "    #dicc_of_geometries1[ID_MT].to_csv(path_or_buf=\"C:\\\\Users\\\\crisj\\\\Box\\\\Danper_Data_analysis\\\\Output_xlsx\\\\EE_\"+ID_MT+\"_\"+Direction+\"_\"+str(orbit_No))\n"
   ]
  },
  {
   "cell_type": "code",
   "execution_count": null,
   "metadata": {},
   "outputs": [],
   "source": []
  },
  {
   "cell_type": "code",
   "execution_count": null,
   "metadata": {},
   "outputs": [],
   "source": []
  }
 ],
 "metadata": {
  "kernelspec": {
   "display_name": "Python 3",
   "language": "python",
   "name": "python3"
  },
  "language_info": {
   "codemirror_mode": {
    "name": "ipython",
    "version": 3
   },
   "file_extension": ".py",
   "mimetype": "text/x-python",
   "name": "python",
   "nbconvert_exporter": "python",
   "pygments_lexer": "ipython3",
   "version": "3.6.8"
  }
 },
 "nbformat": 4,
 "nbformat_minor": 2
}
