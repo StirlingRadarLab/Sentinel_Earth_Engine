{
 "cells": [
  {
   "cell_type": "markdown",
   "metadata": {
    "extensions": {
     "jupyter_dashboards": {
      "version": 1,
      "views": {
       "grid_default": {},
       "report_default": {}
      }
     }
    },
    "slideshow": {
     "slide_type": "slide"
    }
   },
   "source": [
    "# <h1><center>Earth engine API to retrieve Sentinel-1 time series</center></h1>"
   ]
  },
  {
   "cell_type": "markdown",
   "metadata": {
    "extensions": {
     "jupyter_dashboards": {
      "version": 1,
      "views": {
       "grid_default": {},
       "report_default": {}
      }
     }
    },
    "slideshow": {
     "slide_type": "slide"
    }
   },
   "source": [
    "Load the Sentinel-1 ImageCollection from the Earth engine.\n",
    "Read shapefile and select Modulo/Turno/Lote to retrieve the time series.\n",
    "Get the time series of a manually defined polygon.\n",
    "Get the time series of a manually defined point (lat,lon).\n",
    "\n",
    "Pending:\n",
    "1. Read the widgets values from the container\n",
    "2. Show a map in the container, below the widgets\n",
    "3. Hide the non relevant cells in the code\n",
    "4. Add upload button for the shapefile\n",
    "Get Lat,long coordinates from clicks on screen\n",
    "Overlay shapefile over an EE map\n",
    "Overlay EE maps as layers on a folium map\n",
    "Heat map of VH standard deviation separately of VV std_Dev as done now. This way the static targets should disapear as they dont change much in time. \n",
    "\n",
    "Comment the code (specially in the library)\n",
    "    "
   ]
  },
  {
   "cell_type": "markdown",
   "metadata": {
    "extensions": {
     "jupyter_dashboards": {
      "version": 1,
      "views": {
       "grid_default": {},
       "report_default": {}
      }
     }
    },
    "slideshow": {
     "slide_type": "skip"
    }
   },
   "source": [
    "### Usual imports"
   ]
  },
  {
   "cell_type": "code",
   "execution_count": 21,
   "metadata": {
    "extensions": {
     "jupyter_dashboards": {
      "version": 1,
      "views": {
       "grid_default": {},
       "report_default": {}
      }
     }
    },
    "slideshow": {
     "slide_type": "skip"
    }
   },
   "outputs": [],
   "source": [
    "import ee\n",
    "ee.Initialize()\n",
    "#import time\n",
    "from datetime import datetime\n",
    "import numpy as np\n",
    "import matplotlib.pyplot as plt\n",
    "import pandas as pd\n",
    "import geopandas\n",
    "import sys\n",
    "sys.path.insert(1, 'D:\\\\PhD Info\\\\GitHub repositories\\\\My_Sentinel_Earth_Engine\\\\Earth_Engine_scripts')\n",
    "import EE_library\n",
    "#import matplotlib.dates as mdates\n",
    "import ipywidgets as widgets"
   ]
  },
  {
   "cell_type": "code",
   "execution_count": 22,
   "metadata": {
    "extensions": {
     "jupyter_dashboards": {
      "version": 1,
      "views": {
       "grid_default": {},
       "report_default": {}
      }
     }
    },
    "slideshow": {
     "slide_type": "skip"
    }
   },
   "outputs": [
    {
     "name": "stdout",
     "output_type": "stream",
     "text": [
      "Folium version: 0.9.1\n"
     ]
    }
   ],
   "source": [
    "import folium\n",
    "# Define the URL format used for Earth Engine generated map tiles.\n",
    "EE_TILES = 'https://earthengine.googleapis.com/map/{mapid}/{{z}}/{{x}}/{{y}}?token={token}'\n",
    "print('Folium version: ' + folium.__version__)"
   ]
  },
  {
   "cell_type": "markdown",
   "metadata": {
    "extensions": {
     "jupyter_dashboards": {
      "version": 1,
      "views": {
       "grid_default": {},
       "report_default": {}
      }
     }
    },
    "slideshow": {
     "slide_type": "skip"
    }
   },
   "source": [
    "### Variables "
   ]
  },
  {
   "cell_type": "code",
   "execution_count": 23,
   "metadata": {
    "extensions": {
     "jupyter_dashboards": {
      "version": 1,
      "views": {
       "grid_default": {},
       "report_default": {}
      }
     }
    },
    "slideshow": {
     "slide_type": "skip"
    }
   },
   "outputs": [],
   "source": [
    "save_ts = \"No\"    # whether or not save the time series \n",
    "path_out_img = \"\" # Not active\n",
    "# Needed later on\n",
    "stats = 'mean'    #   median, max, min, minMax\n",
    "out_path=\"\"\n",
    "dicc_of_geometries1={}"
   ]
  },
  {
   "cell_type": "markdown",
   "metadata": {
    "extensions": {
     "jupyter_dashboards": {
      "version": 1,
      "views": {
       "grid_default": {},
       "report_default": {}
      }
     }
    }
   },
   "source": [
    "### Function to display a map using folium"
   ]
  },
  {
   "cell_type": "code",
   "execution_count": 24,
   "metadata": {
    "extensions": {
     "jupyter_dashboards": {
      "version": 1,
      "views": {
       "grid_default": {},
       "report_default": {}
      }
     }
    }
   },
   "outputs": [],
   "source": [
    "#@title Mapdisplay: Display GEE objects using folium.\n",
    "def Mapdisplay(center, dicc, Tiles=\"OpensTreetMap\",zoom_start=10):\n",
    "    '''\n",
    "    :param center: Center of the map (Latitude and Longitude).\n",
    "    :param dicc: Earth Engine Geometries or Tiles dictionary\n",
    "    :param Tiles: Mapbox Bright,Mapbox Control Room,Stamen Terrain,Stamen Toner,stamenwatercolor,cartodbpositron.\n",
    "    :zoom_start: Initial zoom level for the map.\n",
    "    :return: A folium.Map object.\n",
    "    '''\n",
    "    mapViz = folium.Map(location=center,tiles=Tiles, zoom_start=zoom_start)\n",
    "    for k,v in dicc.items():\n",
    "      if ee.image.Image in [type(x) for x in v.values()]:\n",
    "        folium.TileLayer(\n",
    "            tiles = EE_TILES.format(**v),\n",
    "            attr  = 'Google Earth Engine',\n",
    "            overlay =True,\n",
    "            name  = k\n",
    "          ).add_to(mapViz)\n",
    "      else:\n",
    "        folium.GeoJson(\n",
    "        data = v,\n",
    "        name = k\n",
    "          ).add_to(mapViz)\n",
    "    mapViz.add_child(folium.LayerControl())\n",
    "    return mapViz"
   ]
  },
  {
   "cell_type": "markdown",
   "metadata": {
    "extensions": {
     "jupyter_dashboards": {
      "version": 1,
      "views": {
       "grid_default": {},
       "report_default": {}
      }
     }
    },
    "slideshow": {
     "slide_type": "skip"
    }
   },
   "source": [
    "### Select the dates for the analysis"
   ]
  },
  {
   "cell_type": "markdown",
   "metadata": {
    "extensions": {
     "jupyter_dashboards": {
      "version": 1,
      "views": {
       "grid_default": {},
       "report_default": {}
      }
     }
    },
    "slideshow": {
     "slide_type": "skip"
    }
   },
   "source": [
    "#  Filter the image collection by the parameters previously defined"
   ]
  },
  {
   "cell_type": "markdown",
   "metadata": {
    "extensions": {
     "jupyter_dashboards": {
      "version": 1,
      "views": {
       "grid_default": {},
       "report_default": {}
      }
     }
    },
    "slideshow": {
     "slide_type": "skip"
    }
   },
   "source": [
    "Run the following cell, click on the map, copy and paste the coordinates in the cel bellow. \n",
    "\n",
    "Alternatively, use a marker in this [website](http://geojson.io/#map=2/20.0/0.0) to get the coordinates of a desired location and paste them below:"
   ]
  },
  {
   "cell_type": "code",
   "execution_count": 25,
   "metadata": {
    "extensions": {
     "jupyter_dashboards": {
      "version": 1,
      "views": {
       "grid_default": {},
       "report_default": {}
      }
     }
    },
    "scrolled": false,
    "slideshow": {
     "slide_type": "skip"
    }
   },
   "outputs": [
    {
     "data": {
      "text/html": [
       "<div style=\"width:100%;\"><div style=\"position:relative;width:100%;height:0;padding-bottom:60%;\"><iframe src=\"data:text/html;charset=utf-8;base64,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\" style=\"position:absolute;width:100%;height:100%;left:0;top:0;border:none !important;\" allowfullscreen webkitallowfullscreen mozallowfullscreen></iframe></div></div>"
      ],
      "text/plain": [
       "<folium.folium.Map at 0x219f2abd390>"
      ]
     },
     "execution_count": 25,
     "metadata": {},
     "output_type": "execute_result"
    }
   ],
   "source": [
    "Latitude=0.517921\n",
    "Longitude=-77.050621\n",
    "m = folium.Map(location=[Latitude, Longitude],tiles='Stamen Terrain',zoom_start=10)\n",
    "m.add_child(folium.LatLngPopup())"
   ]
  },
  {
   "cell_type": "markdown",
   "metadata": {
    "extensions": {
     "jupyter_dashboards": {
      "version": 1,
      "views": {
       "grid_default": {},
       "report_default": {}
      }
     }
    }
   },
   "source": [
    "### Filter the collection by the selected parameters "
   ]
  },
  {
   "cell_type": "code",
   "execution_count": 44,
   "metadata": {
    "extensions": {
     "jupyter_dashboards": {
      "version": 1,
      "views": {
       "grid_default": {},
       "report_default": {}
      }
     }
    }
   },
   "outputs": [],
   "source": [
    "class Collection_Atributes(object):\n",
    "    date1=\"\"\n",
    "    date2=\"\"\n",
    "    Direction=\"\"\n",
    "    Orbit=\"\"\n",
    "    Orbit_No=\"\"\n",
    "    Latitude=\"\"\n",
    "    Longitude=\"\"\n",
    "    bound_it=\"\"\n",
    "    sentinel1=\"\"\n",
    "    \n",
    "    #def open_branch(self):\n",
    "       #if not self.bankrupt:\n",
    "            #print(\"branch opened\")\n",
    "x=Collection_Atributes()            \n",
    "def load_img_collection():\n",
    "    x.sentinel1=\"\"\n",
    "    if x.Direction == \"Both\" and x.Orbit == \"All available\":\n",
    "        print(\"Both and All available\")\n",
    "        x.sentinel1 = ee.ImageCollection('COPERNICUS/S1_GRD').filterDate(x.date1, x.date2).filter(ee.Filter.listContains('transmitterReceiverPolarisation', 'VV')).filter(ee.Filter.listContains('transmitterReceiverPolarisation', 'VH')).filter(ee.Filter.eq('instrumentMode', 'IW')); \n",
    "    elif x.Direction == \"Both\" and Orbit == \"Type it\":\n",
    "        print(\"Both and orbit \"+x.Orbit_No)\n",
    "        x.sentinel1 = ee.ImageCollection('COPERNICUS/S1_GRD').filterDate(x.date1, x.date2).filter(ee.Filter.listContains('transmitterReceiverPolarisation', 'VV')).filter(ee.Filter.listContains('transmitterReceiverPolarisation', 'VH')).filter(ee.Filter.eq('instrumentMode', 'IW')).filter(ee.Filter.eq('relativeOrbitNumber_start', int(x.Orbit_No)));\n",
    "    elif x.Orbit == \"All available\": # either ascending or descending\n",
    "        print(\"Some direction and All available\")\n",
    "        x.sentinel1 = ee.ImageCollection('COPERNICUS/S1_GRD').filterDate(x.date1, x.date2).filter(ee.Filter.listContains('transmitterReceiverPolarisation', 'VV')).filter(ee.Filter.listContains('transmitterReceiverPolarisation', 'VH')).filter(ee.Filter.eq('instrumentMode', 'IW')).filter(ee.Filter.eq('orbitProperties_pass', x.Direction)); \n",
    "    elif x.Orbit == \"Type it\": # either ascending or descending\n",
    "        print('Direction = '+x.Direction+' and'+' Orbit = '+x.Orbit_No)\n",
    "        x.sentinel1 = ee.ImageCollection('COPERNICUS/S1_GRD').filterDate(x.date1, x.date2).filter(ee.Filter.listContains('transmitterReceiverPolarisation', 'VV')).filter(ee.Filter.listContains('transmitterReceiverPolarisation', 'VH')).filter(ee.Filter.eq('instrumentMode', 'IW')).filter(ee.Filter.eq('orbitProperties_pass', x.Direction)).filter(ee.Filter.eq('relativeOrbitNumber_start', int(x.Orbit_No))); \n",
    "\n",
    "    if x.bound_it == \"Yes\":\n",
    "        print(\"bounded map: \"+x.bound_it)\n",
    "        x.sentinel1 = x.sentinel1.filterBounds(ee.Geometry.Point(float(x.Longitude),float(x.Latitude)))\n",
    "\n",
    "\n",
    "    return(x.sentinel1)"
   ]
  },
  {
   "cell_type": "code",
   "execution_count": 45,
   "metadata": {},
   "outputs": [],
   "source": [
    "def median_reduction(sentinel1,Latitude,Longitude):\n",
    "    # Compute the median in each band, each pixel. Band names are VH_median, VV_median\n",
    "    Sentinel1_median=sentinel1.reduce(ee.Reducer.median())\n",
    "    # Compute the ratio (difference in dB)\n",
    "    Ratio=Sentinel1_median.select('VH_median').subtract(Sentinel1_median.select('VV_median'))\n",
    "    Sentinel1_median_RGB=Sentinel1_median.addBands(Ratio)\n",
    "    return(Sentinel1_median_RGB)"
   ]
  },
  {
   "cell_type": "code",
   "execution_count": 46,
   "metadata": {},
   "outputs": [
    {
     "data": {
      "text/plain": [
       "''"
      ]
     },
     "execution_count": 46,
     "metadata": {},
     "output_type": "execute_result"
    }
   ],
   "source": [
    "x.sentinel1"
   ]
  },
  {
   "cell_type": "code",
   "execution_count": 47,
   "metadata": {
    "extensions": {
     "jupyter_dashboards": {
      "version": 1,
      "views": {
       "grid_default": {},
       "report_default": {}
      }
     }
    },
    "scrolled": false,
    "slideshow": {
     "slide_type": "slide"
    }
   },
   "outputs": [],
   "source": [
    "# Create the widgets to use\n",
    "date1_w=widgets.DatePicker(description='Start Date',disabled=False)\n",
    "date2_w=widgets.DatePicker(description='End Date',disabled=False)\n",
    "Direction_w=widgets.RadioButtons(options=['ASCENDING', 'DESCENDING','Both'],description='Direction:')\n",
    "Orbit_w=widgets.RadioButtons(options=['All available', 'Type it'],description='Orbit No.:')\n",
    "Type_orbit_w=widgets.Text(value='Type Orbit',description='Orbit:',disabled=True)\n",
    "Latitude_w=widgets.Text(value='-8.5136',description='Latitude:')\n",
    "Longitude_w=widgets.Text(value='-438.7951',description='Longitude:')\n",
    "bounded_w=widgets.RadioButtons(options=['Yes','No'],description='Clip map:')\n",
    "\n",
    "def update(change):\n",
    "    \"\"\"    Function to enable/disable the option of typing an orbit number   \"\"\"\n",
    "    if Orbit_w.value == 'All available':\n",
    "        Type_orbit_w.disabled=True\n",
    "        #print(\"All Available\")\n",
    "    else:\n",
    "        Type_orbit_w.disabled=False\n",
    "        #print(\"Type it\")\n",
    "    date1=date1_w.value\n",
    "    date1=date1.strftime(\"%Y-%m-%d\")\n",
    "    #date1 = ee.Date(date1)\n",
    "    return ()\n",
    "\n",
    "Orbit_w.observe(update)\n",
    "\n",
    "def dates_f(a,b,c,d,e,f,g,h):\n",
    "    return (a,b,c,d,e,f,g,h)\n",
    "\n",
    "#The box widget aims at providing an efficient way to lay out, align and distribute space among items in a container.\n",
    "container = widgets.HBox(children=[date1_w, date2_w,Direction_w])\n",
    "container1 = widgets.HBox(children=[Orbit_w, Type_orbit_w,bounded_w])\n",
    "container2 = widgets.HBox(children=[Latitude_w, Longitude_w])\n",
    "\n"
   ]
  },
  {
   "cell_type": "code",
   "execution_count": 48,
   "metadata": {
    "scrolled": false
   },
   "outputs": [
    {
     "data": {
      "application/vnd.jupyter.widget-view+json": {
       "model_id": "1a64bfde84b7485aad1f727747c02e68",
       "version_major": 2,
       "version_minor": 0
      },
      "text/plain": [
       "VBox(children=(HBox(children=(DatePicker(value=None, description='Start Date'), DatePicker(value=None, descrip…"
      ]
     },
     "metadata": {},
     "output_type": "display_data"
    },
    {
     "data": {
      "application/vnd.jupyter.widget-view+json": {
       "model_id": "13a576ae333f496c99bbf87f9a23d61d",
       "version_major": 2,
       "version_minor": 0
      },
      "text/plain": [
       "Button(description='Load image collection', style=ButtonStyle())"
      ]
     },
     "metadata": {},
     "output_type": "display_data"
    },
    {
     "data": {
      "application/vnd.jupyter.widget-view+json": {
       "model_id": "f9bc6b467dc5420db30cb1f7e227ed97",
       "version_major": 2,
       "version_minor": 0
      },
      "text/plain": [
       "Output()"
      ]
     },
     "metadata": {},
     "output_type": "display_data"
    }
   ],
   "source": [
    "w=widgets.VBox([container,container1,container2])\n",
    "display(w)\n",
    "\n",
    "from IPython.display import display\n",
    "button = widgets.Button(description=\"Load image collection\")\n",
    "output = widgets.Output()\n",
    "\n",
    "display(button, output)\n",
    "\n",
    "def on_button_clicked(b):\n",
    "    with output:\n",
    "        date1=date1_w.value\n",
    "        date1=date1.strftime(\"%Y-%m-%d\")\n",
    "        x.date1 = ee.Date(date1)\n",
    "        date2=date2_w.value\n",
    "        date2=date2.strftime(\"%Y-%m-%d\")\n",
    "        x.date2 = ee.Date(date2)\n",
    "        x.Direction=Direction_w.value\n",
    "        x.Orbit=Orbit_w.value\n",
    "        x.Orbit_No=Type_orbit_w.value\n",
    "        x.Latitude=Latitude_w.value\n",
    "        x.Longitude=Longitude_w.value\n",
    "        x.bound_it=bounded_w.value\n",
    "        #load_img_collection(x.date1,x.date2,x.Direction,x.Orbit,x.Latitude,x.Longitude,x.bound_it)\n",
    "        #sentinel1=x.load_img_collection(date1,date2,Direction,Orbit,Latitude,Longitude,bound_it)\n",
    "        #sentinel1=load_img_collection(x.date1,x.date2,x.Direction,x.Orbit,x.Latitude,x.Longitude,x.bound_it)\n",
    "        #print(sentinel1)\n",
    "        #median_reduction(sentinel1)\n",
    "        print(\"OK\")      \n",
    "        \n",
    "    return ()\n",
    "\n",
    "\n",
    "button.on_click(on_button_clicked)\n",
    "#print(str(date1))\n"
   ]
  },
  {
   "cell_type": "code",
   "execution_count": 80,
   "metadata": {
    "scrolled": true
   },
   "outputs": [
    {
     "name": "stdout",
     "output_type": "stream",
     "text": [
      "Direction = DESCENDING and Orbit = 142\n"
     ]
    },
    {
     "data": {
      "text/plain": [
       "<ee.imagecollection.ImageCollection at 0x219f673de80>"
      ]
     },
     "execution_count": 80,
     "metadata": {},
     "output_type": "execute_result"
    }
   ],
   "source": [
    "sentinel1=load_img_collection()\n",
    "sentinel1\n"
   ]
  },
  {
   "cell_type": "code",
   "execution_count": 81,
   "metadata": {},
   "outputs": [
    {
     "data": {
      "text/html": [
       "<div style=\"width:100%;\"><div style=\"position:relative;width:100%;height:0;padding-bottom:60%;\"><iframe src=\"data:text/html;charset=utf-8;base64,PCFET0NUWVBFIGh0bWw+CjxoZWFkPiAgICAKICAgIDxtZXRhIGh0dHAtZXF1aXY9ImNvbnRlbnQtdHlwZSIgY29udGVudD0idGV4dC9odG1sOyBjaGFyc2V0PVVURi04IiAvPgogICAgCiAgICAgICAgPHNjcmlwdD4KICAgICAgICAgICAgTF9OT19UT1VDSCA9IGZhbHNlOwogICAgICAgICAgICBMX0RJU0FCTEVfM0QgPSBmYWxzZTsKICAgICAgICA8L3NjcmlwdD4KICAgIAogICAgPHNjcmlwdCBzcmM9Imh0dHBzOi8vY2RuLmpzZGVsaXZyLm5ldC9ucG0vbGVhZmxldEAxLjQuMC9kaXN0L2xlYWZsZXQuanMiPjwvc2NyaXB0PgogICAgPHNjcmlwdCBzcmM9Imh0dHBzOi8vY29kZS5qcXVlcnkuY29tL2pxdWVyeS0xLjEyLjQubWluLmpzIj48L3NjcmlwdD4KICAgIDxzY3JpcHQgc3JjPSJodHRwczovL21heGNkbi5ib290c3RyYXBjZG4uY29tL2Jvb3RzdHJhcC8zLjIuMC9qcy9ib290c3RyYXAubWluLmpzIj48L3NjcmlwdD4KICAgIDxzY3JpcHQgc3JjPSJodHRwczovL2NkbmpzLmNsb3VkZmxhcmUuY29tL2FqYXgvbGlicy9MZWFmbGV0LmF3ZXNvbWUtbWFya2Vycy8yLjAuMi9sZWFmbGV0LmF3ZXNvbWUtbWFya2Vycy5qcyI+PC9zY3JpcHQ+CiAgICA8bGluayByZWw9InN0eWxlc2hlZXQiIGhyZWY9Imh0dHBzOi8vY2RuLmpzZGVsaXZyLm5ldC9ucG0vbGVhZmxldEAxLjQuMC9kaXN0L2xlYWZsZXQuY3NzIi8+CiAgICA8bGluayByZWw9InN0eWxlc2hlZXQiIGhyZWY9Imh0dHBzOi8vbWF4Y2RuLmJvb3RzdHJhcGNkbi5jb20vYm9vdHN0cmFwLzMuMi4wL2Nzcy9ib290c3RyYXAubWluLmNzcyIvPgogICAgPGxpbmsgcmVsPSJzdHlsZXNoZWV0IiBocmVmPSJodHRwczovL21heGNkbi5ib290c3RyYXBjZG4uY29tL2Jvb3RzdHJhcC8zLjIuMC9jc3MvYm9vdHN0cmFwLXRoZW1lLm1pbi5jc3MiLz4KICAgIDxsaW5rIHJlbD0ic3R5bGVzaGVldCIgaHJlZj0iaHR0cHM6Ly9tYXhjZG4uYm9vdHN0cmFwY2RuLmNvbS9mb250LWF3ZXNvbWUvNC42LjMvY3NzL2ZvbnQtYXdlc29tZS5taW4uY3NzIi8+CiAgICA8bGluayByZWw9InN0eWxlc2hlZXQiIGhyZWY9Imh0dHBzOi8vY2RuanMuY2xvdWRmbGFyZS5jb20vYWpheC9saWJzL0xlYWZsZXQuYXdlc29tZS1tYXJrZXJzLzIuMC4yL2xlYWZsZXQuYXdlc29tZS1tYXJrZXJzLmNzcyIvPgogICAgPGxpbmsgcmVsPSJzdHlsZXNoZWV0IiBocmVmPSJodHRwczovL3Jhd2Nkbi5naXRoYWNrLmNvbS9weXRob24tdmlzdWFsaXphdGlvbi9mb2xpdW0vbWFzdGVyL2ZvbGl1bS90ZW1wbGF0ZXMvbGVhZmxldC5hd2Vzb21lLnJvdGF0ZS5jc3MiLz4KICAgIDxzdHlsZT5odG1sLCBib2R5IHt3aWR0aDogMTAwJTtoZWlnaHQ6IDEwMCU7bWFyZ2luOiAwO3BhZGRpbmc6IDA7fTwvc3R5bGU+CiAgICA8c3R5bGU+I21hcCB7cG9zaXRpb246YWJzb2x1dGU7dG9wOjA7Ym90dG9tOjA7cmlnaHQ6MDtsZWZ0OjA7fTwvc3R5bGU+CiAgICAKICAgICAgICAgICAgPG1ldGEgbmFtZT0idmlld3BvcnQiIGNvbnRlbnQ9IndpZHRoPWRldmljZS13aWR0aCwKICAgICAgICAgICAgICAgIGluaXRpYWwtc2NhbGU9MS4wLCBtYXhpbXVtLXNjYWxlPTEuMCwgdXNlci1zY2FsYWJsZT1ubyIgLz4KICAgICAgICAgICAgPHN0eWxlPgogICAgICAgICAgICAgICAgI21hcF8xZjMwMmVmOThjNTg0NDNlYTlhNmY5YzMzNjI0Y2MxYSB7CiAgICAgICAgICAgICAgICAgICAgcG9zaXRpb246IHJlbGF0aXZlOwogICAgICAgICAgICAgICAgICAgIHdpZHRoOiAxMDAuMCU7CiAgICAgICAgICAgICAgICAgICAgaGVpZ2h0OiAxMDAuMCU7CiAgICAgICAgICAgICAgICAgICAgbGVmdDogMC4wJTsKICAgICAgICAgICAgICAgICAgICB0b3A6IDAuMCU7CiAgICAgICAgICAgICAgICB9CiAgICAgICAgICAgIDwvc3R5bGU+CiAgICAgICAgCjwvaGVhZD4KPGJvZHk+ICAgIAogICAgCiAgICAgICAgICAgIDxkaXYgY2xhc3M9ImZvbGl1bS1tYXAiIGlkPSJtYXBfMWYzMDJlZjk4YzU4NDQzZWE5YTZmOWMzMzYyNGNjMWEiID48L2Rpdj4KICAgICAgICAKPC9ib2R5Pgo8c2NyaXB0PiAgICAKICAgIAogICAgICAgICAgICB2YXIgbWFwXzFmMzAyZWY5OGM1ODQ0M2VhOWE2ZjljMzM2MjRjYzFhID0gTC5tYXAoCiAgICAgICAgICAgICAgICAibWFwXzFmMzAyZWY5OGM1ODQ0M2VhOWE2ZjljMzM2MjRjYzFhIiwKICAgICAgICAgICAgICAgIHsKICAgICAgICAgICAgICAgICAgICBjZW50ZXI6IFstOC41MTM2LCAtNDM4Ljc5NTFdLAogICAgICAgICAgICAgICAgICAgIGNyczogTC5DUlMuRVBTRzM4NTcsCiAgICAgICAgICAgICAgICAgICAgem9vbTogMTMsCiAgICAgICAgICAgICAgICAgICAgem9vbUNvbnRyb2w6IHRydWUsCiAgICAgICAgICAgICAgICAgICAgcHJlZmVyQ2FudmFzOiBmYWxzZSwKICAgICAgICAgICAgICAgIH0KICAgICAgICAgICAgKTsKCiAgICAgICAgICAgIAoKICAgICAgICAKICAgIAogICAgICAgICAgICB2YXIgdGlsZV9sYXllcl8yNWRlMjhhMGM2MWI0N2YyYjg2NGVkYTM2MGY2MDk3MCA9IEwudGlsZUxheWVyKAogICAgICAgICAgICAgICAgImh0dHBzOi8ve3N9LnRpbGUub3BlbnN0cmVldG1hcC5vcmcve3p9L3t4fS97eX0ucG5nIiwKICAgICAgICAgICAgICAgIHsiYXR0cmlidXRpb24iOiAiRGF0YSBieSBcdTAwMjZjb3B5OyBcdTAwM2NhIGhyZWY9XCJodHRwOi8vb3BlbnN0cmVldG1hcC5vcmdcIlx1MDAzZU9wZW5TdHJlZXRNYXBcdTAwM2MvYVx1MDAzZSwgdW5kZXIgXHUwMDNjYSBocmVmPVwiaHR0cDovL3d3dy5vcGVuc3RyZWV0bWFwLm9yZy9jb3B5cmlnaHRcIlx1MDAzZU9EYkxcdTAwM2MvYVx1MDAzZS4iLCAiZGV0ZWN0UmV0aW5hIjogZmFsc2UsICJtYXhOYXRpdmVab29tIjogMTgsICJtYXhab29tIjogMTgsICJtaW5ab29tIjogMCwgIm5vV3JhcCI6IGZhbHNlLCAib3BhY2l0eSI6IDEsICJzdWJkb21haW5zIjogImFiYyIsICJ0bXMiOiBmYWxzZX0KICAgICAgICAgICAgKS5hZGRUbyhtYXBfMWYzMDJlZjk4YzU4NDQzZWE5YTZmOWMzMzYyNGNjMWEpOwogICAgICAgIAogICAgCiAgICAgICAgICAgIHZhciB0aWxlX2xheWVyX2UxMGY5YzVjZGE4YzRhOTRhM2E0ZTYzY2U5YjFjMjA2ID0gTC50aWxlTGF5ZXIoCiAgICAgICAgICAgICAgICAiaHR0cHM6Ly9lYXJ0aGVuZ2luZS5nb29nbGVhcGlzLmNvbS9tYXAvYjliYzc3ODYyNDQwZTUwNjY2MzYxYmExYTA0NGRhN2Qve3p9L3t4fS97eX0/dG9rZW49ZWIyMjQ0ZTEyMjFhZjg4YWM2NmJlYTFmMTUzZmRjOTIiLAogICAgICAgICAgICAgICAgeyJhdHRyaWJ1dGlvbiI6ICJHb29nbGUgRWFydGggRW5naW5lIiwgImRldGVjdFJldGluYSI6IGZhbHNlLCAibWF4TmF0aXZlWm9vbSI6IDE4LCAibWF4Wm9vbSI6IDE4LCAibWluWm9vbSI6IDAsICJub1dyYXAiOiBmYWxzZSwgIm9wYWNpdHkiOiAxLCAic3ViZG9tYWlucyI6ICJhYmMiLCAidG1zIjogZmFsc2V9CiAgICAgICAgICAgICkuYWRkVG8obWFwXzFmMzAyZWY5OGM1ODQ0M2VhOWE2ZjljMzM2MjRjYzFhKTsKICAgICAgICAKICAgIAogICAgICAgICAgICB2YXIgbGF5ZXJfY29udHJvbF8zNTBkZjM2MjdmNjE0MTI5OWYxNjBmZGU0YWQ0OTVkYSA9IHsKICAgICAgICAgICAgICAgIGJhc2VfbGF5ZXJzIDogewogICAgICAgICAgICAgICAgICAgICJvcGVuc3RyZWV0bWFwIiA6IHRpbGVfbGF5ZXJfMjVkZTI4YTBjNjFiNDdmMmI4NjRlZGEzNjBmNjA5NzAsCiAgICAgICAgICAgICAgICB9LAogICAgICAgICAgICAgICAgb3ZlcmxheXMgOiAgewogICAgICAgICAgICAgICAgICAgICJTZW50aW5lbCAxIiA6IHRpbGVfbGF5ZXJfZTEwZjljNWNkYThjNGE5NGEzYTRlNjNjZTliMWMyMDYsCiAgICAgICAgICAgICAgICB9LAogICAgICAgICAgICB9OwogICAgICAgICAgICBMLmNvbnRyb2wubGF5ZXJzKAogICAgICAgICAgICAgICAgbGF5ZXJfY29udHJvbF8zNTBkZjM2MjdmNjE0MTI5OWYxNjBmZGU0YWQ0OTVkYS5iYXNlX2xheWVycywKICAgICAgICAgICAgICAgIGxheWVyX2NvbnRyb2xfMzUwZGYzNjI3ZjYxNDEyOTlmMTYwZmRlNGFkNDk1ZGEub3ZlcmxheXMsCiAgICAgICAgICAgICAgICB7ImF1dG9aSW5kZXgiOiB0cnVlLCAiY29sbGFwc2VkIjogdHJ1ZSwgInBvc2l0aW9uIjogInRvcHJpZ2h0In0KICAgICAgICAgICAgKS5hZGRUbyhtYXBfMWYzMDJlZjk4YzU4NDQzZWE5YTZmOWMzMzYyNGNjMWEpOwogICAgICAgIAogICAgCiAgICAgICAgICAgICAgICB2YXIgbGF0X2xuZ19wb3B1cF8xZjJlNjg1ZDIzZWI0ZDQxOGVhN2UwMDM2YWE1ODg2OCA9IEwucG9wdXAoKTsKICAgICAgICAgICAgICAgIGZ1bmN0aW9uIGxhdExuZ1BvcChlKSB7CiAgICAgICAgICAgICAgICAgICAgbGF0X2xuZ19wb3B1cF8xZjJlNjg1ZDIzZWI0ZDQxOGVhN2UwMDM2YWE1ODg2OAogICAgICAgICAgICAgICAgICAgICAgICAuc2V0TGF0TG5nKGUubGF0bG5nKQogICAgICAgICAgICAgICAgICAgICAgICAuc2V0Q29udGVudCgiTGF0aXR1ZGU6ICIgKyBlLmxhdGxuZy5sYXQudG9GaXhlZCg0KSArCiAgICAgICAgICAgICAgICAgICAgICAgICAgICAgICAgICAgICI8YnI+TG9uZ2l0dWRlOiAiICsgZS5sYXRsbmcubG5nLnRvRml4ZWQoNCkpCiAgICAgICAgICAgICAgICAgICAgICAgIC5vcGVuT24obWFwXzFmMzAyZWY5OGM1ODQ0M2VhOWE2ZjljMzM2MjRjYzFhKTsKICAgICAgICAgICAgICAgICAgICB9CiAgICAgICAgICAgICAgICBtYXBfMWYzMDJlZjk4YzU4NDQzZWE5YTZmOWMzMzYyNGNjMWEub24oJ2NsaWNrJywgbGF0TG5nUG9wKTsKICAgICAgICAgICAgCjwvc2NyaXB0Pg==\" style=\"position:absolute;width:100%;height:100%;left:0;top:0;border:none !important;\" allowfullscreen webkitallowfullscreen mozallowfullscreen></iframe></div></div>"
      ],
      "text/plain": [
       "<folium.folium.Map at 0x219ec2332b0>"
      ]
     },
     "execution_count": 81,
     "metadata": {},
     "output_type": "execute_result"
    }
   ],
   "source": [
    "# Multitemporal image collection reduction using the mean  \n",
    "Sentinel1_median_RGB=median_reduction(sentinel1,x.Latitude,x.Longitude)\n",
    "# The output is an Image.  Add it to the map with the following visualization parameters:\n",
    "vis_param = {'min': -20, 'max':0, 'bands': ['VV_median', 'VH_median', 'VH_median_1'],'gamma': 1.6}\n",
    "median_tk = Sentinel1_median_RGB.getMapId(vis_param)\n",
    "#center = [-8.520166448964439,-78.79737094642212]\n",
    "#center = [x.Latitude,x.Longitude]\n",
    "#m=Mapdisplay(center,{'Sentinel 1':median_tk},zoom_start=13)\n",
    "#m.add_child(folium.LatLngPopup())"
   ]
  },
  {
   "cell_type": "code",
   "execution_count": 51,
   "metadata": {},
   "outputs": [
    {
     "data": {
      "text/plain": [
       "{'mapid': 'dc65485f645609b71e6c1667256666e0',\n",
       " 'token': 'fc611089e92afb2bf76c0de11f4cd90c',\n",
       " 'tile_fetcher': <ee.data.TileFetcher at 0x219f2ba89b0>,\n",
       " 'image': <ee.image.Image at 0x219f2ba72b0>}"
      ]
     },
     "execution_count": 51,
     "metadata": {},
     "output_type": "execute_result"
    }
   ],
   "source": [
    "median_tk"
   ]
  },
  {
   "cell_type": "code",
   "execution_count": 58,
   "metadata": {},
   "outputs": [],
   "source": [
    "import numpy as np\n",
    "import matplotlib.pyplot as plt\n",
    "import pandas as pd\n",
    "from datetime import datetime as dt\n",
    "from scipy.stats import multivariate_normal\n",
    "\n",
    "from plotly.offline import plot\n",
    "import plotly.graph_objects as go\n",
    "from plotly.subplots import make_subplots\n",
    "import plotly.express as px\n",
    "\n",
    "import dash\n",
    "import dash_core_components as dcc\n",
    "import dash_html_components as html\n",
    "from dash.dependencies import Input, Output"
   ]
  },
  {
   "cell_type": "code",
   "execution_count": 82,
   "metadata": {},
   "outputs": [],
   "source": [
    "tile_url_template = \"https://earthengine.googleapis.com/map/{mapid}/{{z}}/{{x}}/{{y}}?token={token}\"\n",
    "source_tile=tile_url_template.format(**median_tk)\n",
    "\n",
    "us_cities = pd.read_csv(\"https://raw.githubusercontent.com/plotly/datasets/master/us-cities-top-1k.csv\")\n",
    "fig = px.scatter_mapbox(us_cities, lat=\"lat\", lon=\"lon\", hover_name=\"City\", hover_data=[\"State\", \"Population\"],\n",
    "                        color_discrete_sequence=[\"fuchsia\"], zoom=3, height=500)"
   ]
  },
  {
   "cell_type": "code",
   "execution_count": 62,
   "metadata": {},
   "outputs": [
    {
     "data": {
      "text/plain": [
       "'https://earthengine.googleapis.com/map/dc65485f645609b71e6c1667256666e0/{z}/{x}/{y}?token=bbeda592c1100a356f493d7eb07f8955'"
      ]
     },
     "execution_count": 62,
     "metadata": {},
     "output_type": "execute_result"
    }
   ],
   "source": [
    "source_tile"
   ]
  },
  {
   "cell_type": "code",
   "execution_count": 83,
   "metadata": {},
   "outputs": [
    {
     "data": {
      "application/vnd.plotly.v1+json": {
       "config": {
        "plotlyServerURL": "https://plot.ly"
       },
       "data": [
        {
         "customdata": [
          [
           "Washington",
           63269
          ],
          [
           "California",
           72326
          ],
          [
           "Ohio",
           390113
          ],
          [
           "Massachusetts",
           182544
          ],
          [
           "South Carolina",
           133358
          ],
          [
           "Connecticut",
           109676
          ],
          [
           "Minnesota",
           65453
          ],
          [
           "Michigan",
           73006
          ],
          [
           "Louisiana",
           124276
          ],
          [
           "Idaho",
           214237
          ],
          [
           "Indiana",
           51265
          ],
          [
           "California",
           82882
          ],
          [
           "Georgia",
           59089
          ],
          [
           "Colorado",
           48608
          ],
          [
           "Florida",
           102436
          ],
          [
           "Massachusetts",
           42544
          ],
          [
           "Illinois",
           199963
          ],
          [
           "Virginia",
           47673
          ],
          [
           "Florida",
           50213
          ],
          [
           "California",
           91739
          ],
          [
           "Texas",
           239538
          ],
          [
           "Kansas",
           181260
          ],
          [
           "Mississippi",
           172638
          ],
          [
           "North Carolina",
           73209
          ],
          [
           "Florida",
           62316
          ],
          [
           "Missouri",
           467007
          ],
          [
           "California",
           42448
          ],
          [
           "Minnesota",
           61434
          ],
          [
           "Texas",
           58043
          ],
          [
           "New Mexico",
           48611
          ],
          [
           "Alabama",
           201332
          ],
          [
           "Utah",
           48913
          ],
          [
           "Massachusetts",
           39083
          ],
          [
           "Pennsylvania",
           118577
          ],
          [
           "South Carolina",
           74885
          ],
          [
           "Georgia",
           202824
          ],
          [
           "New York",
           258959
          ],
          [
           "Wisconsin",
           39834
          ],
          [
           "Texas",
           67317
          ],
          [
           "Ohio",
           38355
          ],
          [
           "California",
           479686
          ],
          [
           "Arkansas",
           87650
          ],
          [
           "Rhode Island",
           47149
          ],
          [
           "Iowa",
           41776
          ],
          [
           "New York",
           68224
          ],
          [
           "Colorado",
           147214
          ],
          [
           "Nevada",
           270811
          ],
          [
           "California",
           48508
          ],
          [
           "Connecticut",
           126456
          ],
          [
           "Indiana",
           82575
          ],
          [
           "Tennessee",
           52962
          ],
          [
           "Washington",
           210721
          ],
          [
           "Washington",
           76762
          ],
          [
           "Pennsylvania",
           1553165
          ],
          [
           "Washington",
           82631
          ],
          [
           "California",
           127763
          ],
          [
           "Wisconsin",
           51522
          ],
          [
           "Iowa",
           61969
          ],
          [
           "Florida",
           42757
          ],
          [
           "Texas",
           1257676
          ],
          [
           "California",
           107100
          ],
          [
           "Michigan",
           131224
          ],
          [
           "Florida",
           78041
          ],
          [
           "Indiana",
           83891
          ],
          [
           "Wyoming",
           62448
          ],
          [
           "California",
           107479
          ],
          [
           "Kansas",
           50344
          ],
          [
           "Indiana",
           56540
          ],
          [
           "Mississippi",
           50997
          ],
          [
           "California",
           80988
          ],
          [
           "Maryland",
           65690
          ],
          [
           "California",
           56707
          ],
          [
           "Maryland",
           66893
          ],
          [
           "North Carolina",
           89130
          ],
          [
           "Illinois",
           43849
          ],
          [
           "Wisconsin",
           60697
          ],
          [
           "Colorado",
           127359
          ],
          [
           "Iowa",
           61255
          ],
          [
           "Massachusetts",
           88697
          ],
          [
           "California",
           61170
          ],
          [
           "California",
           256780
          ],
          [
           "Florida",
           126604
          ],
          [
           "North Carolina",
           83506
          ],
          [
           "Georgia",
           53438
          ],
          [
           "Florida",
           45587
          ],
          [
           "North Dakota",
           54932
          ],
          [
           "Ohio",
           39325
          ],
          [
           "Illinois",
           144864
          ],
          [
           "Florida",
           146526
          ],
          [
           "Arkansas",
           60112
          ],
          [
           "Louisiana",
           378715
          ],
          [
           "Washington",
           59097
          ],
          [
           "Illinois",
           57073
          ],
          [
           "Idaho",
           48957
          ],
          [
           "Oregon",
           609456
          ],
          [
           "California",
           125880
          ],
          [
           "Washington",
           49858
          ],
          [
           "Missouri",
           67569
          ],
          [
           "Wisconsin",
           71016
          ],
          [
           "Arizona",
           68667
          ],
          [
           "Washington",
           38609
          ],
          [
           "New York",
           65902
          ],
          [
           "Colorado",
           649495
          ],
          [
           "Illinois",
           117006
          ],
          [
           "California",
           40584
          ],
          [
           "California",
           201175
          ],
          [
           "Ohio",
           55870
          ],
          [
           "Michigan",
           37313
          ],
          [
           "Arizona",
           52844
          ],
          [
           "Arkansas",
           66075
          ],
          [
           "Nevada",
           233294
          ],
          [
           "Colorado",
           44275
          ],
          [
           "Arizona",
           40590
          ],
          [
           "California",
           52105
          ],
          [
           "Texas",
           37442
          ],
          [
           "Maine",
           66318
          ],
          [
           "Minnesota",
           78373
          ],
          [
           "Connecticut",
           55046
          ],
          [
           "California",
           43363
          ],
          [
           "Texas",
           39458
          ],
          [
           "Michigan",
           99763
          ],
          [
           "California",
           66695
          ],
          [
           "Arizona",
           56683
          ],
          [
           "California",
           40963
          ],
          [
           "California",
           83539
          ],
          [
           "Arizona",
           226918
          ],
          [
           "Ohio",
           822553
          ],
          [
           "Pennsylvania",
           59325
          ],
          [
           "Nebraska",
           268738
          ],
          [
           "New Jersey",
           84349
          ],
          [
           "Massachusetts",
           645966
          ],
          [
           "California",
           51074
          ],
          [
           "Minnesota",
           110742
          ],
          [
           "Missouri",
           52363
          ],
          [
           "Maryland",
           38722
          ],
          [
           "North Carolina",
           59635
          ],
          [
           "Indiana",
           47135
          ],
          [
           "California",
           39389
          ],
          [
           "Illinois",
           37240
          ],
          [
           "Montana",
           69122
          ],
          [
           "California",
           99769
          ],
          [
           "Texas",
           100065
          ],
          [
           "Arizona",
           229972
          ],
          [
           "Wisconsin",
           39309
          ],
          [
           "North Carolina",
           431746
          ],
          [
           "California",
           139969
          ],
          [
           "California",
           66900
          ],
          [
           "Washington",
           39056
          ],
          [
           "California",
           55174
          ],
          [
           "Arizona",
           38290
          ],
          [
           "Florida",
           186411
          ],
          [
           "Texas",
           63032
          ],
          [
           "Virginia",
           43609
          ],
          [
           "Texas",
           1409019
          ],
          [
           "Connecticut",
           125017
          ],
          [
           "Iowa",
           68366
          ],
          [
           "New York",
           46444
          ],
          [
           "Idaho",
           83596
          ],
          [
           "Wisconsin",
           42970
          ],
          [
           "Texas",
           75418
          ],
          [
           "North Carolina",
           151088
          ],
          [
           "Massachusetts",
           55419
          ],
          [
           "Oklahoma",
           398121
          ],
          [
           "Texas",
           81050
          ],
          [
           "Ohio",
           49267
          ],
          [
           "Massachusetts",
           60509
          ],
          [
           "Texas",
           92020
          ],
          [
           "Arizona",
           526116
          ],
          [
           "Tennessee",
           68886
          ],
          [
           "Minnesota",
           39167
          ],
          [
           "Florida",
           842583
          ],
          [
           "New Jersey",
           39551
          ],
          [
           "Pennsylvania",
           100671
          ],
          [
           "California",
           81102
          ],
          [
           "Texas",
           120099
          ],
          [
           "California",
           67032
          ],
          [
           "South Carolina",
           61397
          ],
          [
           "North Carolina",
           50458
          ],
          [
           "Michigan",
           60070
          ],
          [
           "Pennsylvania",
           49188
          ],
          [
           "California",
           108817
          ],
          [
           "California",
           224922
          ],
          [
           "Colorado",
           108249
          ],
          [
           "Massachusetts",
           37670
          ],
          [
           "Illinois",
           42895
          ],
          [
           "Minnesota",
           400070
          ],
          [
           "Tennessee",
           58226
          ],
          [
           "Texas",
           104898
          ],
          [
           "Texas",
           70185
          ],
          [
           "Missouri",
           318416
          ],
          [
           "Texas",
           73790
          ],
          [
           "New Mexico",
           556495
          ],
          [
           "Georgia",
           119980
          ],
          [
           "Utah",
           59366
          ],
          [
           "Nevada",
           226877
          ],
          [
           "California",
           151348
          ],
          [
           "California",
           55191
          ],
          [
           "Ohio",
           37490
          ],
          [
           "Kansas",
           90811
          ],
          [
           "Texas",
           123933
          ],
          [
           "Oklahoma",
           610613
          ],
          [
           "Arizona",
           41627
          ],
          [
           "Arizona",
           457587
          ],
          [
           "Connecticut",
           87776
          ],
          [
           "Michigan",
           50233
          ],
          [
           "Wisconsin",
           37999
          ],
          [
           "Texas",
           40922
          ],
          [
           "Indiana",
           47989
          ],
          [
           "California",
           78327
          ],
          [
           "Minnesota",
           66297
          ],
          [
           "New Jersey",
           70868
          ],
          [
           "California",
           148738
          ],
          [
           "California",
           42443
          ],
          [
           "California",
           116768
          ],
          [
           "California",
           65040
          ],
          [
           "Oklahoma",
           97151
          ],
          [
           "Wisconsin",
           67545
          ],
          [
           "Arizona",
           45508
          ],
          [
           "Texas",
           51483
          ],
          [
           "Indiana",
           256496
          ],
          [
           "Washington",
           54790
          ],
          [
           "Massachusetts",
           57170
          ],
          [
           "California",
           61653
          ],
          [
           "New York",
           98424
          ],
          [
           "California",
           104739
          ],
          [
           "Michigan",
           61817
          ],
          [
           "Virginia",
           78014
          ],
          [
           "Maryland",
           56759
          ],
          [
           "Connecticut",
           83684
          ],
          [
           "Virginia",
           44349
          ],
          [
           "Florida",
           49631
          ],
          [
           "Idaho",
           46402
          ],
          [
           "California",
           115708
          ],
          [
           "Illinois",
           40388
          ],
          [
           "California",
           43341
          ],
          [
           "Arizona",
           72864
          ],
          [
           "New Jersey",
           145948
          ],
          [
           "Oregon",
           160614
          ],
          [
           "Florida",
           65173
          ],
          [
           "Michigan",
           50303
          ],
          [
           "Texas",
           181860
          ],
          [
           "Texas",
           68609
          ],
          [
           "Texas",
           50195
          ],
          [
           "Minnesota",
           49376
          ],
          [
           "Michigan",
           688701
          ],
          [
           "Ohio",
           42635
          ],
          [
           "Texas",
           60872
          ],
          [
           "New York",
           210358
          ],
          [
           "Alabama",
           212113
          ],
          [
           "Texas",
           885400
          ],
          [
           "California",
           90412
          ],
          [
           "Illinois",
           37385
          ],
          [
           "New Mexico",
           91956
          ],
          [
           "Illinois",
           54664
          ],
          [
           "Illinois",
           39650
          ],
          [
           "Minnesota",
           62103
          ],
          [
           "California",
           101128
          ],
          [
           "Florida",
           255483
          ],
          [
           "Wyoming",
           59628
          ],
          [
           "Texas",
           48592
          ],
          [
           "North Carolina",
           112067
          ],
          [
           "Florida",
           49998
          ],
          [
           "Florida",
           43250
          ],
          [
           "Kansas",
           148483
          ],
          [
           "Massachusetts",
           40383
          ],
          [
           "Illinois",
           38015
          ],
          [
           "Massachusetts",
           87971
          ],
          [
           "Florida",
           61007
          ],
          [
           "Connecticut",
           40347
          ],
          [
           "New Jersey",
           278427
          ],
          [
           "Louisiana",
           48426
          ],
          [
           "Minnesota",
           60407
          ],
          [
           "Texas",
           65665
          ],
          [
           "California",
           43509
          ],
          [
           "Texas",
           123099
          ],
          [
           "Texas",
           48733
          ],
          [
           "Indiana",
           53665
          ],
          [
           "California",
           155662
          ],
          [
           "Florida",
           111378
          ],
          [
           "West Virginia",
           49177
          ],
          [
           "Texas",
           248142
          ],
          [
           "Florida",
           77508
          ],
          [
           "Texas",
           43580
          ],
          [
           "Florida",
           104898
          ],
          [
           "North Carolina",
           49628
          ],
          [
           "Utah",
           43023
          ],
          [
           "California",
           46714
          ],
          [
           "Ohio",
           80429
          ],
          [
           "South Dakota",
           70812
          ],
          [
           "California",
           42889
          ],
          [
           "Colorado",
           49799
          ],
          [
           "Massachusetts",
           153703
          ],
          [
           "Colorado",
           152061
          ],
          [
           "California",
           87965
          ],
          [
           "California",
           96929
          ],
          [
           "New York",
           199766
          ],
          [
           "Ohio",
           297517
          ],
          [
           "Maryland",
           40612
          ],
          [
           "Florida",
           56002
          ],
          [
           "New Jersey",
           68247
          ],
          [
           "Ohio",
           282313
          ],
          [
           "Arizona",
           45129
          ],
          [
           "Virginia",
           182020
          ],
          [
           "Indiana",
           78967
          ],
          [
           "Illinois",
           41778
          ],
          [
           "Texas",
           83860
          ],
          [
           "Alabama",
           186254
          ],
          [
           "California",
           63338
          ],
          [
           "Washington",
           40727
          ],
          [
           "Texas",
           39605
          ],
          [
           "North Carolina",
           56954
          ],
          [
           "Michigan",
           59887
          ],
          [
           "California",
           59834
          ],
          [
           "California",
           151574
          ],
          [
           "New York",
           49468
          ],
          [
           "Nevada",
           93282
          ],
          [
           "California",
           54686
          ],
          [
           "California",
           49087
          ],
          [
           "Ohio",
           65184
          ],
          [
           "Alabama",
           45799
          ],
          [
           "California",
           69999
          ],
          [
           "Missouri",
           38816
          ],
          [
           "Idaho",
           86518
          ],
          [
           "District of Columbia",
           646449
          ],
          [
           "Illinois",
           53648
          ],
          [
           "Texas",
           38071
          ],
          [
           "California",
           101910
          ],
          [
           "North Dakota",
           113658
          ],
          [
           "Illinois",
           116513
          ],
          [
           "Nebraska",
           434353
          ],
          [
           "California",
           49228
          ],
          [
           "Kansas",
           56143
          ],
          [
           "California",
           46281
          ],
          [
           "California",
           1355896
          ],
          [
           "California",
           171990
          ],
          [
           "Massachusetts",
           108861
          ],
          [
           "Oklahoma",
           103500
          ],
          [
           "Washington",
           124435
          ],
          [
           "Tennessee",
           634464
          ],
          [
           "New Jersey",
           44113
          ],
          [
           "Colorado",
           59471
          ],
          [
           "North Carolina",
           245475
          ],
          [
           "Kansas",
           386552
          ],
          [
           "California",
           52977
          ],
          [
           "Minnesota",
           58562
          ],
          [
           "Illinois",
           45556
          ],
          [
           "Texas",
           37093
          ],
          [
           "Wisconsin",
           37159
          ],
          [
           "California",
           147559
          ],
          [
           "California",
           62864
          ],
          [
           "Wisconsin",
           99889
          ],
          [
           "Pennsylvania",
           41757
          ],
          [
           "Ohio",
           46454
          ],
          [
           "Illinois",
           40915
          ],
          [
           "Florida",
           104410
          ],
          [
           "Texas",
           97492
          ],
          [
           "Illinois",
           78902
          ],
          [
           "California",
           84691
          ],
          [
           "South Carolina",
           37647
          ],
          [
           "New Hampshire",
           87137
          ],
          [
           "Georgia",
           89981
          ],
          [
           "New York",
           55361
          ],
          [
           "New Jersey",
           76903
          ],
          [
           "California",
           50508
          ],
          [
           "Illinois",
           40351
          ],
          [
           "Virginia",
           230571
          ],
          [
           "Ohio",
           43607
          ],
          [
           "California",
           66086
          ],
          [
           "Michigan",
           37213
          ],
          [
           "New Jersey",
           127558
          ],
          [
           "Alaska",
           300950
          ],
          [
           "North Dakota",
           46321
          ],
          [
           "Florida",
           96830
          ],
          [
           "Texas",
           136639
          ],
          [
           "Texas",
           148559
          ],
          [
           "Texas",
           137147
          ],
          [
           "Ohio",
           41512
          ],
          [
           "California",
           406253
          ],
          [
           "California",
           77846
          ],
          [
           "California",
           57525
          ],
          [
           "Texas",
           196429
          ],
          [
           "Utah",
           116288
          ],
          [
           "Georgia",
           447841
          ],
          [
           "California",
           61085
          ],
          [
           "Ohio",
           44730
          ],
          [
           "California",
           63105
          ],
          [
           "Illinois",
           74710
          ],
          [
           "Rhode Island",
           41026
          ],
          [
           "Alabama",
           194899
          ],
          [
           "California",
           118837
          ],
          [
           "California",
           57639
          ],
          [
           "Tennessee",
           47333
          ],
          [
           "Missouri",
           43330
          ],
          [
           "Texas",
           81443
          ],
          [
           "Arizona",
           249146
          ],
          [
           "Colorado",
           111707
          ],
          [
           "California",
           84577
          ],
          [
           "Indiana",
           56895
          ],
          [
           "Florida",
           43286
          ],
          [
           "Indiana",
           843393
          ],
          [
           "Florida",
           71097
          ],
          [
           "Arizona",
           37130
          ],
          [
           "Illinois",
           54771
          ],
          [
           "Rhode Island",
           80566
          ],
          [
           "Indiana",
           70373
          ],
          [
           "Kansas",
           131885
          ],
          [
           "Georgia",
           82788
          ],
          [
           "North Carolina",
           279639
          ],
          [
           "Michigan",
           75548
          ],
          [
           "Oregon",
           50444
          ],
          [
           "North Carolina",
           69079
          ],
          [
           "California",
           85285
          ],
          [
           "Alabama",
           95334
          ],
          [
           "Iowa",
           51567
          ],
          [
           "California",
           86199
          ],
          [
           "Alabama",
           84126
          ],
          [
           "Florida",
           64072
          ],
          [
           "Florida",
           60202
          ],
          [
           "Arizona",
           39383
          ],
          [
           "Florida",
           68388
          ],
          [
           "Michigan",
           82821
          ],
          [
           "New York",
           79446
          ],
          [
           "California",
           298118
          ],
          [
           "Michigan",
           58946
          ],
          [
           "Florida",
           44206
          ],
          [
           "California",
           64652
          ],
          [
           "Washington",
           91113
          ],
          [
           "California",
           112174
          ],
          [
           "Texas",
           183372
          ],
          [
           "Virginia",
           96205
          ],
          [
           "Washington",
           44919
          ],
          [
           "North Carolina",
           42214
          ],
          [
           "Iowa",
           82459
          ],
          [
           "California",
           61588
          ],
          [
           "Utah",
           36956
          ],
          [
           "California",
           58879
          ],
          [
           "Minnesota",
           62603
          ],
          [
           "Arizona",
           162592
          ],
          [
           "Arizona",
           168228
          ],
          [
           "Delaware",
           71525
          ],
          [
           "Utah",
           60519
          ],
          [
           "Michigan",
           82578
          ],
          [
           "Texas",
           143484
          ],
          [
           "North Carolina",
           51510
          ],
          [
           "Texas",
           234566
          ],
          [
           "California",
           107571
          ],
          [
           "North Dakota",
           67034
          ],
          [
           "Nevada",
           54080
          ],
          [
           "Oklahoma",
           38863
          ],
          [
           "Georgia",
           197350
          ],
          [
           "North Carolina",
           204408
          ],
          [
           "Georgia",
           76185
          ],
          [
           "New Jersey",
           44412
          ],
          [
           "California",
           44096
          ],
          [
           "California",
           56449
          ],
          [
           "Alabama",
           55816
          ],
          [
           "Tennessee",
           173366
          ],
          [
           "Indiana",
           45929
          ],
          [
           "Illinois",
           41679
          ],
          [
           "California",
           76635
          ],
          [
           "Florida",
           91026
          ],
          [
           "Tennessee",
           67685
          ],
          [
           "Texas",
           54135
          ],
          [
           "California",
           46377
          ],
          [
           "Texas",
           40714
          ],
          [
           "California",
           87273
          ],
          [
           "Utah",
           40921
          ],
          [
           "Washington",
           93257
          ],
          [
           "Ohio",
           143355
          ],
          [
           "Mississippi",
           71012
          ],
          [
           "California",
           469428
          ],
          [
           "California",
           88077
          ],
          [
           "Mississippi",
           47556
          ],
          [
           "Oregon",
           159190
          ],
          [
           "California",
           53243
          ],
          [
           "California",
           63495
          ],
          [
           "California",
           74110
          ],
          [
           "Washington",
           105370
          ],
          [
           "Kansas",
           41889
          ],
          [
           "California",
           109320
          ],
          [
           "Arizona",
           78822
          ],
          [
           "Ohio",
           48139
          ],
          [
           "Michigan",
           51848
          ],
          [
           "Minnesota",
           86319
          ],
          [
           "Illinois",
           38877
          ],
          [
           "Oregon",
           93542
          ],
          [
           "Louisiana",
           66975
          ],
          [
           "New Mexico",
           39508
          ],
          [
           "New York",
           49974
          ],
          [
           "California",
           69783
          ],
          [
           "Illinois",
           58918
          ],
          [
           "California",
           52206
          ],
          [
           "Massachusetts",
           56069
          ],
          [
           "California",
           38027
          ],
          [
           "Tennessee",
           65123
          ],
          [
           "Georgia",
           142772
          ],
          [
           "Ohio",
           40768
          ],
          [
           "Washington",
           167405
          ],
          [
           "Florida",
           90116
          ],
          [
           "Indiana",
           70316
          ],
          [
           "Utah",
           54382
          ],
          [
           "California",
           837442
          ],
          [
           "California",
           203003
          ],
          [
           "Texas",
           136791
          ],
          [
           "California",
           76572
          ],
          [
           "California",
           49417
          ],
          [
           "Ohio",
           38142
          ],
          [
           "New Jersey",
           55831
          ],
          [
           "Virginia",
           246139
          ],
          [
           "Oregon",
           97368
          ],
          [
           "California",
           45851
          ],
          [
           "Florida",
           52703
          ],
          [
           "Ohio",
           62258
          ],
          [
           "South Carolina",
           37792
          ],
          [
           "California",
           213708
          ],
          [
           "Georgia",
           40059
          ],
          [
           "California",
           121096
          ],
          [
           "Indiana",
           78450
          ],
          [
           "Arizona",
           50111
          ],
          [
           "California",
           40836
          ],
          [
           "Iowa",
           58253
          ],
          [
           "New York",
           144669
          ],
          [
           "Tennessee",
           142357
          ],
          [
           "Florida",
           100710
          ],
          [
           "New York",
           37659
          ],
          [
           "Delaware",
           37366
          ],
          [
           "Minnesota",
           39398
          ],
          [
           "California",
           39428
          ],
          [
           "Illinois",
           69350
          ],
          [
           "Washington",
           652405
          ],
          [
           "Kentucky",
           40956
          ],
          [
           "California",
           161007
          ],
          [
           "Louisiana",
           200327
          ],
          [
           "Utah",
           84249
          ],
          [
           "Virginia",
           51395
          ],
          [
           "California",
           111542
          ],
          [
           "California",
           139731
          ],
          [
           "Massachusetts",
           77657
          ],
          [
           "Oregon",
           37610
          ],
          [
           "California",
           59440
          ],
          [
           "Ohio",
           59357
          ],
          [
           "California",
           79068
          ],
          [
           "Colorado",
           345803
          ],
          [
           "Minnesota",
           86128
          ],
          [
           "Virginia",
           98465
          ],
          [
           "Oregon",
           81236
          ],
          [
           "California",
           70924
          ],
          [
           "Massachusetts",
           62227
          ],
          [
           "Florida",
           68190
          ],
          [
           "Florida",
           352957
          ],
          [
           "California",
           75413
          ],
          [
           "Virginia",
           42907
          ],
          [
           "Wisconsin",
           36888
          ],
          [
           "Florida",
           90268
          ],
          [
           "Colorado",
           439886
          ],
          [
           "California",
           204933
          ],
          [
           "Michigan",
           192294
          ],
          [
           "Illinois",
           52066
          ],
          [
           "Florida",
           53326
          ],
          [
           "California",
           98030
          ],
          [
           "California",
           77593
          ],
          [
           "Colorado",
           103166
          ],
          [
           "New Mexico",
           69976
          ],
          [
           "California",
           43092
          ],
          [
           "Massachusetts",
           39414
          ],
          [
           "California",
           316619
          ],
          [
           "California",
           157161
          ],
          [
           "California",
           54194
          ],
          [
           "Utah",
           70790
          ],
          [
           "Illinois",
           73936
          ],
          [
           "California",
           96346
          ],
          [
           "Illinois",
           45417
          ],
          [
           "California",
           45237
          ],
          [
           "California",
           73098
          ],
          [
           "Arizona",
           39791
          ],
          [
           "New Mexico",
           101324
          ],
          [
           "Montana",
           39860
          ],
          [
           "Illinois",
           74907
          ],
          [
           "Michigan",
           134873
          ],
          [
           "Missouri",
           54842
          ],
          [
           "Iowa",
           61792
          ],
          [
           "Arizona",
           123546
          ],
          [
           "Texas",
           104475
          ],
          [
           "Michigan",
           42181
          ],
          [
           "Texas",
           54076
          ],
          [
           "Pennsylvania",
           41108
          ],
          [
           "Wisconsin",
           73596
          ],
          [
           "Kansas",
           64323
          ],
          [
           "Ohio",
           46979
          ],
          [
           "California",
           85156
          ],
          [
           "North Carolina",
           792862
          ],
          [
           "Kentucky",
           58416
          ],
          [
           "Florida",
           58298
          ],
          [
           "California",
           41398
          ],
          [
           "Illinois",
           2718782
          ],
          [
           "Montana",
           109059
          ],
          [
           "Wisconsin",
           47134
          ],
          [
           "Illinois",
           43907
          ],
          [
           "Connecticut",
           130660
          ],
          [
           "Pennsylvania",
           43935
          ],
          [
           "Tennessee",
           183270
          ],
          [
           "Ohio",
           53956
          ],
          [
           "Massachusetts",
           44641
          ],
          [
           "Utah",
           48612
          ],
          [
           "California",
           76419
          ],
          [
           "California",
           71948
          ],
          [
           "Minnesota",
           39765
          ],
          [
           "Oregon",
           77677
          ],
          [
           "Tennessee",
           117044
          ],
          [
           "California",
           65416
          ],
          [
           "Connecticut",
           40999
          ],
          [
           "Iowa",
           40566
          ],
          [
           "Tennessee",
           39375
          ],
          [
           "Pennsylvania",
           75806
          ],
          [
           "Alabama",
           58582
          ],
          [
           "Virginia",
           41705
          ],
          [
           "California",
           94275
          ],
          [
           "California",
           92472
          ],
          [
           "Virginia",
           85728
          ],
          [
           "Michigan",
           72952
          ],
          [
           "California",
           39331
          ],
          [
           "West Virginia",
           50821
          ],
          [
           "California",
           52403
          ],
          [
           "Florida",
           40918
          ],
          [
           "South Carolina",
           127999
          ],
          [
           "North Carolina",
           44359
          ],
          [
           "California",
           159503
          ],
          [
           "California",
           59738
          ],
          [
           "Missouri",
           93184
          ],
          [
           "Florida",
           78740
          ],
          [
           "Utah",
           90231
          ],
          [
           "Arkansas",
           40167
          ],
          [
           "California",
           179590
          ],
          [
           "Florida",
           42150
          ],
          [
           "Texas",
           63279
          ],
          [
           "Tennessee",
           653450
          ],
          [
           "Texas",
           228653
          ],
          [
           "Virginia",
           148892
          ],
          [
           "California",
           92147
          ],
          [
           "Massachusetts",
           40249
          ],
          [
           "Georgia",
           47591
          ],
          [
           "Illinois",
           65176
          ],
          [
           "New Jersey",
           41664
          ],
          [
           "Pennsylvania",
           75018
          ],
          [
           "Missouri",
           77147
          ],
          [
           "California",
           67815
          ],
          [
           "Texas",
           2195914
          ],
          [
           "California",
           106780
          ],
          [
           "Michigan",
           117025
          ],
          [
           "Texas",
           117796
          ],
          [
           "Michigan",
           48554
          ],
          [
           "California",
           56105
          ],
          [
           "Florida",
           63155
          ],
          [
           "Nebraska",
           53663
          ],
          [
           "Florida",
           162329
          ],
          [
           "Arkansas",
           75229
          ],
          [
           "California",
           203007
          ],
          [
           "Texas",
           110720
          ],
          [
           "Oklahoma",
           47186
          ],
          [
           "Massachusetts",
           94089
          ],
          [
           "New Jersey",
           65028
          ],
          [
           "California",
           54980
          ],
          [
           "Illinois",
           43116
          ],
          [
           "Mississippi",
           40921
          ],
          [
           "Tennessee",
           42774
          ],
          [
           "New Jersey",
           257342
          ],
          [
           "Minnesota",
           294873
          ],
          [
           "Florida",
           86290
          ],
          [
           "New York",
           43167
          ],
          [
           "Iowa",
           71591
          ],
          [
           "California",
           345012
          ],
          [
           "Minnesota",
           50201
          ],
          [
           "Montana",
           59351
          ],
          [
           "Utah",
           133579
          ],
          [
           "Virginia",
           136699
          ],
          [
           "Texas",
           54898
          ],
          [
           "Utah",
           91648
          ],
          [
           "California",
           37101
          ],
          [
           "Texas",
           42907
          ],
          [
           "South Carolina",
           39823
          ],
          [
           "Arkansas",
           197357
          ],
          [
           "California",
           334227
          ],
          [
           "New York",
           57866
          ],
          [
           "Idaho",
           58292
          ],
          [
           "Washington",
           133992
          ],
          [
           "California",
           127035
          ],
          [
           "New Jersey",
           51982
          ],
          [
           "Massachusetts",
           52044
          ],
          [
           "Nebraska",
           50550
          ],
          [
           "Missouri",
           115276
          ],
          [
           "Wisconsin",
           78199
          ],
          [
           "Indiana",
           85927
          ],
          [
           "Michigan",
           47523
          ],
          [
           "Ohio",
           48630
          ],
          [
           "California",
           56590
          ],
          [
           "Massachusetts",
           53756
          ],
          [
           "Texas",
           53224
          ],
          [
           "Illinois",
           75994
          ],
          [
           "California",
           81750
          ],
          [
           "North Carolina",
           107741
          ],
          [
           "Ohio",
           47777
          ],
          [
           "Oklahoma",
           56756
          ],
          [
           "California",
           89387
          ],
          [
           "Florida",
           57203
          ],
          [
           "California",
           81121
          ],
          [
           "Ohio",
           37530
          ],
          [
           "Illinois",
           150251
          ],
          [
           "California",
           102211
          ],
          [
           "Florida",
           249688
          ],
          [
           "Illinois",
           49670
          ],
          [
           "Connecticut",
           51644
          ],
          [
           "Oregon",
           51583
          ],
          [
           "Nevada",
           603488
          ],
          [
           "Texas",
           152735
          ],
          [
           "Florida",
           171016
          ],
          [
           "Iowa",
           128429
          ],
          [
           "Florida",
           38661
          ],
          [
           "Massachusetts",
           93494
          ],
          [
           "Florida",
           130288
          ],
          [
           "Texas",
           674433
          ],
          [
           "Kansas",
           127679
          ],
          [
           "California",
           54561
          ],
          [
           "Oregon",
           37064
          ],
          [
           "Minnesota",
           51368
          ],
          [
           "Ohio",
           198100
          ],
          [
           "Texas",
           80836
          ],
          [
           "California",
           171386
          ],
          [
           "South Carolina",
           104054
          ],
          [
           "Kentucky",
           609893
          ],
          [
           "California",
           52477
          ],
          [
           "Florida",
           56792
          ],
          [
           "Florida",
           51763
          ],
          [
           "California",
           110972
          ],
          [
           "Texas",
           46081
          ],
          [
           "California",
           91119
          ],
          [
           "Michigan",
           74100
          ],
          [
           "Ohio",
           63710
          ],
          [
           "Utah",
           37733
          ],
          [
           "Florida",
           172389
          ],
          [
           "Georgia",
           72531
          ],
          [
           "Florida",
           109703
          ],
          [
           "Florida",
           43328
          ],
          [
           "Alabama",
           40059
          ],
          [
           "Indiana",
           61025
          ],
          [
           "Texas",
           70190
          ],
          [
           "Ohio",
           45712
          ],
          [
           "South Dakota",
           164676
          ],
          [
           "Indiana",
           45775
          ],
          [
           "Florida",
           55456
          ],
          [
           "Massachusetts",
           41002
          ],
          [
           "Rhode Island",
           81971
          ],
          [
           "California",
           363630
          ],
          [
           "Florida",
           417650
          ],
          [
           "Louisiana",
           74024
          ],
          [
           "Washington",
           52413
          ],
          [
           "North Carolina",
           40361
          ],
          [
           "California",
           66174
          ],
          [
           "Minnesota",
           73987
          ],
          [
           "Indiana",
           100886
          ],
          [
           "Oklahoma",
           87004
          ],
          [
           "Iowa",
           207510
          ],
          [
           "Florida",
           47547
          ],
          [
           "Utah",
           45285
          ],
          [
           "California",
           86635
          ],
          [
           "Michigan",
           95208
          ],
          [
           "Wisconsin",
           599164
          ],
          [
           "Washington",
           74860
          ],
          [
           "South Carolina",
           41190
          ],
          [
           "Massachusetts",
           40664
          ],
          [
           "Washington",
           97003
          ],
          [
           "Colorado",
           106114
          ],
          [
           "Virginia",
           214114
          ],
          [
           "Indiana",
           55670
          ],
          [
           "California",
           40481
          ],
          [
           "Texas",
           53752
          ],
          [
           "New Jersey",
           52575
          ],
          [
           "Kentucky",
           308428
          ],
          [
           "California",
           106589
          ],
          [
           "Arizona",
           91923
          ],
          [
           "California",
           54291
          ],
          [
           "Illinois",
           40379
          ],
          [
           "Illinois",
           147806
          ],
          [
           "South Carolina",
           69103
          ],
          [
           "California",
           67911
          ],
          [
           "Michigan",
           56620
          ],
          [
           "Hawaii",
           347884
          ],
          [
           "Texas",
           65098
          ],
          [
           "Massachusetts",
           43886
          ],
          [
           "Texas",
           44575
          ],
          [
           "Texas",
           126700
          ],
          [
           "Illinois",
           41734
          ],
          [
           "Illinois",
           52398
          ],
          [
           "Massachusetts",
           48514
          ],
          [
           "Florida",
           59212
          ],
          [
           "Maryland",
           64072
          ],
          [
           "California",
           104709
          ],
          [
           "California",
           138981
          ],
          [
           "Wisconsin",
           66778
          ],
          [
           "Texas",
           39795
          ],
          [
           "Michigan",
           81295
          ],
          [
           "California",
           63771
          ],
          [
           "California",
           49707
          ],
          [
           "California",
           40435
          ],
          [
           "Colorado",
           59778
          ],
          [
           "Oklahoma",
           50725
          ],
          [
           "California",
           998537
          ],
          [
           "Texas",
           109821
          ],
          [
           "Minnesota",
           65415
          ],
          [
           "Oklahoma",
           118197
          ],
          [
           "Florida",
           64079
          ],
          [
           "Texas",
           37587
          ],
          [
           "California",
           236716
          ],
          [
           "Idaho",
           54350
          ],
          [
           "California",
           38606
          ],
          [
           "Wisconsin",
           48725
          ],
          [
           "Louisiana",
           66333
          ],
          [
           "Texas",
           61238
          ],
          [
           "Georgia",
           99770
          ],
          [
           "Illinois",
           83424
          ],
          [
           "New Jersey",
           85390
          ],
          [
           "Oklahoma",
           58414
          ],
          [
           "Missouri",
           53294
          ],
          [
           "California",
           159523
          ],
          [
           "Texas",
           78709
          ],
          [
           "Texas",
           38448
          ],
          [
           "Florida",
           165831
          ],
          [
           "California",
           60189
          ],
          [
           "Massachusetts",
           44057
          ],
          [
           "California",
           51701
          ],
          [
           "New Hampshire",
           110378
          ],
          [
           "Virginia",
           448479
          ],
          [
           "Kansas",
           47846
          ],
          [
           "Massachusetts",
           78804
          ],
          [
           "Florida",
           78409
          ],
          [
           "California",
           509924
          ],
          [
           "Alabama",
           37498
          ],
          [
           "Illinois",
           56758
          ],
          [
           "Florida",
           50699
          ],
          [
           "Rhode Island",
           71172
          ],
          [
           "California",
           40275
          ],
          [
           "North Carolina",
           236441
          ],
          [
           "Georgia",
           62298
          ],
          [
           "Missouri",
           82809
          ],
          [
           "California",
           80872
          ],
          [
           "California",
           72528
          ],
          [
           "Florida",
           38632
          ],
          [
           "Minnesota",
           40641
          ],
          [
           "California",
           50175
          ],
          [
           "California",
           83447
          ],
          [
           "Colorado",
           71334
          ],
          [
           "Illinois",
           38241
          ],
          [
           "Rhode Island",
           177994
          ],
          [
           "Florida",
           233394
          ],
          [
           "California",
           74513
          ],
          [
           "California",
           167500
          ],
          [
           "Washington",
           84430
          ],
          [
           "Utah",
           76817
          ],
          [
           "South Carolina",
           39412
          ],
          [
           "California",
           196021
          ],
          [
           "Connecticut",
           60456
          ],
          [
           "California",
           59957
          ],
          [
           "Massachusetts",
           41301
          ],
          [
           "Illinois",
           110145
          ],
          [
           "Texas",
           274409
          ],
          [
           "Colorado",
           89919
          ],
          [
           "Texas",
           40342
          ],
          [
           "Ohio",
           51143
          ],
          [
           "Arkansas",
           71551
          ],
          [
           "Texas",
           100050
          ],
          [
           "Michigan",
           95884
          ],
          [
           "New York",
           61808
          ],
          [
           "Louisiana",
           49761
          ],
          [
           "Maryland",
           622104
          ],
          [
           "Missouri",
           164122
          ],
          [
           "Arkansas",
           46094
          ],
          [
           "New Jersey",
           50588
          ],
          [
           "Massachusetts",
           91589
          ],
          [
           "Minnesota",
           65656
          ],
          [
           "Florida",
           127488
          ],
          [
           "California",
           49891
          ],
          [
           "Washington",
           50169
          ],
          [
           "Florida",
           37199
          ],
          [
           "Arkansas",
           78960
          ],
          [
           "California",
           58994
          ],
          [
           "Arkansas",
           63816
          ],
          [
           "Washington",
           203446
          ],
          [
           "Connecticut",
           47333
          ],
          [
           "Vermont",
           42284
          ],
          [
           "Idaho",
           45981
          ],
          [
           "Texas",
           39296
          ],
          [
           "New York",
           8405837
          ],
          [
           "California",
           126181
          ],
          [
           "California",
           107740
          ],
          [
           "Colorado",
           53063
          ],
          [
           "Georgia",
           56481
          ],
          [
           "Texas",
           792727
          ],
          [
           "California",
           92599
          ],
          [
           "Indiana",
           120310
          ],
          [
           "California",
           102216
          ],
          [
           "Tennessee",
           40021
          ],
          [
           "California",
           58642
          ],
          [
           "Colorado",
           110945
          ],
          [
           "Pennsylvania",
           87893
          ],
          [
           "California",
           70365
          ],
          [
           "Colorado",
           96539
          ],
          [
           "Texas",
           100223
          ],
          [
           "Florida",
           37711
          ],
          [
           "Texas",
           129030
          ],
          [
           "California",
           37165
          ],
          [
           "California",
           128731
          ],
          [
           "California",
           47842
          ],
          [
           "Connecticut",
           147216
          ],
          [
           "Minnesota",
           47411
          ],
          [
           "Missouri",
           47749
          ],
          [
           "Florida",
           38696
          ],
          [
           "Washington",
           67599
          ],
          [
           "California",
           147478
          ],
          [
           "Wisconsin",
           243344
          ],
          [
           "Wisconsin",
           63820
          ],
          [
           "Illinois",
           88826
          ],
          [
           "Kentucky",
           61488
          ],
          [
           "Texas",
           379577
          ],
          [
           "Texas",
           101074
          ],
          [
           "New Mexico",
           45426
          ],
          [
           "California",
           38194
          ],
          [
           "California",
           66642
          ],
          [
           "Oregon",
           60177
          ],
          [
           "Massachusetts",
           95078
          ],
          [
           "Washington",
           57530
          ],
          [
           "California",
           55000
          ],
          [
           "California",
           66205
          ],
          [
           "California",
           49133
          ],
          [
           "Tennessee",
           43060
          ],
          [
           "Pennsylvania",
           45796
          ],
          [
           "Alabama",
           68001
          ],
          [
           "New Jersey",
           64544
          ],
          [
           "Illinois",
           57282
          ],
          [
           "Mississippi",
           44820
          ],
          [
           "Illinois",
           41752
          ],
          [
           "California",
           175140
          ],
          [
           "California",
           71371
          ],
          [
           "Colorado",
           37499
          ],
          [
           "Ohio",
           72535
          ],
          [
           "Georgia",
           50603
          ],
          [
           "Louisiana",
           229426
          ],
          [
           "Connecticut",
           60568
          ],
          [
           "Missouri",
           117240
          ],
          [
           "Michigan",
           113972
          ],
          [
           "Illinois",
           58590
          ],
          [
           "New Jersey",
           61050
          ],
          [
           "Wisconsin",
           104779
          ],
          [
           "Illinois",
           75570
          ],
          [
           "Florida",
           39172
          ],
          [
           "California",
           3884307
          ],
          [
           "Washington",
           92734
          ],
          [
           "Utah",
           110077
          ],
          [
           "California",
           52536
          ],
          [
           "Pennsylvania",
           305841
          ],
          [
           "California",
           113242
          ],
          [
           "Illinois",
           84103
          ],
          [
           "California",
           95677
          ],
          [
           "Florida",
           36877
          ],
          [
           "Missouri",
           50789
          ],
          [
           "Texas",
           90983
          ],
          [
           "Utah",
           191180
          ],
          [
           "Florida",
           43074
          ],
          [
           "Arizona",
           1513367
          ],
          [
           "Oregon",
           55298
          ],
          [
           "Texas",
           46663
          ],
          [
           "Massachusetts",
           55717
          ],
          [
           "Florida",
           57468
          ],
          [
           "Georgia",
           94034
          ],
          [
           "Illinois",
           37839
          ],
          [
           "New Hampshire",
           42419
          ],
          [
           "Washington",
           48338
          ],
          [
           "California",
           197575
          ],
          [
           "Texas",
           316381
          ],
          [
           "Massachusetts",
           62088
          ],
          [
           "Illinois",
           38510
          ],
          [
           "Massachusetts",
           107289
          ],
          [
           "Arizona",
           234632
          ],
          [
           "California",
           38623
          ],
          [
           "South Carolina",
           46074
          ],
          [
           "Iowa",
           102157
          ],
          [
           "Florida",
           89407
          ],
          [
           "Connecticut",
           72939
          ],
          [
           "Michigan",
           47555
          ],
          [
           "Ohio",
           45394
          ],
          [
           "Oregon",
           109397
          ],
          [
           "Florida",
           69813
          ],
          [
           "Tennessee",
           54068
          ],
          [
           "California",
           120245
          ],
          [
           "California",
           172794
          ],
          [
           "California",
           79312
          ],
          [
           "Michigan",
           57960
          ],
          [
           "New Jersey",
           52122
          ],
          [
           "Massachusetts",
           42935
          ],
          [
           "New Jersey",
           41301
          ],
          [
           "North Carolina",
           87236
          ],
          [
           "California",
           97877
          ]
         ],
         "hoverlabel": {
          "namelength": 0
         },
         "hovertemplate": "<b>%{hovertext}</b><br><br>State=%{customdata[0]}<br>Population=%{customdata[1]}<br>lat=%{lat}<br>lon=%{lon}",
         "hovertext": [
          "Marysville",
          "Perris",
          "Cleveland",
          "Worcester",
          "Columbia",
          "Waterbury",
          "Eagan",
          "Southfield",
          "Lafayette",
          "Boise City",
          "Elkhart",
          "Buena Park",
          "Marietta",
          "Parker",
          "West Palm Beach",
          "Salem",
          "Aurora",
          "Leesburg",
          "Doral",
          "Westminster",
          "Lubbock",
          "Overland Park",
          "Jackson",
          "Gastonia",
          "Daytona Beach",
          "Kansas City",
          "Rancho Palos Verdes",
          "Burnsville",
          "Rowlett",
          "Roswell",
          "Montgomery",
          "Logan",
          "Woburn",
          "Allentown",
          "Mount Pleasant",
          "Columbus",
          "Buffalo",
          "New Berlin",
          "North Richland Hills",
          "Lima",
          "Sacramento",
          "Fort Smith",
          "East Providence",
          "Urbandale",
          "Mount Vernon",
          "Lakewood",
          "Henderson",
          "Covina",
          "Stamford",
          "Bloomington",
          "Kingsport",
          "Spokane",
          "Kennewick",
          "Philadelphia",
          "Bellingham",
          "Visalia",
          "La Crosse",
          "Council Bluffs",
          "North Lauderdale",
          "Dallas",
          "Antioch",
          "Sterling Heights",
          "Deerfield Beach",
          "Fishers",
          "Cheyenne",
          "Murrieta",
          "Lenexa",
          "Noblesville",
          "Southaven",
          "Chino",
          "Gaithersburg",
          "Fountain Valley",
          "Frederick",
          "Greenville",
          "DeKalb",
          "West Allis",
          "Thornton",
          "West Des Moines",
          "Fall River",
          "Tulare",
          "Chula Vista",
          "Coral Springs",
          "Concord",
          "Smyrna",
          "Apopka",
          "Grand Forks",
          "Lancaster",
          "Naperville",
          "Hollywood",
          "Rogers",
          "New Orleans",
          "Lakewood",
          "Oak Lawn",
          "Caldwell",
          "Portland",
          "Concord",
          "Burien",
          "St. Charles",
          "Waukesha",
          "Flagstaff",
          "Puyallup",
          "Schenectady",
          "Denver",
          "Springfield",
          "Campbell",
          "Moreno Valley",
          "Kettering",
          "Lincoln Park",
          "Lake Havasu City",
          "North Little Rock",
          "Reno",
          "Littleton",
          "Prescott",
          "Dublin",
          "Texarkana",
          "Portland",
          "Brooklyn Park",
          "West Haven",
          "El Centro",
          "The Colony",
          "Flint",
          "Pittsburg",
          "Buckeye",
          "Brea",
          "Indio",
          "Scottsdale",
          "Columbus",
          "Lancaster",
          "Lincoln",
          "Trenton",
          "Boston",
          "Glendora",
          "Rochester",
          "Florissant",
          "Annapolis",
          "Chapel Hill",
          "Lawrence",
          "Calexico",
          "Calumet City",
          "Missoula",
          "Clovis",
          "Pearland",
          "Gilbert",
          "Wausau",
          "Raleigh",
          "Orange",
          "Walnut Creek",
          "Bremerton",
          "Porterville",
          "Marana",
          "Tallahassee",
          "Conroe",
          "Blacksburg",
          "San Antonio",
          "Hartford",
          "Waterloo",
          "Binghamton",
          "Meridian",
          "Fond du Lac",
          "Baytown",
          "Cary",
          "Weymouth Town",
          "Tulsa",
          "Mission",
          "Cuyahoga Falls",
          "Malden",
          "Allen",
          "Tucson",
          "Franklin",
          "Shakopee",
          "Jacksonville",
          "Atlantic City",
          "Erie",
          "Merced",
          "Abilene",
          "Yorba Linda",
          "Greenville",
          "Huntersville",
          "St. Clair Shores",
          "Harrisburg",
          "San Buenaventura (Ventura)",
          "Fremont",
          "Pueblo",
          "Chelsea",
          "Belleville",
          "Minneapolis",
          "Bartlett",
          "Wichita Falls",
          "Missouri City",
          "St. Louis",
          "Pharr",
          "Albuquerque",
          "Athens-Clarke County",
          "South Jordan",
          "North Las Vegas",
          "Pomona",
          "Eastvale",
          "Grove City",
          "Lawrence",
          "Midland",
          "Oklahoma City",
          "Oro Valley",
          "Mesa",
          "Norwalk",
          "Kentwood",
          "Brookfield",
          "Rockwall",
          "Mishawaka",
          "Tustin",
          "St. Cloud",
          "Passaic",
          "Escondido",
          "San Bruno",
          "Berkeley",
          "San Clemente",
          "Lawton",
          "Eau Claire",
          "Maricopa",
          "DeSoto",
          "Fort Wayne",
          "Shoreline",
          "Medford",
          "La Habra",
          "Albany",
          "Daly City",
          "Taylor",
          "Lynchburg",
          "Bowie",
          "Danbury",
          "Charlottesville",
          "Coral Gables",
          "Coeur d'Alene",
          "El Monte",
          "Crystal Lake",
          "Danville",
          "Goodyear",
          "Paterson",
          "Salem",
          "Kissimmee",
          "Saginaw",
          "Brownsville",
          "Flower Mound",
          "Grapevine",
          "Edina",
          "Detroit",
          "Fairfield",
          "Mansfield",
          "Rochester",
          "Birmingham",
          "Austin",
          "Santa Barbara",
          "Addison",
          "Rio Rancho",
          "Normal",
          "Romeoville",
          "Coon Rapids",
          "San Mateo",
          "Orlando",
          "Casper",
          "Bedford",
          "Wilmington",
          "Pinellas Park",
          "North Miami Beach",
          "Kansas City",
          "Fitchburg",
          "Wheeling",
          "Newton",
          "North Miami",
          "Norwich",
          "Newark",
          "Alexandria",
          "Blaine",
          "Harlingen",
          "Lompoc",
          "Denton",
          "Galveston",
          "Greenwood",
          "Salinas",
          "Miami Gardens",
          "Huntington",
          "Laredo",
          "Melbourne",
          "Haltom City",
          "Palm Bay",
          "Wilson",
          "Bountiful",
          "Ceres",
          "Parma",
          "Rapid City",
          "Bell Gardens",
          "Commerce City",
          "Springfield",
          "Fort Collins",
          "San Leandro",
          "Vista",
          "Yonkers",
          "Cincinnati",
          "Hagerstown",
          "Sanford",
          "Union City",
          "Toledo",
          "Sierra Vista",
          "Newport News",
          "Hammond",
          "Buffalo Grove",
          "Sugar Land",
          "Huntsville",
          "Lodi",
          "Edmonds",
          "Duncanville",
          "Rocky Mount",
          "Pontiac",
          "National City",
          "Hayward",
          "Niagara Falls",
          "Sparks",
          "Hanford",
          "Cypress",
          "Youngstown",
          "Madison",
          "Redlands",
          "Cape Girardeau",
          "Nampa",
          "Washington",
          "Wheaton",
          "Lancaster",
          "Rialto",
          "Fargo",
          "Peoria",
          "Omaha",
          "Rancho Santa Margarita",
          "Manhattan",
          "Palm Springs",
          "San Diego",
          "Santa Rosa",
          "Lowell",
          "Broken Arrow",
          "Kent",
          "Nashville",
          "Hackensack",
          "Broomfield",
          "Durham",
          "Wichita",
          "Cathedral City",
          "Lakeville",
          "Elmhurst",
          "Weslaco",
          "Greenfield",
          "Sunnyvale",
          "Santa Cruz",
          "Kenosha",
          "State College",
          "Mansfield",
          "Quincy",
          "Pompano Beach",
          "San Angelo",
          "Bloomington",
          "Tracy",
          "Spartanburg",
          "Nashua",
          "Macon",
          "Hempstead",
          "Camden",
          "Palm Desert",
          "Streamwood",
          "Chesapeake",
          "Dublin",
          "Camarillo",
          "Muskegon",
          "Elizabeth",
          "Anchorage",
          "Minot",
          "Davie",
          "McAllen",
          "McKinney",
          "Killeen",
          "Findlay",
          "Oakland",
          "Mountain View",
          "Lake Elsinore",
          "Amarillo",
          "Provo",
          "Atlanta",
          "Monterey Park",
          "Strongsville",
          "Madera",
          "Decatur",
          "Woonsocket",
          "Mobile",
          "Vallejo",
          "Arcadia",
          "Collierville",
          "Jefferson City",
          "Longview",
          "Chandler",
          "Arvada",
          "Alhambra",
          "Kokomo",
          "Oakland Park",
          "Indianapolis",
          "Boynton Beach",
          "Apache Junction",
          "Mount Prospect",
          "Cranston",
          "Lafayette",
          "Olathe",
          "Johns Creek",
          "Greensboro",
          "Kalamazoo",
          "Tigard",
          "Jacksonville",
          "Citrus Heights",
          "Tuscaloosa",
          "Ankeny",
          "Hawthorne",
          "Hoover",
          "Delray Beach",
          "Wellington",
          "Bullhead City",
          "Weston",
          "Troy",
          "New Rochelle",
          "Stockton",
          "Royal Oak",
          "Titusville",
          "Laguna Niguel",
          "Spokane Valley",
          "Costa Mesa",
          "Grand Prairie",
          "Portsmouth",
          "Lacey",
          "Apex",
          "Sioux City",
          "Encinitas",
          "Spanish Fork",
          "Huntington Park",
          "Eden Prairie",
          "Peoria",
          "Tempe",
          "Wilmington",
          "Taylorsville",
          "Westland",
          "Mesquite",
          "Burlington",
          "Garland",
          "Richmond",
          "Bismarck",
          "Carson City",
          "Muskogee",
          "Augusta-Richmond County",
          "Fayetteville",
          "Albany",
          "Sayreville",
          "Newark",
          "Diamond Bar",
          "Decatur",
          "Chattanooga",
          "Jeffersonville",
          "Bartlett",
          "Baldwin Park",
          "Miami Beach",
          "Jackson",
          "Port Arthur",
          "San Luis Obispo",
          "Burleson",
          "Newport Beach",
          "Riverton",
          "Yakima",
          "Dayton",
          "Gulfport",
          "Long Beach",
          "Chico",
          "Hattiesburg",
          "Eugene",
          "Colton",
          "Montebello",
          "Pleasanton",
          "Everett",
          "Hutchinson",
          "Fairfield",
          "Avondale",
          "Euclid",
          "Battle Creek",
          "Bloomington",
          "Rock Island",
          "Beaverton",
          "Kenner",
          "Clovis",
          "Troy",
          "Milpitas",
          "Des Plaines",
          "Placentia",
          "Taunton",
          "Montclair",
          "Johnson City",
          "Savannah",
          "Warren",
          "Vancouver",
          "Sunrise",
          "Muncie",
          "Lehi",
          "San Francisco",
          "Fontana",
          "Frisco",
          "Chino Hills",
          "Poway",
          "Huber Heights",
          "New Brunswick",
          "Norfolk",
          "Hillsboro",
          "San Jacinto",
          "Pensacola",
          "Hamilton",
          "Florence",
          "San Bernardino",
          "Peachtree Corners",
          "Victorville",
          "Gary",
          "Casa Grande",
          "Morgan Hill",
          "Dubuque",
          "Syracuse",
          "Clarksville",
          "Lakeland",
          "Valley Stream",
          "Dover",
          "Moorhead",
          "Culver City",
          "Palatine",
          "Seattle",
          "Covington",
          "Elk Grove",
          "Shreveport",
          "Ogden",
          "Harrisonburg",
          "Inglewood",
          "Pasadena",
          "Lawrence",
          "Lake Oswego",
          "Petaluma",
          "Springfield",
          "Napa",
          "Aurora",
          "Duluth",
          "Roanoke",
          "Bend",
          "Apple Valley",
          "Waltham",
          "Fort Myers",
          "Tampa",
          "Upland",
          "Danville",
          "Beloit",
          "Plantation",
          "Colorado Springs",
          "Modesto",
          "Grand Rapids",
          "Oak Park",
          "Sarasota",
          "Jurupa Valley",
          "Bellflower",
          "Boulder",
          "Santa Fe",
          "Coachella",
          "Marlborough",
          "Riverside",
          "Palmdale",
          "Novato",
          "Layton",
          "Bolingbrook",
          "Mission Viejo",
          "Glenview",
          "Lincoln",
          "Folsom",
          "Prescott Valley",
          "Las Cruces",
          "Bozeman",
          "Schaumburg",
          "Warren",
          "St. Peters",
          "Ames",
          "Surprise",
          "Richardson",
          "Midland",
          "San Marcos",
          "Wilkes-Barre",
          "Appleton",
          "Shawnee",
          "Mentor",
          "Livermore",
          "Charlotte",
          "Owensboro",
          "Jupiter",
          "Rohnert Park",
          "Chicago",
          "Billings",
          "Wauwatosa",
          "Lombard",
          "New Haven",
          "York",
          "Knoxville",
          "Elyria",
          "Barnstable Town",
          "Murray",
          "Alameda",
          "Manteca",
          "Maplewood",
          "Medford",
          "Murfreesboro",
          "Yuba City",
          "Shelton",
          "Cedar Falls",
          "Germantown",
          "Scranton",
          "Auburn",
          "Manassas",
          "Vacaville",
          "Santa Monica",
          "Suffolk",
          "Rochester Hills",
          "La Quinta",
          "Charleston",
          "Delano",
          "St. Cloud",
          "Charleston",
          "Kannapolis",
          "Corona",
          "Rocklin",
          "Lee's Summit",
          "Palm Coast",
          "Sandy",
          "Bentonville",
          "Santa Clarita",
          "Altamonte Springs",
          "New Braunfels",
          "Memphis",
          "Irving",
          "Alexandria",
          "Hesperia",
          "Holyoke",
          "Dunwoody",
          "Skokie",
          "Kearny",
          "Bethlehem",
          "St. Joseph",
          "Redondo Beach",
          "Houston",
          "Temecula",
          "Ann Arbor",
          "Beaumont",
          "East Lansing",
          "Santee",
          "Tamarac",
          "Bellevue",
          "Pembroke Pines",
          "Springdale",
          "Oxnard",
          "Odessa",
          "Stillwater",
          "Brockton",
          "Bayonne",
          "Paramount",
          "Moline",
          "Meridian",
          "Cleveland",
          "Jersey City",
          "St. Paul",
          "Deltona",
          "Freeport",
          "Iowa City",
          "Anaheim",
          "Apple Valley",
          "Great Falls",
          "West Valley City",
          "Hampton",
          "Georgetown",
          "Orem",
          "Monrovia",
          "Keller",
          "Goose Creek",
          "Little Rock",
          "Santa Ana",
          "White Plains",
          "Idaho Falls",
          "Bellevue",
          "Roseville",
          "Perth Amboy",
          "Peabody",
          "Grand Island",
          "Columbia",
          "Racine",
          "Carmel",
          "Portage",
          "Middletown",
          "Woodland",
          "Revere",
          "Euless",
          "Arlington Heights",
          "Hemet",
          "High Point",
          "Newark",
          "Midwest City",
          "San Marcos",
          "Port Orange",
          "Lakewood",
          "Westerville",
          "Rockford",
          "El Cajon",
          "St. Petersburg",
          "Downers Grove",
          "Milford",
          "Albany",
          "Las Vegas",
          "Pasadena",
          "Port St. Lucie",
          "Cedar Rapids",
          "Ormond Beach",
          "Quincy",
          "Miramar",
          "El Paso",
          "Topeka",
          "Rosemead",
          "Keizer",
          "Minnetonka",
          "Akron",
          "Edinburg",
          "Rancho Cucamonga",
          "North Charleston",
          "Louisville",
          "Watsonville",
          "Coconut Creek",
          "Bradenton",
          "Carlsbad",
          "Texas City",
          "Redding",
          "Wyoming",
          "Lorain",
          "Roy",
          "Fort Lauderdale",
          "Warner Robins",
          "Clearwater",
          "Cutler Bay",
          "Florence",
          "Terre Haute",
          "Temple",
          "Beavercreek",
          "Sioux Falls",
          "Columbus",
          "Margate",
          "Leominster",
          "Warwick",
          "Bakersfield",
          "Miami",
          "Lake Charles",
          "Richland",
          "Hickory",
          "South San Francisco",
          "Plymouth",
          "South Bend",
          "Edmond",
          "Des Moines",
          "Bonita Springs",
          "Draper",
          "Whittier",
          "Livonia",
          "Milwaukee",
          "Auburn",
          "Sumter",
          "Beverly",
          "Renton",
          "Centennial",
          "Richmond",
          "Anderson",
          "Beaumont",
          "Pflugerville",
          "Hoboken",
          "Lexington-Fayette",
          "Norwalk",
          "Yuma",
          "Highland",
          "Carol Stream",
          "Joliet",
          "Rock Hill",
          "Rancho Cordova",
          "Dearborn Heights",
          "Honolulu",
          "Victoria",
          "Attleboro",
          "Wylie",
          "Carrollton",
          "Plainfield",
          "Hoffman Estates",
          "Methuen",
          "North Port",
          "Rockville",
          "Burbank",
          "Fullerton",
          "Oshkosh",
          "Huntsville",
          "Farmington Hills",
          "Pico Rivera",
          "Cerritos",
          "La Puente",
          "Grand Junction",
          "Enid",
          "San Jose",
          "Round Rock",
          "Maple Grove",
          "Norman",
          "Homestead",
          "Friendswood",
          "Irvine",
          "Pocatello",
          "Pacifica",
          "Sheboygan",
          "Bossier City",
          "Cedar Park",
          "Sandy Springs",
          "Champaign",
          "Clifton",
          "Moore",
          "Blue Springs",
          "Lancaster",
          "Bryan",
          "Hurst",
          "Cape Coral",
          "Cupertino",
          "Pittsfield",
          "Gilroy",
          "Manchester",
          "Virginia Beach",
          "Salina",
          "Somerville",
          "Largo",
          "Fresno",
          "Phenix City",
          "Berwyn",
          "Palm Beach Gardens",
          "Pawtucket",
          "San Gabriel",
          "Winston-Salem",
          "Alpharetta",
          "O'Fallon",
          "Redwood City",
          "Union City",
          "Hallandale Beach",
          "Mankato",
          "Aliso Viejo",
          "Menifee",
          "Loveland",
          "Carpentersville",
          "Providence",
          "Hialeah",
          "San Ramon",
          "Ontario",
          "Kirkland",
          "St. George",
          "Hilton Head Island",
          "Glendale",
          "Meriden",
          "Gardena",
          "Westfield",
          "Elgin",
          "Plano",
          "Longmont",
          "Coppell",
          "Lakewood",
          "Jonesboro",
          "College Station",
          "Dearborn",
          "Utica",
          "Monroe",
          "Baltimore",
          "Springfield",
          "Pine Bluff",
          "Plainfield",
          "Lynn",
          "Woodbury",
          "Gainesville",
          "West Sacramento",
          "Sammamish",
          "Aventura",
          "Fayetteville",
          "San Rafael",
          "Conway",
          "Tacoma",
          "Middletown",
          "Burlington",
          "Twin Falls",
          "Sherman",
          "New York",
          "Simi Valley",
          "West Covina",
          "Castle Rock",
          "Valdosta",
          "Fort Worth",
          "Carson",
          "Evansville",
          "Santa Maria",
          "Brentwood",
          "La Mesa",
          "Westminster",
          "Reading",
          "Turlock",
          "Greeley",
          "Tyler",
          "Winter Garden",
          "Waco",
          "Martinez",
          "Thousand Oaks",
          "Azusa",
          "Bridgeport",
          "St. Louis Park",
          "Chesterfield",
          "Greenacres",
          "Pasco",
          "Torrance",
          "Madison",
          "Janesville",
          "Waukegan",
          "Bowling Green",
          "Arlington",
          "Lewisville",
          "Farmington",
          "Oakley",
          "Palo Alto",
          "Springfield",
          "New Bedford",
          "Redmond",
          "Brentwood",
          "Davis",
          "La Mirada",
          "Smyrna",
          "Altoona",
          "Dothan",
          "East Orange",
          "Tinley Park",
          "Biloxi",
          "Urbana",
          "Garden Grove",
          "Lynwood",
          "Northglenn",
          "Canton",
          "Brookhaven",
          "Baton Rouge",
          "Bristol",
          "Independence",
          "Lansing",
          "Orland Park",
          "Vineland",
          "Green Bay",
          "Evanston",
          "Ocoee",
          "Los Angeles",
          "Federal Way",
          "West Jordan",
          "Yucaipa",
          "Pittsburgh",
          "Downey",
          "Cicero",
          "South Gate",
          "Panama City",
          "Joplin",
          "League City",
          "Salt Lake City",
          "Fort Pierce",
          "Phoenix",
          "Corvallis",
          "Cedar Hill",
          "Chicopee",
          "Ocala",
          "Roswell",
          "Park Ridge",
          "Concord",
          "Olympia",
          "Huntington Beach",
          "Corpus Christi",
          "Haverhill",
          "Hanover Park",
          "Cambridge",
          "Glendale",
          "Stanton",
          "Summerville",
          "Davenport",
          "Boca Raton",
          "New Britain",
          "Roseville",
          "Cleveland Heights",
          "Gresham",
          "Lauderhill",
          "Hendersonville",
          "Santa Clara",
          "Oceanside",
          "Lake Forest",
          "Novi",
          "West New York",
          "Everett",
          "Linden",
          "Asheville",
          "Compton"
         ],
         "lat": [
          48.0517637,
          33.7825194,
          41.49932,
          42.26259320000001,
          34.0007104,
          41.55815250000001,
          44.80413220000001,
          42.4733688,
          30.2240897,
          43.6187102,
          41.6819935,
          33.8675143,
          33.952602,
          39.5186002,
          26.7153424,
          42.51954,
          41.7605849,
          39.1156615,
          25.8195424,
          33.7513419,
          33.5778631,
          38.9822282,
          32.298757300000005,
          35.262082,
          29.2108147,
          39.0997265,
          33.7444613,
          44.7677424,
          32.9029017,
          33.3942655,
          32.366805199999995,
          41.7369803,
          42.4792618,
          40.6084305,
          32.8323225,
          32.4609764,
          42.8864468,
          42.9764027,
          32.8342952,
          40.742551,
          38.5815719,
          35.38592420000001,
          41.81371160000001,
          41.6266555,
          40.9125992,
          39.7047095,
          36.0395247,
          34.0900091,
          41.0534302,
          39.165325,
          36.548434,
          47.6587802,
          46.2112458,
          39.9525839,
          48.74908,
          36.3302284,
          43.8013556,
          41.2619444,
          26.217305,
          32.7766642,
          38.0049214,
          42.5803122,
          26.3184123,
          39.95675479999999,
          41.1399814,
          33.553914299999995,
          38.9536174,
          40.0455917,
          34.9889818,
          34.0122346,
          39.14344060000001,
          33.7091847,
          39.4142688,
          35.612661,
          41.9294736,
          43.0166806,
          39.8680412,
          41.5772115,
          41.7014912,
          36.20772879999999,
          32.6400541,
          26.271192,
          35.4087517,
          33.883992600000006,
          28.6934076,
          47.9252568,
          39.71367539999999,
          41.7508391,
          26.0112014,
          36.3320196,
          29.9510658,
          47.1717649,
          41.71997800000001,
          43.6629384,
          45.52306220000001,
          37.9779776,
          47.4703767,
          38.7881062,
          43.0116784,
          35.1982836,
          47.1853785,
          42.8142432,
          39.7392358,
          39.7817213,
          37.2871651,
          33.9424658,
          39.6895036,
          42.2505943,
          34.483901,
          34.769535999999995,
          39.5296329,
          39.613321,
          34.540024200000005,
          37.7021521,
          33.425125,
          43.661471,
          45.0941315,
          41.2705484,
          32.792,
          33.0806083,
          43.0125274,
          38.02797620000001,
          33.3703197,
          33.9166805,
          33.7205771,
          33.494170399999994,
          39.9611755,
          40.0378755,
          40.8257625,
          40.2170534,
          42.3600825,
          34.136118700000004,
          44.0121221,
          38.789217,
          38.9784453,
          35.91319960000001,
          39.8386516,
          32.6789476,
          41.6155909,
          46.8787176,
          36.8252277,
          29.5635666,
          33.3528264,
          44.9591352,
          35.7795897,
          33.7877944,
          37.9100783,
          47.56732020000001,
          36.06523,
          32.436381,
          30.4382559,
          30.3118769,
          37.2295733,
          29.4241219,
          41.7637111,
          42.492786,
          42.0986867,
          43.61210870000001,
          43.7730448,
          29.735504700000003,
          35.79154000000001,
          42.2180724,
          36.1539816,
          26.2159066,
          41.1339449,
          42.4250964,
          33.1031744,
          32.2217429,
          35.9250637,
          44.79739620000001,
          30.3321838,
          39.3642834,
          42.1292241,
          37.3021632,
          32.4487364,
          33.888625899999994,
          34.8526176,
          35.410694,
          42.4974085,
          40.27319110000001,
          34.274646000000004,
          37.54826970000001,
          38.2544472,
          42.3917638,
          38.5200504,
          44.977753,
          35.2045328,
          33.91370850000001,
          29.6185669,
          38.6270025,
          26.1947962,
          35.0853336,
          33.9519347,
          40.5621704,
          36.1988592,
          34.055103,
          33.952463,
          39.8814519,
          38.9716689,
          31.9973456,
          35.4675602,
          32.3909071,
          33.4151843,
          41.117744,
          42.8694731,
          43.0605671,
          32.9312336,
          41.6619927,
          33.7458511,
          45.5579451,
          40.8567662,
          33.1192068,
          37.6304904,
          37.87159260000001,
          33.4269728,
          34.6035669,
          44.811349,
          33.05810630000001,
          32.589699800000005,
          41.079273,
          47.7556531,
          42.4184296,
          33.9319578,
          42.65257929999999,
          37.6879241,
          42.240872,
          37.4137536,
          39.0067768,
          41.394817,
          38.0293059,
          25.72149,
          47.6776832,
          34.0686206,
          42.2411344,
          37.8215929,
          33.4353394,
          40.9167654,
          44.9428975,
          28.291955699999995,
          43.4194699,
          25.9017472,
          33.0145673,
          32.9342919,
          44.88968660000001,
          42.33142700000001,
          39.3454673,
          32.5631924,
          43.16103,
          33.5206608,
          30.267153000000004,
          34.4208305,
          41.931696,
          35.2327544,
          40.5142026,
          41.6475306,
          45.1732394,
          37.56299170000001,
          28.5383355,
          42.866632,
          32.844017,
          34.2257255,
          27.8428025,
          25.9331488,
          39.11405300000001,
          42.5834228,
          42.1391927,
          42.3370413,
          25.8900949,
          41.5242649,
          40.735657,
          31.3112936,
          45.1607987,
          26.1906306,
          34.6391501,
          33.2148412,
          29.3013479,
          39.6136578,
          36.6777372,
          25.9420377,
          38.41924960000001,
          27.530567100000006,
          28.0836269,
          32.799573800000005,
          28.03446210000001,
          35.7212689,
          40.8893895,
          37.5949316,
          41.40477420000001,
          44.0805434,
          33.9652918,
          39.8083196,
          42.1014831,
          40.5852602,
          37.7249296,
          33.2000368,
          40.9312099,
          39.1031182,
          39.6417629,
          28.802861199999995,
          40.6975898,
          41.6639383,
          31.5455001,
          37.0870821,
          41.5833688,
          42.1662831,
          29.6196787,
          34.730368799999994,
          38.1341477,
          47.8106521,
          32.6518004,
          35.93821029999999,
          42.6389216,
          32.6781085,
          37.6688205,
          43.0962143,
          39.5349112,
          36.3274502,
          33.8169599,
          41.0997803,
          34.6992579,
          34.055569299999995,
          37.3058839,
          43.5407172,
          38.9071923,
          41.8661403,
          32.5920798,
          34.1064001,
          46.8771863,
          40.6936488,
          41.25236339999999,
          33.640855,
          39.1836082,
          33.8302961,
          32.715738,
          38.440429,
          42.633424700000006,
          36.060949,
          47.38093350000001,
          36.1626638,
          40.8859325,
          39.9205411,
          35.99403289999999,
          37.688889,
          33.780538799999995,
          44.6496868,
          41.8994744,
          26.1595194,
          42.9614039,
          37.36883,
          36.9741171,
          42.5847425,
          40.7933949,
          40.75839000000001,
          39.9356016,
          26.2378597,
          31.4637723,
          40.4842027,
          37.7396513,
          34.949567200000004,
          42.7653662,
          32.8406946,
          40.7062128,
          39.9259463,
          33.7222445,
          42.02558270000001,
          36.7682088,
          40.0992294,
          34.216393700000005,
          43.2341813,
          40.6639916,
          61.2180556,
          48.23296679999999,
          26.0764783,
          26.203407100000003,
          33.19724650000001,
          31.1171194,
          41.04422,
          37.8043637,
          37.3860517,
          33.668077200000006,
          35.2219971,
          40.2338438,
          33.7489954,
          34.0625106,
          41.3144966,
          36.96133560000001,
          39.84031470000001,
          42.0028761,
          30.6953657,
          38.1040864,
          34.139729200000005,
          35.042036,
          38.57670170000001,
          32.5007037,
          33.3061605,
          39.8027644,
          34.095287,
          40.486427,
          26.1723065,
          39.768403,
          26.531786600000004,
          33.4150485,
          42.06641670000001,
          41.7798226,
          40.4167022,
          38.8813958,
          34.0289259,
          36.0726354,
          42.2917069,
          45.4312294,
          34.7540524,
          38.7071247,
          33.2098407,
          41.7317884,
          33.9164032,
          33.405386699999994,
          26.4614625,
          26.6617635,
          35.1359386,
          26.1003654,
          42.6064095,
          40.9114882,
          37.9577016,
          42.4894801,
          28.6122187,
          33.5225261,
          47.6732281,
          33.6411316,
          32.7459645,
          36.8354258,
          47.0342629,
          35.732652,
          42.4999942,
          33.0369867,
          40.114955,
          33.981681200000004,
          44.8546856,
          33.5805955,
          33.4255104,
          39.7390721,
          40.6677248,
          42.324204,
          32.7667955,
          36.0956918,
          32.912624,
          37.9357576,
          46.8083268,
          39.1637984,
          35.74787689999999,
          33.4734978,
          35.0526641,
          31.5785074,
          40.4594021,
          37.5296593,
          34.02862260000001,
          34.6059253,
          35.0456297,
          38.27757020000001,
          41.9950276,
          34.0852868,
          25.790654,
          35.6145169,
          29.8849504,
          35.2827524,
          32.5420821,
          33.6189101,
          40.521893,
          46.6020711,
          39.7589478,
          30.367419800000004,
          33.770050399999995,
          39.7284944,
          31.3271189,
          44.0520691,
          34.0739016,
          34.0165053,
          37.6624312,
          47.9789848,
          38.0608445,
          38.2493581,
          33.4355977,
          41.5931049,
          42.32115220000001,
          44.840798,
          41.5094771,
          45.487062,
          29.9940924,
          34.4047987,
          42.7284117,
          37.4323341,
          42.03336229999999,
          33.87223710000001,
          41.900101,
          34.0775104,
          36.3134397,
          32.0835407,
          41.2375569,
          45.6387281,
          26.1669711,
          40.1933767,
          40.3916172,
          37.7749295,
          34.0922335,
          33.1506744,
          33.989818799999995,
          32.9628232,
          39.843947,
          40.4862157,
          36.8507689,
          45.5228939,
          33.783908399999994,
          30.421309,
          39.3995008,
          34.1954331,
          34.1083449,
          33.9698929,
          34.5362184,
          41.5933696,
          32.8795022,
          37.13050120000001,
          42.5005583,
          43.0481221,
          36.5297706,
          28.0394654,
          40.6642699,
          39.158168,
          46.8737648,
          34.0211224,
          42.1103041,
          47.6062095,
          39.08367120000001,
          38.4087993,
          32.5251516,
          41.223,
          38.4495688,
          33.9616801,
          34.1477849,
          42.7070354,
          45.4206749,
          38.232417,
          39.9242266,
          38.2975381,
          39.7294319,
          46.7866719,
          37.2709704,
          44.0581728,
          34.5008311,
          42.37648520000001,
          26.640628000000003,
          27.950575,
          34.09751,
          36.5859718,
          42.5083482,
          26.1275862,
          38.8338816,
          37.6390972,
          42.9633599,
          41.885031700000006,
          27.3364347,
          33.9971974,
          33.8816818,
          40.0149856,
          35.686975200000006,
          33.6803003,
          42.3459271,
          33.9533487,
          34.5794343,
          38.1074198,
          41.0602216,
          41.6986416,
          33.6000232,
          42.0697509,
          38.891565,
          38.6779591,
          34.6100243,
          32.3199396,
          45.6769979,
          42.0333607,
          42.5144566,
          38.7874699,
          42.034722,
          33.62923370000001,
          32.948333500000004,
          43.6155825,
          29.8832749,
          41.2459149,
          44.2619309,
          39.0228485,
          41.6661573,
          37.6818745,
          35.2270869,
          37.7719074,
          26.934224600000004,
          38.3396367,
          41.8781136,
          45.783285600000006,
          43.049457200000006,
          41.8800296,
          41.308274,
          39.9625984,
          35.96063839999999,
          41.36837979999999,
          41.7003208,
          40.6668916,
          37.7652065,
          37.7974273,
          44.95302150000001,
          42.3265152,
          35.8456213,
          39.1404477,
          41.3164856,
          42.5348993,
          35.08675770000001,
          41.408969,
          32.6098566,
          38.7509488,
          38.3565773,
          34.01945429999999,
          36.7282054,
          42.6583661,
          33.663357299999994,
          38.3498195,
          35.7688425,
          28.2489016,
          32.776474900000004,
          35.4873613,
          33.8752935,
          38.7907339,
          38.9108408,
          29.5844524,
          40.56497810000001,
          36.3728538,
          34.3916641,
          28.6611089,
          29.7030024,
          35.1495343,
          32.814017699999994,
          38.8048355,
          34.4263886,
          42.2042586,
          33.9462125,
          42.0324025,
          40.7684342,
          40.6259316,
          39.7674578,
          33.8491816,
          29.7604267,
          33.4936391,
          42.2808256,
          30.080174,
          42.7369792,
          32.8383828,
          26.2128609,
          41.1543623,
          26.007765,
          36.18674420000001,
          34.1975048,
          31.8456816,
          36.1156071,
          42.08343350000001,
          40.6687141,
          33.8894598,
          41.5067003,
          32.3643098,
          35.1595182,
          40.7281575,
          44.9537029,
          28.9005446,
          40.65760220000001,
          41.6611277,
          33.8352932,
          44.7319094,
          47.4941836,
          40.691613200000006,
          37.0298687,
          30.633261800000003,
          40.2968979,
          34.14426160000001,
          32.9341893,
          32.9810059,
          34.7464809,
          33.7455731,
          41.0339862,
          43.4916514,
          47.610377,
          38.7521235,
          40.5067723,
          42.5278731,
          40.92639570000001,
          38.95170529999999,
          42.7261309,
          39.978371,
          42.20115379999999,
          39.5150576,
          38.6785157,
          42.40843020000001,
          32.8370727,
          42.0883603,
          33.7475203,
          35.95569229999999,
          40.0581205,
          35.4495065,
          33.1433723,
          29.1383165,
          33.853626899999995,
          40.1261743,
          42.2711311,
          32.7947731,
          27.773056,
          41.8089191,
          41.2306979,
          44.6365107,
          36.1699412,
          29.6910625,
          27.2730492,
          41.9778795,
          29.2858129,
          42.25287720000001,
          25.9860762,
          31.7775757,
          39.0558235,
          34.0805651,
          44.9901194,
          44.9211836,
          41.08144470000001,
          26.3017374,
          34.1063989,
          32.8546197,
          38.2526647,
          36.910231,
          26.2517482,
          27.4989278,
          33.158093300000004,
          29.383845,
          40.5865396,
          42.9133602,
          41.452819,
          41.1616108,
          26.1224386,
          32.6130007,
          27.9658533,
          25.5808323,
          34.79981,
          39.4667034,
          31.0982344,
          39.7092262,
          43.5445959,
          39.2014404,
          26.244526300000004,
          42.5250906,
          41.7001009,
          35.3732921,
          25.7616798,
          30.226594899999995,
          46.2856907,
          35.7344538,
          37.654656,
          45.01051939999999,
          41.6763545,
          35.6528323,
          41.6005448,
          26.339806,
          40.5246711,
          33.97917929999999,
          42.36837,
          43.0389025,
          47.3073228,
          33.9204354,
          42.5584283,
          47.4828776,
          39.5807452,
          37.5407246,
          40.1053196,
          33.92946060000001,
          30.4393696,
          40.7439905,
          38.040583700000006,
          33.9022367,
          32.6926512,
          34.1283442,
          41.9125286,
          41.525031,
          34.9248667,
          38.5890723,
          42.3369816,
          21.3069444,
          28.8052674,
          41.9445441,
          33.0151201,
          32.975641499999995,
          41.632223,
          42.0629915,
          42.7262016,
          27.044224,
          39.0839973,
          34.18083920000001,
          33.8703596,
          44.0247062,
          30.723526300000003,
          42.4989936,
          33.9830688,
          33.8583483,
          34.0200114,
          39.0638705,
          36.3955891,
          37.3382082,
          30.508255100000003,
          45.07246420000001,
          35.2225668,
          25.4687224,
          29.529399800000004,
          33.6839473,
          42.8713032,
          37.6138253,
          43.7508284,
          32.5159852,
          30.505198,
          33.9304352,
          40.1164204,
          40.8584328,
          35.339507899999994,
          39.0169509,
          34.6867846,
          30.6743643,
          32.82346210000001,
          26.5628537,
          37.3229978,
          42.4500845,
          37.0057816,
          42.99563970000001,
          36.8529263,
          38.8402805,
          42.3875968,
          27.9094665,
          36.7468422,
          32.4709761,
          41.8505874,
          26.8233946,
          41.878711,
          34.0961111,
          36.0998596,
          34.07537620000001,
          38.8106075,
          37.4852152,
          37.59339179999999,
          25.9812024,
          44.1635775,
          33.5676842,
          33.6971468,
          40.39776120000001,
          42.1211364,
          41.8239891,
          25.8575963,
          37.7799273,
          34.0633443,
          47.6814875,
          37.0965278,
          32.216316,
          34.1425078,
          41.5381535,
          33.8883487,
          42.1250929,
          42.0354084,
          33.0198431,
          40.1672068,
          32.9545687,
          41.48199320000001,
          35.8422967,
          30.627977,
          42.3222599,
          43.100903,
          32.5093109,
          39.2903848,
          37.20895720000001,
          34.2284312,
          40.6337136,
          42.466763,
          44.92385520000001,
          29.6516344,
          38.5804609,
          47.6162683,
          25.9564812,
          36.0625795,
          37.9735346,
          35.0886963,
          47.2528768,
          41.5623209,
          44.4758825,
          42.5629668,
          33.635661799999994,
          40.7127837,
          34.2694474,
          34.0686208,
          39.37221210000001,
          30.8327022,
          32.7554883,
          33.8316745,
          37.9715592,
          34.95303370000001,
          36.0331164,
          32.7678287,
          39.8366528,
          40.3356483,
          37.4946568,
          40.42331420000001,
          32.351260100000005,
          28.5652787,
          31.549333,
          38.0193657,
          34.1705609,
          34.1336186,
          41.18654779999999,
          44.9597376,
          38.6631083,
          26.6276276,
          46.2395793,
          33.83584920000001,
          43.07305170000001,
          42.6827885,
          42.3636331,
          36.9685219,
          32.735687,
          33.046233,
          36.7280583,
          37.9974219,
          37.4418834,
          44.0462362,
          41.6362152,
          47.6739881,
          37.931868,
          38.5449065,
          33.9172357,
          35.9828412,
          40.5186809,
          31.2232313,
          40.767323,
          41.5731442,
          30.396031800000006,
          40.1105875,
          33.7739053,
          33.930293,
          39.8961821,
          40.7989473,
          33.8651033,
          30.4582829,
          41.6717648,
          39.0911161,
          42.732535,
          41.6303103,
          39.4863773,
          44.519159,
          42.0450722,
          28.5691677,
          34.0522342,
          47.3223221,
          40.6096698,
          34.033625,
          40.4406248,
          33.9401088,
          41.8455877,
          33.954737,
          30.1588129,
          37.0842271,
          29.5074538,
          40.7607793,
          27.446705600000005,
          33.4483771,
          44.5645659,
          32.5884689,
          42.14870429999999,
          29.1871986,
          34.0232431,
          42.0111412,
          43.2081366,
          47.0378741,
          33.660297,
          27.8005828,
          42.7762015,
          41.9994722,
          42.3736158,
          33.538652299999995,
          33.802515500000005,
          33.0185039,
          41.5236437,
          26.3683064,
          41.6612104,
          42.4972583,
          41.5200518,
          45.5001357,
          26.1403635,
          36.3047735,
          37.3541079,
          33.1958696,
          33.6469661,
          42.48059,
          40.7878788,
          42.40843,
          40.6220478,
          35.5950581,
          33.8958492
         ],
         "legendgroup": "",
         "lon": [
          -122.1770818,
          -117.2286478,
          -81.6943605,
          -71.8022934,
          -81.0348144,
          -73.0514965,
          -93.1668858,
          -83.2218731,
          -92.0198427,
          -116.2146068,
          -85.9766671,
          -117.9981181,
          -84.5499327,
          -104.7613633,
          -80.0533746,
          -70.8967155,
          -88.3200715,
          -77.5636015,
          -80.3553302,
          -117.9939921,
          -101.8551665,
          -94.6707917,
          -90.1848103,
          -81.1873005,
          -81.02283309999999,
          -94.5785667,
          -118.3870173,
          -93.2777226,
          -96.56388,
          -104.5230242,
          -86.2999689,
          -111.8338359,
          -71.1522765,
          -75.4901833,
          -79.82842579999998,
          -84.9877094,
          -78.8783689,
          -88.10842240000002,
          -97.2289029,
          -84.1052256,
          -121.4943996,
          -94.3985475,
          -71.37005450000002,
          -93.7121656,
          -73.8370786,
          -105.08137340000002,
          -114.9817213,
          -117.8903397,
          -73.53873409999999,
          -86.5263857,
          -82.5618186,
          -117.4260466,
          -119.1372338,
          -75.1652215,
          -122.4781473,
          -119.2920585,
          -91.2395807,
          -95.8608333,
          -80.2258811,
          -96.7969879,
          -121.805789,
          -83.0302033,
          -80.0997657,
          -86.01335,
          -104.8202462,
          -117.2139232,
          -94.7335709,
          -86.0085955,
          -90.0125913,
          -117.688944,
          -77.2013705,
          -117.9536697,
          -77.41054090000002,
          -77.3663538,
          -88.7503647,
          -88.0070315,
          -104.9719243,
          -93.711332,
          -71.1550451,
          -119.3473379,
          -117.0841955,
          -80.27060440000002,
          -80.579511,
          -84.51437609999998,
          -81.53221490000001,
          -97.0328547,
          -82.59932940000002,
          -88.15353520000002,
          -80.1494901,
          -94.1185366,
          -90.0715323,
          -122.518458,
          -87.7479528,
          -116.6873596,
          -122.6764816,
          -122.0310733,
          -122.3467918,
          -90.4974359,
          -88.2314813,
          -111.651302,
          -122.29289740000002,
          -73.93956870000002,
          -104.990251,
          -89.6501481,
          -121.9499568,
          -117.2296717,
          -84.16882740000001,
          -83.17853609999997,
          -114.3224548,
          -92.2670941,
          -119.8138027,
          -105.0166498,
          -112.4685025,
          -121.9357918,
          -94.0476882,
          -70.2553259,
          -93.3563405,
          -72.94697109999998,
          -115.5630514,
          -96.8928309,
          -83.6874562,
          -121.88468059999998,
          -112.58377659999998,
          -117.9000604,
          -116.2155619,
          -111.9260519,
          -82.9987942,
          -76.3055144,
          -96.6851982,
          -74.74293840000001,
          -71.0588801,
          -117.865339,
          -92.4801989,
          -90.322614,
          -76.4921829,
          -79.05584449999998,
          -86.0252612,
          -115.4988834,
          -87.5294871,
          -113.996586,
          -119.7029194,
          -95.2860474,
          -111.789027,
          -89.6301221,
          -78.6381787,
          -117.8531119,
          -122.0651819,
          -122.6329356,
          -119.0167679,
          -111.2224422,
          -84.2807329,
          -95.4560512,
          -80.4139393,
          -98.4936282,
          -72.6850932,
          -92.3425775,
          -75.9179738,
          -116.3915131,
          -88.44705079999999,
          -94.9774274,
          -78.78111690000001,
          -70.94103559999998,
          -95.992775,
          -98.3252932,
          -81.48455849999998,
          -71.066163,
          -96.6705503,
          -110.926479,
          -86.86888990000001,
          -93.5272861,
          -81.655651,
          -74.4229266,
          -80.085059,
          -120.48296770000002,
          -99.7331439,
          -117.8131125,
          -82.3940104,
          -80.8428504,
          -82.8963604,
          -76.88670079999999,
          -119.22903159999998,
          -121.9885719,
          -104.6091409,
          -71.03282840000001,
          -89.98399350000003,
          -93.2650108,
          -89.8739753,
          -98.4933873,
          -95.5377215,
          -90.1994042,
          -98.1836216,
          -106.6055534,
          -83.357567,
          -111.929658,
          -115.1175013,
          -117.7499909,
          -117.5848025,
          -83.09296440000001,
          -95.2352501,
          -102.0779146,
          -97.5164276,
          -110.96648799999998,
          -111.8314724,
          -73.4081575,
          -85.6447492,
          -88.1064787,
          -96.4597089,
          -86.15861559999998,
          -117.826166,
          -94.1632404,
          -74.12847640000003,
          -117.086421,
          -122.4110835,
          -122.272747,
          -117.6119925,
          -98.3959291,
          -91.4984941,
          -112.0476423,
          -96.8570738,
          -85.13935129999999,
          -122.3415178,
          -71.10616390000001,
          -117.94617340000002,
          -73.7562317,
          -122.47020790000002,
          -83.2696509,
          -79.1422464,
          -76.77913649999998,
          -73.45401109999997,
          -78.4766781,
          -80.2683838,
          -116.7804664,
          -118.0275667,
          -88.3161965,
          -121.9999606,
          -112.3576567,
          -74.171811,
          -123.0350963,
          -81.40757099999998,
          -83.9508068,
          -97.4974838,
          -97.0969552,
          -97.0780654,
          -93.3499489,
          -83.0457538,
          -84.56031870000002,
          -97.1416768,
          -77.61092190000002,
          -86.80249,
          -97.7430608,
          -119.6981901,
          -87.9889556,
          -106.6630437,
          -88.99063120000002,
          -88.0895061,
          -93.3030063,
          -122.3255254,
          -81.3792365,
          -106.313081,
          -97.1430671,
          -77.9447102,
          -82.6995443,
          -80.1625463,
          -94.6274636,
          -71.8022955,
          -87.92895909999999,
          -71.2092214,
          -80.18671379999998,
          -72.07591049999998,
          -74.1723667,
          -92.4451371,
          -93.2349489,
          -97.6961026,
          -120.4579409,
          -97.1330683,
          -94.7976958,
          -86.10665259999998,
          -121.6555013,
          -80.2456045,
          -82.445154,
          -99.4803241,
          -80.6081089,
          -97.2691817,
          -80.5886646,
          -77.91553950000002,
          -111.880771,
          -120.9577098,
          -81.72290859999998,
          -103.2310149,
          -118.1514588,
          -104.9338675,
          -72.589811,
          -105.084423,
          -122.1560768,
          -117.2425355,
          -73.8987469,
          -84.5120196,
          -77.7199932,
          -81.269453,
          -74.2631635,
          -83.555212,
          -110.27728559999998,
          -76.4730122,
          -87.5000412,
          -87.9631308,
          -95.6349463,
          -86.5861037,
          -121.2722194,
          -122.3773552,
          -96.9083366,
          -77.7905339,
          -83.2910468,
          -117.0991967,
          -122.0807964,
          -79.03773879999999,
          -119.7526886,
          -119.6456844,
          -118.0372852,
          -80.6495194,
          -86.7483318,
          -117.1825381,
          -89.51814759999998,
          -116.5634624,
          -77.03687070000002,
          -88.1070127,
          -96.7561082,
          -117.3703235,
          -96.7898034,
          -89.58898640000002,
          -95.9979883,
          -117.603104,
          -96.5716694,
          -116.54529209999998,
          -117.1610838,
          -122.7140548,
          -71.3161718,
          -95.7974526,
          -122.2348431,
          -86.78160159999999,
          -74.0434736,
          -105.0866504,
          -78.898619,
          -97.336111,
          -116.4668036,
          -93.24272,
          -87.9403418,
          -97.9908366,
          -88.0125865,
          -122.0363496,
          -122.0307963,
          -87.8211854,
          -77.8600012,
          -82.51544709999997,
          -91.4098726,
          -80.1247667,
          -100.4370375,
          -88.9936873,
          -121.4252227,
          -81.93204820000003,
          -71.467566,
          -83.6324022,
          -73.6187397,
          -75.1196199,
          -116.3744556,
          -88.1784085,
          -76.2874927,
          -83.11407709999997,
          -119.0376023,
          -86.2483921,
          -74.2107006,
          -149.90027780000003,
          -101.2922906,
          -80.2521157,
          -98.2300124,
          -96.6397822,
          -97.7277959,
          -83.6499321,
          -122.27111370000002,
          -122.0838511,
          -117.3272615,
          -101.8312969,
          -111.6585337,
          -84.3879824,
          -118.1228476,
          -81.83569,
          -120.0607176,
          -88.9548001,
          -71.5147839,
          -88.0398912,
          -122.25663670000002,
          -118.0353449,
          -89.66452659999999,
          -92.1735164,
          -94.7404891,
          -111.8412502,
          -105.0874842,
          -118.1270146,
          -86.13360329999998,
          -80.13198929999999,
          -86.158068,
          -80.0905465,
          -111.5495777,
          -87.9372908,
          -71.4372796,
          -86.8752869,
          -94.8191285,
          -84.19857900000002,
          -79.79197540000001,
          -85.5872286,
          -122.7714861,
          -77.43024140000001,
          -121.2810611,
          -87.5691735,
          -93.6001278,
          -118.3525748,
          -86.8113781,
          -80.07282009999999,
          -80.2683571,
          -114.5285981,
          -80.3997748,
          -83.1497751,
          -73.78235490000002,
          -121.29077959999998,
          -83.1446485,
          -80.8075537,
          -117.7075526,
          -117.2393748,
          -117.9186689,
          -96.9977846,
          -76.29827420000002,
          -122.8231915,
          -78.85028559999998,
          -96.4003069,
          -117.2919818,
          -111.654923,
          -118.2250725,
          -93.470786,
          -112.2373779,
          -111.9400054,
          -75.5397878,
          -111.9388258,
          -83.400211,
          -96.5991593,
          -79.43779909999998,
          -96.6388833,
          -122.3477486,
          -100.7837392,
          -119.7674034,
          -95.3696909,
          -82.0105148,
          -78.87835849999998,
          -84.155741,
          -74.360846,
          -122.0402399,
          -117.8103367,
          -86.9833417,
          -85.3096801,
          -85.7371847,
          -88.1856301,
          -117.96089779999998,
          -80.1300455,
          -88.8139469,
          -93.939947,
          -120.6596156,
          -97.3208492,
          -117.9289469,
          -111.9391023,
          -120.5058987,
          -84.1916069,
          -89.0928155,
          -118.1937395,
          -121.8374777,
          -89.2903392,
          -123.08675359999998,
          -117.3136547,
          -118.1137535,
          -121.8746789,
          -122.2020794,
          -97.9297743,
          -122.0399663,
          -112.3496021,
          -81.5267873,
          -85.17971419999998,
          -93.2982799,
          -90.5787476,
          -122.8037102,
          -90.2417434,
          -103.2052272,
          -73.69178509999998,
          -121.8995741,
          -87.88339909999998,
          -117.8703363,
          -71.08976740000001,
          -117.6897776,
          -82.35347270000003,
          -81.0998342,
          -80.81841659999998,
          -122.6614861,
          -80.25659499999998,
          -85.3863599,
          -111.8507662,
          -122.4194155,
          -117.435048,
          -96.8236116,
          -117.7325848,
          -117.0358646,
          -84.1246608,
          -74.4518188,
          -76.28587259999998,
          -122.989827,
          -116.95863500000002,
          -87.2169149,
          -84.5613355,
          -79.7625625,
          -117.2897652,
          -84.2214551,
          -117.2927641,
          -87.3464271,
          -111.7573521,
          -121.6543901,
          -90.6645718,
          -76.1474244,
          -87.3594528,
          -81.9498042,
          -73.7084645,
          -75.5243682,
          -96.7678039,
          -118.3964665,
          -88.03424,
          -122.33207079999998,
          -84.5085536,
          -121.3716178,
          -93.7501789,
          -111.9738304,
          -78.8689155,
          -118.3531311,
          -118.1445155,
          -71.1631137,
          -122.6706498,
          -122.6366524,
          -83.8088171,
          -122.286865,
          -104.8319195,
          -92.1004852,
          -79.9414266,
          -121.3153096,
          -117.1858759,
          -71.2356113,
          -81.87230840000002,
          -82.4571776,
          -117.6483876,
          -79.3950228,
          -89.0317765,
          -80.23310359999998,
          -104.8213634,
          -120.9968782,
          -85.6680863,
          -87.7845025,
          -82.5306527,
          -117.4854802,
          -118.1170117,
          -105.2705456,
          -105.937799,
          -116.173894,
          -71.55228740000003,
          -117.3961564,
          -118.11646129999998,
          -122.5697032,
          -111.9710529,
          -88.0683955,
          -117.6719953,
          -87.7878408,
          -121.29300790000002,
          -121.17605829999998,
          -112.315721,
          -106.7636538,
          -111.0429339,
          -88.0834059,
          -83.01465259999998,
          -90.6298922,
          -93.62,
          -112.3679279,
          -96.7298519,
          -84.24721159999999,
          -97.9413941,
          -75.88130749999998,
          -88.4153847,
          -94.7151865,
          -81.339552,
          -121.7680088,
          -80.8431267,
          -87.1111676,
          -80.09420870000002,
          -122.70109840000002,
          -87.62979820000002,
          -108.5006904,
          -88.0075875,
          -88.0078435,
          -72.9278835,
          -76.727745,
          -83.9207392,
          -82.10764859999998,
          -70.3002024,
          -111.8879909,
          -122.2416355,
          -121.21605259999998,
          -92.9952153,
          -122.8755949,
          -86.39027,
          -121.6169108,
          -73.0931641,
          -92.4453161,
          -89.8100858,
          -75.66241219999998,
          -85.48078249999998,
          -77.4752667,
          -121.9877444,
          -118.4911912,
          -76.5835621,
          -83.14993220000002,
          -116.3100095,
          -81.6326234,
          -119.2470536,
          -81.2811801,
          -79.9310512,
          -80.62173409999998,
          -117.5664384,
          -121.2357828,
          -94.3821724,
          -81.2078699,
          -111.8389726,
          -94.2088172,
          -118.542586,
          -81.36562420000001,
          -98.1244531,
          -90.0489801,
          -96.9488945,
          -77.0469214,
          -117.3008784,
          -72.61620090000002,
          -84.3346473,
          -87.7416246,
          -74.1454214,
          -75.3704579,
          -94.846681,
          -118.3884078,
          -95.3698028,
          -117.1483648,
          -83.7430378,
          -94.1265562,
          -84.48386540000001,
          -116.97391670000002,
          -80.2497707,
          -95.9145568,
          -80.2962555,
          -94.1288141,
          -119.17705159999998,
          -102.3676431,
          -97.0583681,
          -71.0183787,
          -74.11430909999999,
          -118.15979109999998,
          -90.5151342,
          -88.70365600000002,
          -84.8766115,
          -74.0776417,
          -93.0899578,
          -81.2636738,
          -73.58318349999998,
          -91.5301683,
          -117.9145036,
          -93.21772,
          -111.2833449,
          -112.0010501,
          -76.3452218,
          -97.6779842,
          -111.69464750000002,
          -118.0019482,
          -97.229298,
          -80.03258670000002,
          -92.2895948,
          -117.8678338,
          -73.76290970000002,
          -112.0339645,
          -122.2006786,
          -121.28800590000002,
          -74.2654234,
          -70.92866090000003,
          -98.3420118,
          -92.3340724,
          -87.78285229999999,
          -86.1180435,
          -85.5800022,
          -84.39827629999998,
          -121.7732971,
          -71.0119948,
          -97.0819541,
          -87.9806265,
          -116.9719684,
          -80.0053176,
          -82.4012642,
          -97.3967019,
          -117.1661449,
          -80.9956105,
          -118.1339563,
          -82.9290696,
          -89.09399520000002,
          -116.9625269,
          -82.64,
          -88.01117459999998,
          -73.064036,
          -123.1059282,
          -115.13982959999998,
          -95.2091006,
          -80.3582261,
          -91.6656232,
          -81.05588940000001,
          -71.0022705,
          -80.3035602,
          -106.4424559,
          -95.6890185,
          -118.072846,
          -123.0262077,
          -93.4687489,
          -81.51900529999998,
          -98.1633432,
          -117.5931084,
          -79.9748103,
          -85.7584557,
          -121.7568946,
          -80.17893509999998,
          -82.5748194,
          -117.3505939,
          -94.9027002,
          -122.3916754,
          -85.7053085,
          -82.18237459999997,
          -112.0263313,
          -80.13731740000001,
          -83.624201,
          -82.8001026,
          -80.3468593,
          -87.677251,
          -87.4139092,
          -97.342782,
          -84.0632685,
          -96.7311034,
          -85.9213796,
          -80.206436,
          -71.759794,
          -71.4161671,
          -119.0187125,
          -80.1917902,
          -93.2173758,
          -119.2844621,
          -81.3444573,
          -122.4077498,
          -93.4555093,
          -86.25198979999998,
          -97.4780954,
          -93.6091064,
          -81.77869720000002,
          -111.8638226,
          -118.032844,
          -83.3527097,
          -87.9064736,
          -122.22845320000002,
          -80.3414693,
          -70.880049,
          -122.21706609999998,
          -104.8771726,
          -77.4360481,
          -85.6802541,
          -116.977248,
          -97.6200043,
          -74.0323626,
          -84.50371640000002,
          -118.081733,
          -114.6276916,
          -117.2086513,
          -88.1347927,
          -88.0817251,
          -81.02507840000001,
          -121.302728,
          -83.2732627,
          -157.8583333,
          -97.0035982,
          -71.2856082,
          -96.5388789,
          -96.8899636,
          -88.2120315,
          -88.1227199,
          -71.19089240000002,
          -82.23592540000001,
          -77.1527578,
          -118.30896609999998,
          -117.9242966,
          -88.5426136,
          -95.5507771,
          -83.3677168,
          -118.096735,
          -118.0647871,
          -117.9495083,
          -108.5506486,
          -97.8783911,
          -121.88632859999998,
          -97.678896,
          -93.4557877,
          -97.4394777,
          -80.4775569,
          -95.2010447,
          -117.7946942,
          -112.4455344,
          -122.48691940000002,
          -87.71453000000002,
          -93.7321228,
          -97.8202888,
          -84.3733147,
          -88.2433829,
          -74.16375529999998,
          -97.4867028,
          -94.2816148,
          -118.1541632,
          -96.3699632,
          -97.1705678,
          -81.94953309999998,
          -122.0321823,
          -73.2453824,
          -121.5682751,
          -71.4547891,
          -75.977985,
          -97.6114237,
          -71.0994968,
          -82.7873244,
          -119.7725868,
          -85.0007653,
          -87.79366850000002,
          -80.1386547,
          -71.38255579999998,
          -118.1058333,
          -80.24421600000002,
          -84.2940899,
          -90.6998477,
          -122.2363548,
          -122.0438298,
          -80.148379,
          -93.9993996,
          -117.7256083,
          -117.185294,
          -105.0749801,
          -88.2578582,
          -71.4128343,
          -80.2781057,
          -121.9780153,
          -117.6508876,
          -122.2087353,
          -113.5684164,
          -80.752608,
          -118.255075,
          -72.8070435,
          -118.3089624,
          -72.749538,
          -88.2825668,
          -96.6988856,
          -105.1019275,
          -97.0150078,
          -81.7981908,
          -90.704279,
          -96.3344068,
          -83.1763145,
          -75.232664,
          -92.1193012,
          -76.6121893,
          -93.2922989,
          -92.0031955,
          -74.40737359999999,
          -70.9494938,
          -92.9593797,
          -82.3248262,
          -121.530234,
          -122.0355736,
          -80.1392121,
          -94.1574263,
          -122.5310874,
          -92.4421011,
          -122.4442906,
          -72.6506488,
          -73.21207199999998,
          -114.4608711,
          -96.6088805,
          -74.00594129999998,
          -118.781482,
          -117.93895259999998,
          -104.8560902,
          -83.2784851,
          -97.3307658,
          -118.281693,
          -87.5710898,
          -120.4357191,
          -86.7827772,
          -117.02308390000002,
          -105.03720459999998,
          -75.9268747,
          -120.8465941,
          -104.7091322,
          -95.3010624,
          -81.5861847,
          -97.1466695,
          -122.1341321,
          -118.8375937,
          -117.9075627,
          -73.1951767,
          -93.3702186,
          -90.5770675,
          -80.1353896,
          -119.10056570000002,
          -118.3406288,
          -89.4012302,
          -89.01872220000001,
          -87.84479379999998,
          -86.48080429999997,
          -97.1080656,
          -96.994174,
          -108.2186856,
          -121.7124536,
          -122.1430195,
          -123.0220289,
          -70.934205,
          -122.121512,
          -121.6957863,
          -121.7405167,
          -118.0120086,
          -86.51860450000002,
          -78.3947359,
          -85.39048879999999,
          -74.20486770000002,
          -87.7932939,
          -88.88530779999998,
          -88.2072697,
          -117.9414477,
          -118.21146029999998,
          -104.9811468,
          -81.378447,
          -84.3365917,
          -91.1403196,
          -72.9492703,
          -94.4155068,
          -84.55553470000002,
          -87.8539425,
          -75.0259637,
          -88.019826,
          -87.6876969,
          -81.5439619,
          -118.24368490000002,
          -122.3126222,
          -111.9391031,
          -117.0430865,
          -79.9958864,
          -118.1331593,
          -87.7539448,
          -118.2120161,
          -85.6602058,
          -94.513281,
          -95.0949303,
          -111.89104740000002,
          -80.3256056,
          -112.0740373,
          -123.2620435,
          -96.9561152,
          -72.6078672,
          -82.14009229999998,
          -84.36155550000002,
          -87.8406192,
          -71.5375718,
          -122.9006951,
          -117.9992265,
          -97.396381,
          -71.0772796,
          -88.1450735,
          -71.10973349999998,
          -112.1859866,
          -117.9931165,
          -80.17564809999998,
          -90.5776367,
          -80.1289321,
          -72.77954190000001,
          -82.93714090000002,
          -81.556235,
          -122.4302013,
          -80.2133808,
          -86.6199957,
          -121.9552356,
          -117.3794834,
          -117.689218,
          -83.47549129999999,
          -74.0143064,
          -71.0536625,
          -74.2445902,
          -82.5514869,
          -118.2200712
         ],
         "marker": {
          "color": "fuchsia"
         },
         "mode": "markers",
         "name": "",
         "showlegend": false,
         "subplot": "mapbox",
         "type": "scattermapbox"
        }
       ],
       "layout": {
        "height": 500,
        "legend": {
         "tracegroupgap": 0
        },
        "mapbox": {
         "center": {
          "lat": 37.338240701500006,
          "lon": -96.48302336069996
         },
         "domain": {
          "x": [
           0,
           0.98
          ],
          "y": [
           0,
           1
          ]
         },
         "layers": [
          {
           "below": "traces",
           "source": [
            "https://earthengine.googleapis.com/map/b9bc77862440e50666361ba1a044da7d/{z}/{x}/{y}?token=eb2244e1221af88ac66bea1f153fdc92"
           ],
           "sourcetype": "raster"
          }
         ],
         "style": "open-street-map",
         "zoom": 3
        },
        "margin": {
         "b": 0,
         "l": 0,
         "r": 0,
         "t": 0
        },
        "template": {
         "data": {
          "bar": [
           {
            "error_x": {
             "color": "#2a3f5f"
            },
            "error_y": {
             "color": "#2a3f5f"
            },
            "marker": {
             "line": {
              "color": "#E5ECF6",
              "width": 0.5
             }
            },
            "type": "bar"
           }
          ],
          "barpolar": [
           {
            "marker": {
             "line": {
              "color": "#E5ECF6",
              "width": 0.5
             }
            },
            "type": "barpolar"
           }
          ],
          "carpet": [
           {
            "aaxis": {
             "endlinecolor": "#2a3f5f",
             "gridcolor": "white",
             "linecolor": "white",
             "minorgridcolor": "white",
             "startlinecolor": "#2a3f5f"
            },
            "baxis": {
             "endlinecolor": "#2a3f5f",
             "gridcolor": "white",
             "linecolor": "white",
             "minorgridcolor": "white",
             "startlinecolor": "#2a3f5f"
            },
            "type": "carpet"
           }
          ],
          "choropleth": [
           {
            "colorbar": {
             "outlinewidth": 0,
             "ticks": ""
            },
            "type": "choropleth"
           }
          ],
          "contour": [
           {
            "colorbar": {
             "outlinewidth": 0,
             "ticks": ""
            },
            "colorscale": [
             [
              0,
              "#0d0887"
             ],
             [
              0.1111111111111111,
              "#46039f"
             ],
             [
              0.2222222222222222,
              "#7201a8"
             ],
             [
              0.3333333333333333,
              "#9c179e"
             ],
             [
              0.4444444444444444,
              "#bd3786"
             ],
             [
              0.5555555555555556,
              "#d8576b"
             ],
             [
              0.6666666666666666,
              "#ed7953"
             ],
             [
              0.7777777777777778,
              "#fb9f3a"
             ],
             [
              0.8888888888888888,
              "#fdca26"
             ],
             [
              1,
              "#f0f921"
             ]
            ],
            "type": "contour"
           }
          ],
          "contourcarpet": [
           {
            "colorbar": {
             "outlinewidth": 0,
             "ticks": ""
            },
            "type": "contourcarpet"
           }
          ],
          "heatmap": [
           {
            "colorbar": {
             "outlinewidth": 0,
             "ticks": ""
            },
            "colorscale": [
             [
              0,
              "#0d0887"
             ],
             [
              0.1111111111111111,
              "#46039f"
             ],
             [
              0.2222222222222222,
              "#7201a8"
             ],
             [
              0.3333333333333333,
              "#9c179e"
             ],
             [
              0.4444444444444444,
              "#bd3786"
             ],
             [
              0.5555555555555556,
              "#d8576b"
             ],
             [
              0.6666666666666666,
              "#ed7953"
             ],
             [
              0.7777777777777778,
              "#fb9f3a"
             ],
             [
              0.8888888888888888,
              "#fdca26"
             ],
             [
              1,
              "#f0f921"
             ]
            ],
            "type": "heatmap"
           }
          ],
          "heatmapgl": [
           {
            "colorbar": {
             "outlinewidth": 0,
             "ticks": ""
            },
            "colorscale": [
             [
              0,
              "#0d0887"
             ],
             [
              0.1111111111111111,
              "#46039f"
             ],
             [
              0.2222222222222222,
              "#7201a8"
             ],
             [
              0.3333333333333333,
              "#9c179e"
             ],
             [
              0.4444444444444444,
              "#bd3786"
             ],
             [
              0.5555555555555556,
              "#d8576b"
             ],
             [
              0.6666666666666666,
              "#ed7953"
             ],
             [
              0.7777777777777778,
              "#fb9f3a"
             ],
             [
              0.8888888888888888,
              "#fdca26"
             ],
             [
              1,
              "#f0f921"
             ]
            ],
            "type": "heatmapgl"
           }
          ],
          "histogram": [
           {
            "marker": {
             "colorbar": {
              "outlinewidth": 0,
              "ticks": ""
             }
            },
            "type": "histogram"
           }
          ],
          "histogram2d": [
           {
            "colorbar": {
             "outlinewidth": 0,
             "ticks": ""
            },
            "colorscale": [
             [
              0,
              "#0d0887"
             ],
             [
              0.1111111111111111,
              "#46039f"
             ],
             [
              0.2222222222222222,
              "#7201a8"
             ],
             [
              0.3333333333333333,
              "#9c179e"
             ],
             [
              0.4444444444444444,
              "#bd3786"
             ],
             [
              0.5555555555555556,
              "#d8576b"
             ],
             [
              0.6666666666666666,
              "#ed7953"
             ],
             [
              0.7777777777777778,
              "#fb9f3a"
             ],
             [
              0.8888888888888888,
              "#fdca26"
             ],
             [
              1,
              "#f0f921"
             ]
            ],
            "type": "histogram2d"
           }
          ],
          "histogram2dcontour": [
           {
            "colorbar": {
             "outlinewidth": 0,
             "ticks": ""
            },
            "colorscale": [
             [
              0,
              "#0d0887"
             ],
             [
              0.1111111111111111,
              "#46039f"
             ],
             [
              0.2222222222222222,
              "#7201a8"
             ],
             [
              0.3333333333333333,
              "#9c179e"
             ],
             [
              0.4444444444444444,
              "#bd3786"
             ],
             [
              0.5555555555555556,
              "#d8576b"
             ],
             [
              0.6666666666666666,
              "#ed7953"
             ],
             [
              0.7777777777777778,
              "#fb9f3a"
             ],
             [
              0.8888888888888888,
              "#fdca26"
             ],
             [
              1,
              "#f0f921"
             ]
            ],
            "type": "histogram2dcontour"
           }
          ],
          "mesh3d": [
           {
            "colorbar": {
             "outlinewidth": 0,
             "ticks": ""
            },
            "type": "mesh3d"
           }
          ],
          "parcoords": [
           {
            "line": {
             "colorbar": {
              "outlinewidth": 0,
              "ticks": ""
             }
            },
            "type": "parcoords"
           }
          ],
          "scatter": [
           {
            "marker": {
             "colorbar": {
              "outlinewidth": 0,
              "ticks": ""
             }
            },
            "type": "scatter"
           }
          ],
          "scatter3d": [
           {
            "line": {
             "colorbar": {
              "outlinewidth": 0,
              "ticks": ""
             }
            },
            "marker": {
             "colorbar": {
              "outlinewidth": 0,
              "ticks": ""
             }
            },
            "type": "scatter3d"
           }
          ],
          "scattercarpet": [
           {
            "marker": {
             "colorbar": {
              "outlinewidth": 0,
              "ticks": ""
             }
            },
            "type": "scattercarpet"
           }
          ],
          "scattergeo": [
           {
            "marker": {
             "colorbar": {
              "outlinewidth": 0,
              "ticks": ""
             }
            },
            "type": "scattergeo"
           }
          ],
          "scattergl": [
           {
            "marker": {
             "colorbar": {
              "outlinewidth": 0,
              "ticks": ""
             }
            },
            "type": "scattergl"
           }
          ],
          "scattermapbox": [
           {
            "marker": {
             "colorbar": {
              "outlinewidth": 0,
              "ticks": ""
             }
            },
            "type": "scattermapbox"
           }
          ],
          "scatterpolar": [
           {
            "marker": {
             "colorbar": {
              "outlinewidth": 0,
              "ticks": ""
             }
            },
            "type": "scatterpolar"
           }
          ],
          "scatterpolargl": [
           {
            "marker": {
             "colorbar": {
              "outlinewidth": 0,
              "ticks": ""
             }
            },
            "type": "scatterpolargl"
           }
          ],
          "scatterternary": [
           {
            "marker": {
             "colorbar": {
              "outlinewidth": 0,
              "ticks": ""
             }
            },
            "type": "scatterternary"
           }
          ],
          "surface": [
           {
            "colorbar": {
             "outlinewidth": 0,
             "ticks": ""
            },
            "colorscale": [
             [
              0,
              "#0d0887"
             ],
             [
              0.1111111111111111,
              "#46039f"
             ],
             [
              0.2222222222222222,
              "#7201a8"
             ],
             [
              0.3333333333333333,
              "#9c179e"
             ],
             [
              0.4444444444444444,
              "#bd3786"
             ],
             [
              0.5555555555555556,
              "#d8576b"
             ],
             [
              0.6666666666666666,
              "#ed7953"
             ],
             [
              0.7777777777777778,
              "#fb9f3a"
             ],
             [
              0.8888888888888888,
              "#fdca26"
             ],
             [
              1,
              "#f0f921"
             ]
            ],
            "type": "surface"
           }
          ],
          "table": [
           {
            "cells": {
             "fill": {
              "color": "#EBF0F8"
             },
             "line": {
              "color": "white"
             }
            },
            "header": {
             "fill": {
              "color": "#C8D4E3"
             },
             "line": {
              "color": "white"
             }
            },
            "type": "table"
           }
          ]
         },
         "layout": {
          "annotationdefaults": {
           "arrowcolor": "#2a3f5f",
           "arrowhead": 0,
           "arrowwidth": 1
          },
          "colorscale": {
           "diverging": [
            [
             0,
             "#8e0152"
            ],
            [
             0.1,
             "#c51b7d"
            ],
            [
             0.2,
             "#de77ae"
            ],
            [
             0.3,
             "#f1b6da"
            ],
            [
             0.4,
             "#fde0ef"
            ],
            [
             0.5,
             "#f7f7f7"
            ],
            [
             0.6,
             "#e6f5d0"
            ],
            [
             0.7,
             "#b8e186"
            ],
            [
             0.8,
             "#7fbc41"
            ],
            [
             0.9,
             "#4d9221"
            ],
            [
             1,
             "#276419"
            ]
           ],
           "sequential": [
            [
             0,
             "#0d0887"
            ],
            [
             0.1111111111111111,
             "#46039f"
            ],
            [
             0.2222222222222222,
             "#7201a8"
            ],
            [
             0.3333333333333333,
             "#9c179e"
            ],
            [
             0.4444444444444444,
             "#bd3786"
            ],
            [
             0.5555555555555556,
             "#d8576b"
            ],
            [
             0.6666666666666666,
             "#ed7953"
            ],
            [
             0.7777777777777778,
             "#fb9f3a"
            ],
            [
             0.8888888888888888,
             "#fdca26"
            ],
            [
             1,
             "#f0f921"
            ]
           ],
           "sequentialminus": [
            [
             0,
             "#0d0887"
            ],
            [
             0.1111111111111111,
             "#46039f"
            ],
            [
             0.2222222222222222,
             "#7201a8"
            ],
            [
             0.3333333333333333,
             "#9c179e"
            ],
            [
             0.4444444444444444,
             "#bd3786"
            ],
            [
             0.5555555555555556,
             "#d8576b"
            ],
            [
             0.6666666666666666,
             "#ed7953"
            ],
            [
             0.7777777777777778,
             "#fb9f3a"
            ],
            [
             0.8888888888888888,
             "#fdca26"
            ],
            [
             1,
             "#f0f921"
            ]
           ]
          },
          "colorway": [
           "#636efa",
           "#EF553B",
           "#00cc96",
           "#ab63fa",
           "#FFA15A",
           "#19d3f3",
           "#FF6692",
           "#B6E880",
           "#FF97FF",
           "#FECB52"
          ],
          "font": {
           "color": "#2a3f5f"
          },
          "geo": {
           "bgcolor": "white",
           "lakecolor": "white",
           "landcolor": "#E5ECF6",
           "showlakes": true,
           "showland": true,
           "subunitcolor": "white"
          },
          "hoverlabel": {
           "align": "left"
          },
          "hovermode": "closest",
          "mapbox": {
           "style": "light"
          },
          "paper_bgcolor": "white",
          "plot_bgcolor": "#E5ECF6",
          "polar": {
           "angularaxis": {
            "gridcolor": "white",
            "linecolor": "white",
            "ticks": ""
           },
           "bgcolor": "#E5ECF6",
           "radialaxis": {
            "gridcolor": "white",
            "linecolor": "white",
            "ticks": ""
           }
          },
          "scene": {
           "xaxis": {
            "backgroundcolor": "#E5ECF6",
            "gridcolor": "white",
            "gridwidth": 2,
            "linecolor": "white",
            "showbackground": true,
            "ticks": "",
            "zerolinecolor": "white"
           },
           "yaxis": {
            "backgroundcolor": "#E5ECF6",
            "gridcolor": "white",
            "gridwidth": 2,
            "linecolor": "white",
            "showbackground": true,
            "ticks": "",
            "zerolinecolor": "white"
           },
           "zaxis": {
            "backgroundcolor": "#E5ECF6",
            "gridcolor": "white",
            "gridwidth": 2,
            "linecolor": "white",
            "showbackground": true,
            "ticks": "",
            "zerolinecolor": "white"
           }
          },
          "shapedefaults": {
           "line": {
            "color": "#2a3f5f"
           }
          },
          "ternary": {
           "aaxis": {
            "gridcolor": "white",
            "linecolor": "white",
            "ticks": ""
           },
           "baxis": {
            "gridcolor": "white",
            "linecolor": "white",
            "ticks": ""
           },
           "bgcolor": "#E5ECF6",
           "caxis": {
            "gridcolor": "white",
            "linecolor": "white",
            "ticks": ""
           }
          },
          "title": {
           "x": 0.05
          },
          "xaxis": {
           "automargin": true,
           "gridcolor": "white",
           "linecolor": "white",
           "ticks": "",
           "zerolinecolor": "white",
           "zerolinewidth": 2
          },
          "yaxis": {
           "automargin": true,
           "gridcolor": "white",
           "linecolor": "white",
           "ticks": "",
           "zerolinecolor": "white",
           "zerolinewidth": 2
          }
         }
        }
       }
      },
      "text/html": [
       "<div>\n",
       "        \n",
       "        \n",
       "            <div id=\"577c4f32-d9ef-4b2a-a879-c1bedefe7d9e\" class=\"plotly-graph-div\" style=\"height:500px; width:100%;\"></div>\n",
       "            <script type=\"text/javascript\">\n",
       "                require([\"plotly\"], function(Plotly) {\n",
       "                    window.PLOTLYENV=window.PLOTLYENV || {};\n",
       "                    \n",
       "                if (document.getElementById(\"577c4f32-d9ef-4b2a-a879-c1bedefe7d9e\")) {\n",
       "                    Plotly.newPlot(\n",
       "                        '577c4f32-d9ef-4b2a-a879-c1bedefe7d9e',\n",
       "                        [{\"customdata\": [[\"Washington\", 63269], [\"California\", 72326], [\"Ohio\", 390113], [\"Massachusetts\", 182544], [\"South Carolina\", 133358], [\"Connecticut\", 109676], [\"Minnesota\", 65453], [\"Michigan\", 73006], [\"Louisiana\", 124276], [\"Idaho\", 214237], [\"Indiana\", 51265], [\"California\", 82882], [\"Georgia\", 59089], [\"Colorado\", 48608], [\"Florida\", 102436], [\"Massachusetts\", 42544], [\"Illinois\", 199963], [\"Virginia\", 47673], [\"Florida\", 50213], [\"California\", 91739], [\"Texas\", 239538], [\"Kansas\", 181260], [\"Mississippi\", 172638], [\"North Carolina\", 73209], [\"Florida\", 62316], [\"Missouri\", 467007], [\"California\", 42448], [\"Minnesota\", 61434], [\"Texas\", 58043], [\"New Mexico\", 48611], [\"Alabama\", 201332], [\"Utah\", 48913], [\"Massachusetts\", 39083], [\"Pennsylvania\", 118577], [\"South Carolina\", 74885], [\"Georgia\", 202824], [\"New York\", 258959], [\"Wisconsin\", 39834], [\"Texas\", 67317], [\"Ohio\", 38355], [\"California\", 479686], [\"Arkansas\", 87650], [\"Rhode Island\", 47149], [\"Iowa\", 41776], [\"New York\", 68224], [\"Colorado\", 147214], [\"Nevada\", 270811], [\"California\", 48508], [\"Connecticut\", 126456], [\"Indiana\", 82575], [\"Tennessee\", 52962], [\"Washington\", 210721], [\"Washington\", 76762], [\"Pennsylvania\", 1553165], [\"Washington\", 82631], [\"California\", 127763], [\"Wisconsin\", 51522], [\"Iowa\", 61969], [\"Florida\", 42757], [\"Texas\", 1257676], [\"California\", 107100], [\"Michigan\", 131224], [\"Florida\", 78041], [\"Indiana\", 83891], [\"Wyoming\", 62448], [\"California\", 107479], [\"Kansas\", 50344], [\"Indiana\", 56540], [\"Mississippi\", 50997], [\"California\", 80988], [\"Maryland\", 65690], [\"California\", 56707], [\"Maryland\", 66893], [\"North Carolina\", 89130], [\"Illinois\", 43849], [\"Wisconsin\", 60697], [\"Colorado\", 127359], [\"Iowa\", 61255], [\"Massachusetts\", 88697], [\"California\", 61170], [\"California\", 256780], [\"Florida\", 126604], [\"North Carolina\", 83506], [\"Georgia\", 53438], [\"Florida\", 45587], [\"North Dakota\", 54932], [\"Ohio\", 39325], [\"Illinois\", 144864], [\"Florida\", 146526], [\"Arkansas\", 60112], [\"Louisiana\", 378715], [\"Washington\", 59097], [\"Illinois\", 57073], [\"Idaho\", 48957], [\"Oregon\", 609456], [\"California\", 125880], [\"Washington\", 49858], [\"Missouri\", 67569], [\"Wisconsin\", 71016], [\"Arizona\", 68667], [\"Washington\", 38609], [\"New York\", 65902], [\"Colorado\", 649495], [\"Illinois\", 117006], [\"California\", 40584], [\"California\", 201175], [\"Ohio\", 55870], [\"Michigan\", 37313], [\"Arizona\", 52844], [\"Arkansas\", 66075], [\"Nevada\", 233294], [\"Colorado\", 44275], [\"Arizona\", 40590], [\"California\", 52105], [\"Texas\", 37442], [\"Maine\", 66318], [\"Minnesota\", 78373], [\"Connecticut\", 55046], [\"California\", 43363], [\"Texas\", 39458], [\"Michigan\", 99763], [\"California\", 66695], [\"Arizona\", 56683], [\"California\", 40963], [\"California\", 83539], [\"Arizona\", 226918], [\"Ohio\", 822553], [\"Pennsylvania\", 59325], [\"Nebraska\", 268738], [\"New Jersey\", 84349], [\"Massachusetts\", 645966], [\"California\", 51074], [\"Minnesota\", 110742], [\"Missouri\", 52363], [\"Maryland\", 38722], [\"North Carolina\", 59635], [\"Indiana\", 47135], [\"California\", 39389], [\"Illinois\", 37240], [\"Montana\", 69122], [\"California\", 99769], [\"Texas\", 100065], [\"Arizona\", 229972], [\"Wisconsin\", 39309], [\"North Carolina\", 431746], [\"California\", 139969], [\"California\", 66900], [\"Washington\", 39056], [\"California\", 55174], [\"Arizona\", 38290], [\"Florida\", 186411], [\"Texas\", 63032], [\"Virginia\", 43609], [\"Texas\", 1409019], [\"Connecticut\", 125017], [\"Iowa\", 68366], [\"New York\", 46444], [\"Idaho\", 83596], [\"Wisconsin\", 42970], [\"Texas\", 75418], [\"North Carolina\", 151088], [\"Massachusetts\", 55419], [\"Oklahoma\", 398121], [\"Texas\", 81050], [\"Ohio\", 49267], [\"Massachusetts\", 60509], [\"Texas\", 92020], [\"Arizona\", 526116], [\"Tennessee\", 68886], [\"Minnesota\", 39167], [\"Florida\", 842583], [\"New Jersey\", 39551], [\"Pennsylvania\", 100671], [\"California\", 81102], [\"Texas\", 120099], [\"California\", 67032], [\"South Carolina\", 61397], [\"North Carolina\", 50458], [\"Michigan\", 60070], [\"Pennsylvania\", 49188], [\"California\", 108817], [\"California\", 224922], [\"Colorado\", 108249], [\"Massachusetts\", 37670], [\"Illinois\", 42895], [\"Minnesota\", 400070], [\"Tennessee\", 58226], [\"Texas\", 104898], [\"Texas\", 70185], [\"Missouri\", 318416], [\"Texas\", 73790], [\"New Mexico\", 556495], [\"Georgia\", 119980], [\"Utah\", 59366], [\"Nevada\", 226877], [\"California\", 151348], [\"California\", 55191], [\"Ohio\", 37490], [\"Kansas\", 90811], [\"Texas\", 123933], [\"Oklahoma\", 610613], [\"Arizona\", 41627], [\"Arizona\", 457587], [\"Connecticut\", 87776], [\"Michigan\", 50233], [\"Wisconsin\", 37999], [\"Texas\", 40922], [\"Indiana\", 47989], [\"California\", 78327], [\"Minnesota\", 66297], [\"New Jersey\", 70868], [\"California\", 148738], [\"California\", 42443], [\"California\", 116768], [\"California\", 65040], [\"Oklahoma\", 97151], [\"Wisconsin\", 67545], [\"Arizona\", 45508], [\"Texas\", 51483], [\"Indiana\", 256496], [\"Washington\", 54790], [\"Massachusetts\", 57170], [\"California\", 61653], [\"New York\", 98424], [\"California\", 104739], [\"Michigan\", 61817], [\"Virginia\", 78014], [\"Maryland\", 56759], [\"Connecticut\", 83684], [\"Virginia\", 44349], [\"Florida\", 49631], [\"Idaho\", 46402], [\"California\", 115708], [\"Illinois\", 40388], [\"California\", 43341], [\"Arizona\", 72864], [\"New Jersey\", 145948], [\"Oregon\", 160614], [\"Florida\", 65173], [\"Michigan\", 50303], [\"Texas\", 181860], [\"Texas\", 68609], [\"Texas\", 50195], [\"Minnesota\", 49376], [\"Michigan\", 688701], [\"Ohio\", 42635], [\"Texas\", 60872], [\"New York\", 210358], [\"Alabama\", 212113], [\"Texas\", 885400], [\"California\", 90412], [\"Illinois\", 37385], [\"New Mexico\", 91956], [\"Illinois\", 54664], [\"Illinois\", 39650], [\"Minnesota\", 62103], [\"California\", 101128], [\"Florida\", 255483], [\"Wyoming\", 59628], [\"Texas\", 48592], [\"North Carolina\", 112067], [\"Florida\", 49998], [\"Florida\", 43250], [\"Kansas\", 148483], [\"Massachusetts\", 40383], [\"Illinois\", 38015], [\"Massachusetts\", 87971], [\"Florida\", 61007], [\"Connecticut\", 40347], [\"New Jersey\", 278427], [\"Louisiana\", 48426], [\"Minnesota\", 60407], [\"Texas\", 65665], [\"California\", 43509], [\"Texas\", 123099], [\"Texas\", 48733], [\"Indiana\", 53665], [\"California\", 155662], [\"Florida\", 111378], [\"West Virginia\", 49177], [\"Texas\", 248142], [\"Florida\", 77508], [\"Texas\", 43580], [\"Florida\", 104898], [\"North Carolina\", 49628], [\"Utah\", 43023], [\"California\", 46714], [\"Ohio\", 80429], [\"South Dakota\", 70812], [\"California\", 42889], [\"Colorado\", 49799], [\"Massachusetts\", 153703], [\"Colorado\", 152061], [\"California\", 87965], [\"California\", 96929], [\"New York\", 199766], [\"Ohio\", 297517], [\"Maryland\", 40612], [\"Florida\", 56002], [\"New Jersey\", 68247], [\"Ohio\", 282313], [\"Arizona\", 45129], [\"Virginia\", 182020], [\"Indiana\", 78967], [\"Illinois\", 41778], [\"Texas\", 83860], [\"Alabama\", 186254], [\"California\", 63338], [\"Washington\", 40727], [\"Texas\", 39605], [\"North Carolina\", 56954], [\"Michigan\", 59887], [\"California\", 59834], [\"California\", 151574], [\"New York\", 49468], [\"Nevada\", 93282], [\"California\", 54686], [\"California\", 49087], [\"Ohio\", 65184], [\"Alabama\", 45799], [\"California\", 69999], [\"Missouri\", 38816], [\"Idaho\", 86518], [\"District of Columbia\", 646449], [\"Illinois\", 53648], [\"Texas\", 38071], [\"California\", 101910], [\"North Dakota\", 113658], [\"Illinois\", 116513], [\"Nebraska\", 434353], [\"California\", 49228], [\"Kansas\", 56143], [\"California\", 46281], [\"California\", 1355896], [\"California\", 171990], [\"Massachusetts\", 108861], [\"Oklahoma\", 103500], [\"Washington\", 124435], [\"Tennessee\", 634464], [\"New Jersey\", 44113], [\"Colorado\", 59471], [\"North Carolina\", 245475], [\"Kansas\", 386552], [\"California\", 52977], [\"Minnesota\", 58562], [\"Illinois\", 45556], [\"Texas\", 37093], [\"Wisconsin\", 37159], [\"California\", 147559], [\"California\", 62864], [\"Wisconsin\", 99889], [\"Pennsylvania\", 41757], [\"Ohio\", 46454], [\"Illinois\", 40915], [\"Florida\", 104410], [\"Texas\", 97492], [\"Illinois\", 78902], [\"California\", 84691], [\"South Carolina\", 37647], [\"New Hampshire\", 87137], [\"Georgia\", 89981], [\"New York\", 55361], [\"New Jersey\", 76903], [\"California\", 50508], [\"Illinois\", 40351], [\"Virginia\", 230571], [\"Ohio\", 43607], [\"California\", 66086], [\"Michigan\", 37213], [\"New Jersey\", 127558], [\"Alaska\", 300950], [\"North Dakota\", 46321], [\"Florida\", 96830], [\"Texas\", 136639], [\"Texas\", 148559], [\"Texas\", 137147], [\"Ohio\", 41512], [\"California\", 406253], [\"California\", 77846], [\"California\", 57525], [\"Texas\", 196429], [\"Utah\", 116288], [\"Georgia\", 447841], [\"California\", 61085], [\"Ohio\", 44730], [\"California\", 63105], [\"Illinois\", 74710], [\"Rhode Island\", 41026], [\"Alabama\", 194899], [\"California\", 118837], [\"California\", 57639], [\"Tennessee\", 47333], [\"Missouri\", 43330], [\"Texas\", 81443], [\"Arizona\", 249146], [\"Colorado\", 111707], [\"California\", 84577], [\"Indiana\", 56895], [\"Florida\", 43286], [\"Indiana\", 843393], [\"Florida\", 71097], [\"Arizona\", 37130], [\"Illinois\", 54771], [\"Rhode Island\", 80566], [\"Indiana\", 70373], [\"Kansas\", 131885], [\"Georgia\", 82788], [\"North Carolina\", 279639], [\"Michigan\", 75548], [\"Oregon\", 50444], [\"North Carolina\", 69079], [\"California\", 85285], [\"Alabama\", 95334], [\"Iowa\", 51567], [\"California\", 86199], [\"Alabama\", 84126], [\"Florida\", 64072], [\"Florida\", 60202], [\"Arizona\", 39383], [\"Florida\", 68388], [\"Michigan\", 82821], [\"New York\", 79446], [\"California\", 298118], [\"Michigan\", 58946], [\"Florida\", 44206], [\"California\", 64652], [\"Washington\", 91113], [\"California\", 112174], [\"Texas\", 183372], [\"Virginia\", 96205], [\"Washington\", 44919], [\"North Carolina\", 42214], [\"Iowa\", 82459], [\"California\", 61588], [\"Utah\", 36956], [\"California\", 58879], [\"Minnesota\", 62603], [\"Arizona\", 162592], [\"Arizona\", 168228], [\"Delaware\", 71525], [\"Utah\", 60519], [\"Michigan\", 82578], [\"Texas\", 143484], [\"North Carolina\", 51510], [\"Texas\", 234566], [\"California\", 107571], [\"North Dakota\", 67034], [\"Nevada\", 54080], [\"Oklahoma\", 38863], [\"Georgia\", 197350], [\"North Carolina\", 204408], [\"Georgia\", 76185], [\"New Jersey\", 44412], [\"California\", 44096], [\"California\", 56449], [\"Alabama\", 55816], [\"Tennessee\", 173366], [\"Indiana\", 45929], [\"Illinois\", 41679], [\"California\", 76635], [\"Florida\", 91026], [\"Tennessee\", 67685], [\"Texas\", 54135], [\"California\", 46377], [\"Texas\", 40714], [\"California\", 87273], [\"Utah\", 40921], [\"Washington\", 93257], [\"Ohio\", 143355], [\"Mississippi\", 71012], [\"California\", 469428], [\"California\", 88077], [\"Mississippi\", 47556], [\"Oregon\", 159190], [\"California\", 53243], [\"California\", 63495], [\"California\", 74110], [\"Washington\", 105370], [\"Kansas\", 41889], [\"California\", 109320], [\"Arizona\", 78822], [\"Ohio\", 48139], [\"Michigan\", 51848], [\"Minnesota\", 86319], [\"Illinois\", 38877], [\"Oregon\", 93542], [\"Louisiana\", 66975], [\"New Mexico\", 39508], [\"New York\", 49974], [\"California\", 69783], [\"Illinois\", 58918], [\"California\", 52206], [\"Massachusetts\", 56069], [\"California\", 38027], [\"Tennessee\", 65123], [\"Georgia\", 142772], [\"Ohio\", 40768], [\"Washington\", 167405], [\"Florida\", 90116], [\"Indiana\", 70316], [\"Utah\", 54382], [\"California\", 837442], [\"California\", 203003], [\"Texas\", 136791], [\"California\", 76572], [\"California\", 49417], [\"Ohio\", 38142], [\"New Jersey\", 55831], [\"Virginia\", 246139], [\"Oregon\", 97368], [\"California\", 45851], [\"Florida\", 52703], [\"Ohio\", 62258], [\"South Carolina\", 37792], [\"California\", 213708], [\"Georgia\", 40059], [\"California\", 121096], [\"Indiana\", 78450], [\"Arizona\", 50111], [\"California\", 40836], [\"Iowa\", 58253], [\"New York\", 144669], [\"Tennessee\", 142357], [\"Florida\", 100710], [\"New York\", 37659], [\"Delaware\", 37366], [\"Minnesota\", 39398], [\"California\", 39428], [\"Illinois\", 69350], [\"Washington\", 652405], [\"Kentucky\", 40956], [\"California\", 161007], [\"Louisiana\", 200327], [\"Utah\", 84249], [\"Virginia\", 51395], [\"California\", 111542], [\"California\", 139731], [\"Massachusetts\", 77657], [\"Oregon\", 37610], [\"California\", 59440], [\"Ohio\", 59357], [\"California\", 79068], [\"Colorado\", 345803], [\"Minnesota\", 86128], [\"Virginia\", 98465], [\"Oregon\", 81236], [\"California\", 70924], [\"Massachusetts\", 62227], [\"Florida\", 68190], [\"Florida\", 352957], [\"California\", 75413], [\"Virginia\", 42907], [\"Wisconsin\", 36888], [\"Florida\", 90268], [\"Colorado\", 439886], [\"California\", 204933], [\"Michigan\", 192294], [\"Illinois\", 52066], [\"Florida\", 53326], [\"California\", 98030], [\"California\", 77593], [\"Colorado\", 103166], [\"New Mexico\", 69976], [\"California\", 43092], [\"Massachusetts\", 39414], [\"California\", 316619], [\"California\", 157161], [\"California\", 54194], [\"Utah\", 70790], [\"Illinois\", 73936], [\"California\", 96346], [\"Illinois\", 45417], [\"California\", 45237], [\"California\", 73098], [\"Arizona\", 39791], [\"New Mexico\", 101324], [\"Montana\", 39860], [\"Illinois\", 74907], [\"Michigan\", 134873], [\"Missouri\", 54842], [\"Iowa\", 61792], [\"Arizona\", 123546], [\"Texas\", 104475], [\"Michigan\", 42181], [\"Texas\", 54076], [\"Pennsylvania\", 41108], [\"Wisconsin\", 73596], [\"Kansas\", 64323], [\"Ohio\", 46979], [\"California\", 85156], [\"North Carolina\", 792862], [\"Kentucky\", 58416], [\"Florida\", 58298], [\"California\", 41398], [\"Illinois\", 2718782], [\"Montana\", 109059], [\"Wisconsin\", 47134], [\"Illinois\", 43907], [\"Connecticut\", 130660], [\"Pennsylvania\", 43935], [\"Tennessee\", 183270], [\"Ohio\", 53956], [\"Massachusetts\", 44641], [\"Utah\", 48612], [\"California\", 76419], [\"California\", 71948], [\"Minnesota\", 39765], [\"Oregon\", 77677], [\"Tennessee\", 117044], [\"California\", 65416], [\"Connecticut\", 40999], [\"Iowa\", 40566], [\"Tennessee\", 39375], [\"Pennsylvania\", 75806], [\"Alabama\", 58582], [\"Virginia\", 41705], [\"California\", 94275], [\"California\", 92472], [\"Virginia\", 85728], [\"Michigan\", 72952], [\"California\", 39331], [\"West Virginia\", 50821], [\"California\", 52403], [\"Florida\", 40918], [\"South Carolina\", 127999], [\"North Carolina\", 44359], [\"California\", 159503], [\"California\", 59738], [\"Missouri\", 93184], [\"Florida\", 78740], [\"Utah\", 90231], [\"Arkansas\", 40167], [\"California\", 179590], [\"Florida\", 42150], [\"Texas\", 63279], [\"Tennessee\", 653450], [\"Texas\", 228653], [\"Virginia\", 148892], [\"California\", 92147], [\"Massachusetts\", 40249], [\"Georgia\", 47591], [\"Illinois\", 65176], [\"New Jersey\", 41664], [\"Pennsylvania\", 75018], [\"Missouri\", 77147], [\"California\", 67815], [\"Texas\", 2195914], [\"California\", 106780], [\"Michigan\", 117025], [\"Texas\", 117796], [\"Michigan\", 48554], [\"California\", 56105], [\"Florida\", 63155], [\"Nebraska\", 53663], [\"Florida\", 162329], [\"Arkansas\", 75229], [\"California\", 203007], [\"Texas\", 110720], [\"Oklahoma\", 47186], [\"Massachusetts\", 94089], [\"New Jersey\", 65028], [\"California\", 54980], [\"Illinois\", 43116], [\"Mississippi\", 40921], [\"Tennessee\", 42774], [\"New Jersey\", 257342], [\"Minnesota\", 294873], [\"Florida\", 86290], [\"New York\", 43167], [\"Iowa\", 71591], [\"California\", 345012], [\"Minnesota\", 50201], [\"Montana\", 59351], [\"Utah\", 133579], [\"Virginia\", 136699], [\"Texas\", 54898], [\"Utah\", 91648], [\"California\", 37101], [\"Texas\", 42907], [\"South Carolina\", 39823], [\"Arkansas\", 197357], [\"California\", 334227], [\"New York\", 57866], [\"Idaho\", 58292], [\"Washington\", 133992], [\"California\", 127035], [\"New Jersey\", 51982], [\"Massachusetts\", 52044], [\"Nebraska\", 50550], [\"Missouri\", 115276], [\"Wisconsin\", 78199], [\"Indiana\", 85927], [\"Michigan\", 47523], [\"Ohio\", 48630], [\"California\", 56590], [\"Massachusetts\", 53756], [\"Texas\", 53224], [\"Illinois\", 75994], [\"California\", 81750], [\"North Carolina\", 107741], [\"Ohio\", 47777], [\"Oklahoma\", 56756], [\"California\", 89387], [\"Florida\", 57203], [\"California\", 81121], [\"Ohio\", 37530], [\"Illinois\", 150251], [\"California\", 102211], [\"Florida\", 249688], [\"Illinois\", 49670], [\"Connecticut\", 51644], [\"Oregon\", 51583], [\"Nevada\", 603488], [\"Texas\", 152735], [\"Florida\", 171016], [\"Iowa\", 128429], [\"Florida\", 38661], [\"Massachusetts\", 93494], [\"Florida\", 130288], [\"Texas\", 674433], [\"Kansas\", 127679], [\"California\", 54561], [\"Oregon\", 37064], [\"Minnesota\", 51368], [\"Ohio\", 198100], [\"Texas\", 80836], [\"California\", 171386], [\"South Carolina\", 104054], [\"Kentucky\", 609893], [\"California\", 52477], [\"Florida\", 56792], [\"Florida\", 51763], [\"California\", 110972], [\"Texas\", 46081], [\"California\", 91119], [\"Michigan\", 74100], [\"Ohio\", 63710], [\"Utah\", 37733], [\"Florida\", 172389], [\"Georgia\", 72531], [\"Florida\", 109703], [\"Florida\", 43328], [\"Alabama\", 40059], [\"Indiana\", 61025], [\"Texas\", 70190], [\"Ohio\", 45712], [\"South Dakota\", 164676], [\"Indiana\", 45775], [\"Florida\", 55456], [\"Massachusetts\", 41002], [\"Rhode Island\", 81971], [\"California\", 363630], [\"Florida\", 417650], [\"Louisiana\", 74024], [\"Washington\", 52413], [\"North Carolina\", 40361], [\"California\", 66174], [\"Minnesota\", 73987], [\"Indiana\", 100886], [\"Oklahoma\", 87004], [\"Iowa\", 207510], [\"Florida\", 47547], [\"Utah\", 45285], [\"California\", 86635], [\"Michigan\", 95208], [\"Wisconsin\", 599164], [\"Washington\", 74860], [\"South Carolina\", 41190], [\"Massachusetts\", 40664], [\"Washington\", 97003], [\"Colorado\", 106114], [\"Virginia\", 214114], [\"Indiana\", 55670], [\"California\", 40481], [\"Texas\", 53752], [\"New Jersey\", 52575], [\"Kentucky\", 308428], [\"California\", 106589], [\"Arizona\", 91923], [\"California\", 54291], [\"Illinois\", 40379], [\"Illinois\", 147806], [\"South Carolina\", 69103], [\"California\", 67911], [\"Michigan\", 56620], [\"Hawaii\", 347884], [\"Texas\", 65098], [\"Massachusetts\", 43886], [\"Texas\", 44575], [\"Texas\", 126700], [\"Illinois\", 41734], [\"Illinois\", 52398], [\"Massachusetts\", 48514], [\"Florida\", 59212], [\"Maryland\", 64072], [\"California\", 104709], [\"California\", 138981], [\"Wisconsin\", 66778], [\"Texas\", 39795], [\"Michigan\", 81295], [\"California\", 63771], [\"California\", 49707], [\"California\", 40435], [\"Colorado\", 59778], [\"Oklahoma\", 50725], [\"California\", 998537], [\"Texas\", 109821], [\"Minnesota\", 65415], [\"Oklahoma\", 118197], [\"Florida\", 64079], [\"Texas\", 37587], [\"California\", 236716], [\"Idaho\", 54350], [\"California\", 38606], [\"Wisconsin\", 48725], [\"Louisiana\", 66333], [\"Texas\", 61238], [\"Georgia\", 99770], [\"Illinois\", 83424], [\"New Jersey\", 85390], [\"Oklahoma\", 58414], [\"Missouri\", 53294], [\"California\", 159523], [\"Texas\", 78709], [\"Texas\", 38448], [\"Florida\", 165831], [\"California\", 60189], [\"Massachusetts\", 44057], [\"California\", 51701], [\"New Hampshire\", 110378], [\"Virginia\", 448479], [\"Kansas\", 47846], [\"Massachusetts\", 78804], [\"Florida\", 78409], [\"California\", 509924], [\"Alabama\", 37498], [\"Illinois\", 56758], [\"Florida\", 50699], [\"Rhode Island\", 71172], [\"California\", 40275], [\"North Carolina\", 236441], [\"Georgia\", 62298], [\"Missouri\", 82809], [\"California\", 80872], [\"California\", 72528], [\"Florida\", 38632], [\"Minnesota\", 40641], [\"California\", 50175], [\"California\", 83447], [\"Colorado\", 71334], [\"Illinois\", 38241], [\"Rhode Island\", 177994], [\"Florida\", 233394], [\"California\", 74513], [\"California\", 167500], [\"Washington\", 84430], [\"Utah\", 76817], [\"South Carolina\", 39412], [\"California\", 196021], [\"Connecticut\", 60456], [\"California\", 59957], [\"Massachusetts\", 41301], [\"Illinois\", 110145], [\"Texas\", 274409], [\"Colorado\", 89919], [\"Texas\", 40342], [\"Ohio\", 51143], [\"Arkansas\", 71551], [\"Texas\", 100050], [\"Michigan\", 95884], [\"New York\", 61808], [\"Louisiana\", 49761], [\"Maryland\", 622104], [\"Missouri\", 164122], [\"Arkansas\", 46094], [\"New Jersey\", 50588], [\"Massachusetts\", 91589], [\"Minnesota\", 65656], [\"Florida\", 127488], [\"California\", 49891], [\"Washington\", 50169], [\"Florida\", 37199], [\"Arkansas\", 78960], [\"California\", 58994], [\"Arkansas\", 63816], [\"Washington\", 203446], [\"Connecticut\", 47333], [\"Vermont\", 42284], [\"Idaho\", 45981], [\"Texas\", 39296], [\"New York\", 8405837], [\"California\", 126181], [\"California\", 107740], [\"Colorado\", 53063], [\"Georgia\", 56481], [\"Texas\", 792727], [\"California\", 92599], [\"Indiana\", 120310], [\"California\", 102216], [\"Tennessee\", 40021], [\"California\", 58642], [\"Colorado\", 110945], [\"Pennsylvania\", 87893], [\"California\", 70365], [\"Colorado\", 96539], [\"Texas\", 100223], [\"Florida\", 37711], [\"Texas\", 129030], [\"California\", 37165], [\"California\", 128731], [\"California\", 47842], [\"Connecticut\", 147216], [\"Minnesota\", 47411], [\"Missouri\", 47749], [\"Florida\", 38696], [\"Washington\", 67599], [\"California\", 147478], [\"Wisconsin\", 243344], [\"Wisconsin\", 63820], [\"Illinois\", 88826], [\"Kentucky\", 61488], [\"Texas\", 379577], [\"Texas\", 101074], [\"New Mexico\", 45426], [\"California\", 38194], [\"California\", 66642], [\"Oregon\", 60177], [\"Massachusetts\", 95078], [\"Washington\", 57530], [\"California\", 55000], [\"California\", 66205], [\"California\", 49133], [\"Tennessee\", 43060], [\"Pennsylvania\", 45796], [\"Alabama\", 68001], [\"New Jersey\", 64544], [\"Illinois\", 57282], [\"Mississippi\", 44820], [\"Illinois\", 41752], [\"California\", 175140], [\"California\", 71371], [\"Colorado\", 37499], [\"Ohio\", 72535], [\"Georgia\", 50603], [\"Louisiana\", 229426], [\"Connecticut\", 60568], [\"Missouri\", 117240], [\"Michigan\", 113972], [\"Illinois\", 58590], [\"New Jersey\", 61050], [\"Wisconsin\", 104779], [\"Illinois\", 75570], [\"Florida\", 39172], [\"California\", 3884307], [\"Washington\", 92734], [\"Utah\", 110077], [\"California\", 52536], [\"Pennsylvania\", 305841], [\"California\", 113242], [\"Illinois\", 84103], [\"California\", 95677], [\"Florida\", 36877], [\"Missouri\", 50789], [\"Texas\", 90983], [\"Utah\", 191180], [\"Florida\", 43074], [\"Arizona\", 1513367], [\"Oregon\", 55298], [\"Texas\", 46663], [\"Massachusetts\", 55717], [\"Florida\", 57468], [\"Georgia\", 94034], [\"Illinois\", 37839], [\"New Hampshire\", 42419], [\"Washington\", 48338], [\"California\", 197575], [\"Texas\", 316381], [\"Massachusetts\", 62088], [\"Illinois\", 38510], [\"Massachusetts\", 107289], [\"Arizona\", 234632], [\"California\", 38623], [\"South Carolina\", 46074], [\"Iowa\", 102157], [\"Florida\", 89407], [\"Connecticut\", 72939], [\"Michigan\", 47555], [\"Ohio\", 45394], [\"Oregon\", 109397], [\"Florida\", 69813], [\"Tennessee\", 54068], [\"California\", 120245], [\"California\", 172794], [\"California\", 79312], [\"Michigan\", 57960], [\"New Jersey\", 52122], [\"Massachusetts\", 42935], [\"New Jersey\", 41301], [\"North Carolina\", 87236], [\"California\", 97877]], \"hoverlabel\": {\"namelength\": 0}, \"hovertemplate\": \"<b>%{hovertext}</b><br><br>State=%{customdata[0]}<br>Population=%{customdata[1]}<br>lat=%{lat}<br>lon=%{lon}\", \"hovertext\": [\"Marysville\", \"Perris\", \"Cleveland\", \"Worcester\", \"Columbia\", \"Waterbury\", \"Eagan\", \"Southfield\", \"Lafayette\", \"Boise City\", \"Elkhart\", \"Buena Park\", \"Marietta\", \"Parker\", \"West Palm Beach\", \"Salem\", \"Aurora\", \"Leesburg\", \"Doral\", \"Westminster\", \"Lubbock\", \"Overland Park\", \"Jackson\", \"Gastonia\", \"Daytona Beach\", \"Kansas City\", \"Rancho Palos Verdes\", \"Burnsville\", \"Rowlett\", \"Roswell\", \"Montgomery\", \"Logan\", \"Woburn\", \"Allentown\", \"Mount Pleasant\", \"Columbus\", \"Buffalo\", \"New Berlin\", \"North Richland Hills\", \"Lima\", \"Sacramento\", \"Fort Smith\", \"East Providence\", \"Urbandale\", \"Mount Vernon\", \"Lakewood\", \"Henderson\", \"Covina\", \"Stamford\", \"Bloomington\", \"Kingsport\", \"Spokane\", \"Kennewick\", \"Philadelphia\", \"Bellingham\", \"Visalia\", \"La Crosse\", \"Council Bluffs\", \"North Lauderdale\", \"Dallas\", \"Antioch\", \"Sterling Heights\", \"Deerfield Beach\", \"Fishers\", \"Cheyenne\", \"Murrieta\", \"Lenexa\", \"Noblesville\", \"Southaven\", \"Chino\", \"Gaithersburg\", \"Fountain Valley\", \"Frederick\", \"Greenville\", \"DeKalb\", \"West Allis\", \"Thornton\", \"West Des Moines\", \"Fall River\", \"Tulare\", \"Chula Vista\", \"Coral Springs\", \"Concord\", \"Smyrna\", \"Apopka\", \"Grand Forks\", \"Lancaster\", \"Naperville\", \"Hollywood\", \"Rogers\", \"New Orleans\", \"Lakewood\", \"Oak Lawn\", \"Caldwell\", \"Portland\", \"Concord\", \"Burien\", \"St. Charles\", \"Waukesha\", \"Flagstaff\", \"Puyallup\", \"Schenectady\", \"Denver\", \"Springfield\", \"Campbell\", \"Moreno Valley\", \"Kettering\", \"Lincoln Park\", \"Lake Havasu City\", \"North Little Rock\", \"Reno\", \"Littleton\", \"Prescott\", \"Dublin\", \"Texarkana\", \"Portland\", \"Brooklyn Park\", \"West Haven\", \"El Centro\", \"The Colony\", \"Flint\", \"Pittsburg\", \"Buckeye\", \"Brea\", \"Indio\", \"Scottsdale\", \"Columbus\", \"Lancaster\", \"Lincoln\", \"Trenton\", \"Boston\", \"Glendora\", \"Rochester\", \"Florissant\", \"Annapolis\", \"Chapel Hill\", \"Lawrence\", \"Calexico\", \"Calumet City\", \"Missoula\", \"Clovis\", \"Pearland\", \"Gilbert\", \"Wausau\", \"Raleigh\", \"Orange\", \"Walnut Creek\", \"Bremerton\", \"Porterville\", \"Marana\", \"Tallahassee\", \"Conroe\", \"Blacksburg\", \"San Antonio\", \"Hartford\", \"Waterloo\", \"Binghamton\", \"Meridian\", \"Fond du Lac\", \"Baytown\", \"Cary\", \"Weymouth Town\", \"Tulsa\", \"Mission\", \"Cuyahoga Falls\", \"Malden\", \"Allen\", \"Tucson\", \"Franklin\", \"Shakopee\", \"Jacksonville\", \"Atlantic City\", \"Erie\", \"Merced\", \"Abilene\", \"Yorba Linda\", \"Greenville\", \"Huntersville\", \"St. Clair Shores\", \"Harrisburg\", \"San Buenaventura (Ventura)\", \"Fremont\", \"Pueblo\", \"Chelsea\", \"Belleville\", \"Minneapolis\", \"Bartlett\", \"Wichita Falls\", \"Missouri City\", \"St. Louis\", \"Pharr\", \"Albuquerque\", \"Athens-Clarke County\", \"South Jordan\", \"North Las Vegas\", \"Pomona\", \"Eastvale\", \"Grove City\", \"Lawrence\", \"Midland\", \"Oklahoma City\", \"Oro Valley\", \"Mesa\", \"Norwalk\", \"Kentwood\", \"Brookfield\", \"Rockwall\", \"Mishawaka\", \"Tustin\", \"St. Cloud\", \"Passaic\", \"Escondido\", \"San Bruno\", \"Berkeley\", \"San Clemente\", \"Lawton\", \"Eau Claire\", \"Maricopa\", \"DeSoto\", \"Fort Wayne\", \"Shoreline\", \"Medford\", \"La Habra\", \"Albany\", \"Daly City\", \"Taylor\", \"Lynchburg\", \"Bowie\", \"Danbury\", \"Charlottesville\", \"Coral Gables\", \"Coeur d'Alene\", \"El Monte\", \"Crystal Lake\", \"Danville\", \"Goodyear\", \"Paterson\", \"Salem\", \"Kissimmee\", \"Saginaw\", \"Brownsville\", \"Flower Mound\", \"Grapevine\", \"Edina\", \"Detroit\", \"Fairfield\", \"Mansfield\", \"Rochester\", \"Birmingham\", \"Austin\", \"Santa Barbara\", \"Addison\", \"Rio Rancho\", \"Normal\", \"Romeoville\", \"Coon Rapids\", \"San Mateo\", \"Orlando\", \"Casper\", \"Bedford\", \"Wilmington\", \"Pinellas Park\", \"North Miami Beach\", \"Kansas City\", \"Fitchburg\", \"Wheeling\", \"Newton\", \"North Miami\", \"Norwich\", \"Newark\", \"Alexandria\", \"Blaine\", \"Harlingen\", \"Lompoc\", \"Denton\", \"Galveston\", \"Greenwood\", \"Salinas\", \"Miami Gardens\", \"Huntington\", \"Laredo\", \"Melbourne\", \"Haltom City\", \"Palm Bay\", \"Wilson\", \"Bountiful\", \"Ceres\", \"Parma\", \"Rapid City\", \"Bell Gardens\", \"Commerce City\", \"Springfield\", \"Fort Collins\", \"San Leandro\", \"Vista\", \"Yonkers\", \"Cincinnati\", \"Hagerstown\", \"Sanford\", \"Union City\", \"Toledo\", \"Sierra Vista\", \"Newport News\", \"Hammond\", \"Buffalo Grove\", \"Sugar Land\", \"Huntsville\", \"Lodi\", \"Edmonds\", \"Duncanville\", \"Rocky Mount\", \"Pontiac\", \"National City\", \"Hayward\", \"Niagara Falls\", \"Sparks\", \"Hanford\", \"Cypress\", \"Youngstown\", \"Madison\", \"Redlands\", \"Cape Girardeau\", \"Nampa\", \"Washington\", \"Wheaton\", \"Lancaster\", \"Rialto\", \"Fargo\", \"Peoria\", \"Omaha\", \"Rancho Santa Margarita\", \"Manhattan\", \"Palm Springs\", \"San Diego\", \"Santa Rosa\", \"Lowell\", \"Broken Arrow\", \"Kent\", \"Nashville\", \"Hackensack\", \"Broomfield\", \"Durham\", \"Wichita\", \"Cathedral City\", \"Lakeville\", \"Elmhurst\", \"Weslaco\", \"Greenfield\", \"Sunnyvale\", \"Santa Cruz\", \"Kenosha\", \"State College\", \"Mansfield\", \"Quincy\", \"Pompano Beach\", \"San Angelo\", \"Bloomington\", \"Tracy\", \"Spartanburg\", \"Nashua\", \"Macon\", \"Hempstead\", \"Camden\", \"Palm Desert\", \"Streamwood\", \"Chesapeake\", \"Dublin\", \"Camarillo\", \"Muskegon\", \"Elizabeth\", \"Anchorage\", \"Minot\", \"Davie\", \"McAllen\", \"McKinney\", \"Killeen\", \"Findlay\", \"Oakland\", \"Mountain View\", \"Lake Elsinore\", \"Amarillo\", \"Provo\", \"Atlanta\", \"Monterey Park\", \"Strongsville\", \"Madera\", \"Decatur\", \"Woonsocket\", \"Mobile\", \"Vallejo\", \"Arcadia\", \"Collierville\", \"Jefferson City\", \"Longview\", \"Chandler\", \"Arvada\", \"Alhambra\", \"Kokomo\", \"Oakland Park\", \"Indianapolis\", \"Boynton Beach\", \"Apache Junction\", \"Mount Prospect\", \"Cranston\", \"Lafayette\", \"Olathe\", \"Johns Creek\", \"Greensboro\", \"Kalamazoo\", \"Tigard\", \"Jacksonville\", \"Citrus Heights\", \"Tuscaloosa\", \"Ankeny\", \"Hawthorne\", \"Hoover\", \"Delray Beach\", \"Wellington\", \"Bullhead City\", \"Weston\", \"Troy\", \"New Rochelle\", \"Stockton\", \"Royal Oak\", \"Titusville\", \"Laguna Niguel\", \"Spokane Valley\", \"Costa Mesa\", \"Grand Prairie\", \"Portsmouth\", \"Lacey\", \"Apex\", \"Sioux City\", \"Encinitas\", \"Spanish Fork\", \"Huntington Park\", \"Eden Prairie\", \"Peoria\", \"Tempe\", \"Wilmington\", \"Taylorsville\", \"Westland\", \"Mesquite\", \"Burlington\", \"Garland\", \"Richmond\", \"Bismarck\", \"Carson City\", \"Muskogee\", \"Augusta-Richmond County\", \"Fayetteville\", \"Albany\", \"Sayreville\", \"Newark\", \"Diamond Bar\", \"Decatur\", \"Chattanooga\", \"Jeffersonville\", \"Bartlett\", \"Baldwin Park\", \"Miami Beach\", \"Jackson\", \"Port Arthur\", \"San Luis Obispo\", \"Burleson\", \"Newport Beach\", \"Riverton\", \"Yakima\", \"Dayton\", \"Gulfport\", \"Long Beach\", \"Chico\", \"Hattiesburg\", \"Eugene\", \"Colton\", \"Montebello\", \"Pleasanton\", \"Everett\", \"Hutchinson\", \"Fairfield\", \"Avondale\", \"Euclid\", \"Battle Creek\", \"Bloomington\", \"Rock Island\", \"Beaverton\", \"Kenner\", \"Clovis\", \"Troy\", \"Milpitas\", \"Des Plaines\", \"Placentia\", \"Taunton\", \"Montclair\", \"Johnson City\", \"Savannah\", \"Warren\", \"Vancouver\", \"Sunrise\", \"Muncie\", \"Lehi\", \"San Francisco\", \"Fontana\", \"Frisco\", \"Chino Hills\", \"Poway\", \"Huber Heights\", \"New Brunswick\", \"Norfolk\", \"Hillsboro\", \"San Jacinto\", \"Pensacola\", \"Hamilton\", \"Florence\", \"San Bernardino\", \"Peachtree Corners\", \"Victorville\", \"Gary\", \"Casa Grande\", \"Morgan Hill\", \"Dubuque\", \"Syracuse\", \"Clarksville\", \"Lakeland\", \"Valley Stream\", \"Dover\", \"Moorhead\", \"Culver City\", \"Palatine\", \"Seattle\", \"Covington\", \"Elk Grove\", \"Shreveport\", \"Ogden\", \"Harrisonburg\", \"Inglewood\", \"Pasadena\", \"Lawrence\", \"Lake Oswego\", \"Petaluma\", \"Springfield\", \"Napa\", \"Aurora\", \"Duluth\", \"Roanoke\", \"Bend\", \"Apple Valley\", \"Waltham\", \"Fort Myers\", \"Tampa\", \"Upland\", \"Danville\", \"Beloit\", \"Plantation\", \"Colorado Springs\", \"Modesto\", \"Grand Rapids\", \"Oak Park\", \"Sarasota\", \"Jurupa Valley\", \"Bellflower\", \"Boulder\", \"Santa Fe\", \"Coachella\", \"Marlborough\", \"Riverside\", \"Palmdale\", \"Novato\", \"Layton\", \"Bolingbrook\", \"Mission Viejo\", \"Glenview\", \"Lincoln\", \"Folsom\", \"Prescott Valley\", \"Las Cruces\", \"Bozeman\", \"Schaumburg\", \"Warren\", \"St. Peters\", \"Ames\", \"Surprise\", \"Richardson\", \"Midland\", \"San Marcos\", \"Wilkes-Barre\", \"Appleton\", \"Shawnee\", \"Mentor\", \"Livermore\", \"Charlotte\", \"Owensboro\", \"Jupiter\", \"Rohnert Park\", \"Chicago\", \"Billings\", \"Wauwatosa\", \"Lombard\", \"New Haven\", \"York\", \"Knoxville\", \"Elyria\", \"Barnstable Town\", \"Murray\", \"Alameda\", \"Manteca\", \"Maplewood\", \"Medford\", \"Murfreesboro\", \"Yuba City\", \"Shelton\", \"Cedar Falls\", \"Germantown\", \"Scranton\", \"Auburn\", \"Manassas\", \"Vacaville\", \"Santa Monica\", \"Suffolk\", \"Rochester Hills\", \"La Quinta\", \"Charleston\", \"Delano\", \"St. Cloud\", \"Charleston\", \"Kannapolis\", \"Corona\", \"Rocklin\", \"Lee's Summit\", \"Palm Coast\", \"Sandy\", \"Bentonville\", \"Santa Clarita\", \"Altamonte Springs\", \"New Braunfels\", \"Memphis\", \"Irving\", \"Alexandria\", \"Hesperia\", \"Holyoke\", \"Dunwoody\", \"Skokie\", \"Kearny\", \"Bethlehem\", \"St. Joseph\", \"Redondo Beach\", \"Houston\", \"Temecula\", \"Ann Arbor\", \"Beaumont\", \"East Lansing\", \"Santee\", \"Tamarac\", \"Bellevue\", \"Pembroke Pines\", \"Springdale\", \"Oxnard\", \"Odessa\", \"Stillwater\", \"Brockton\", \"Bayonne\", \"Paramount\", \"Moline\", \"Meridian\", \"Cleveland\", \"Jersey City\", \"St. Paul\", \"Deltona\", \"Freeport\", \"Iowa City\", \"Anaheim\", \"Apple Valley\", \"Great Falls\", \"West Valley City\", \"Hampton\", \"Georgetown\", \"Orem\", \"Monrovia\", \"Keller\", \"Goose Creek\", \"Little Rock\", \"Santa Ana\", \"White Plains\", \"Idaho Falls\", \"Bellevue\", \"Roseville\", \"Perth Amboy\", \"Peabody\", \"Grand Island\", \"Columbia\", \"Racine\", \"Carmel\", \"Portage\", \"Middletown\", \"Woodland\", \"Revere\", \"Euless\", \"Arlington Heights\", \"Hemet\", \"High Point\", \"Newark\", \"Midwest City\", \"San Marcos\", \"Port Orange\", \"Lakewood\", \"Westerville\", \"Rockford\", \"El Cajon\", \"St. Petersburg\", \"Downers Grove\", \"Milford\", \"Albany\", \"Las Vegas\", \"Pasadena\", \"Port St. Lucie\", \"Cedar Rapids\", \"Ormond Beach\", \"Quincy\", \"Miramar\", \"El Paso\", \"Topeka\", \"Rosemead\", \"Keizer\", \"Minnetonka\", \"Akron\", \"Edinburg\", \"Rancho Cucamonga\", \"North Charleston\", \"Louisville\", \"Watsonville\", \"Coconut Creek\", \"Bradenton\", \"Carlsbad\", \"Texas City\", \"Redding\", \"Wyoming\", \"Lorain\", \"Roy\", \"Fort Lauderdale\", \"Warner Robins\", \"Clearwater\", \"Cutler Bay\", \"Florence\", \"Terre Haute\", \"Temple\", \"Beavercreek\", \"Sioux Falls\", \"Columbus\", \"Margate\", \"Leominster\", \"Warwick\", \"Bakersfield\", \"Miami\", \"Lake Charles\", \"Richland\", \"Hickory\", \"South San Francisco\", \"Plymouth\", \"South Bend\", \"Edmond\", \"Des Moines\", \"Bonita Springs\", \"Draper\", \"Whittier\", \"Livonia\", \"Milwaukee\", \"Auburn\", \"Sumter\", \"Beverly\", \"Renton\", \"Centennial\", \"Richmond\", \"Anderson\", \"Beaumont\", \"Pflugerville\", \"Hoboken\", \"Lexington-Fayette\", \"Norwalk\", \"Yuma\", \"Highland\", \"Carol Stream\", \"Joliet\", \"Rock Hill\", \"Rancho Cordova\", \"Dearborn Heights\", \"Honolulu\", \"Victoria\", \"Attleboro\", \"Wylie\", \"Carrollton\", \"Plainfield\", \"Hoffman Estates\", \"Methuen\", \"North Port\", \"Rockville\", \"Burbank\", \"Fullerton\", \"Oshkosh\", \"Huntsville\", \"Farmington Hills\", \"Pico Rivera\", \"Cerritos\", \"La Puente\", \"Grand Junction\", \"Enid\", \"San Jose\", \"Round Rock\", \"Maple Grove\", \"Norman\", \"Homestead\", \"Friendswood\", \"Irvine\", \"Pocatello\", \"Pacifica\", \"Sheboygan\", \"Bossier City\", \"Cedar Park\", \"Sandy Springs\", \"Champaign\", \"Clifton\", \"Moore\", \"Blue Springs\", \"Lancaster\", \"Bryan\", \"Hurst\", \"Cape Coral\", \"Cupertino\", \"Pittsfield\", \"Gilroy\", \"Manchester\", \"Virginia Beach\", \"Salina\", \"Somerville\", \"Largo\", \"Fresno\", \"Phenix City\", \"Berwyn\", \"Palm Beach Gardens\", \"Pawtucket\", \"San Gabriel\", \"Winston-Salem\", \"Alpharetta\", \"O'Fallon\", \"Redwood City\", \"Union City\", \"Hallandale Beach\", \"Mankato\", \"Aliso Viejo\", \"Menifee\", \"Loveland\", \"Carpentersville\", \"Providence\", \"Hialeah\", \"San Ramon\", \"Ontario\", \"Kirkland\", \"St. George\", \"Hilton Head Island\", \"Glendale\", \"Meriden\", \"Gardena\", \"Westfield\", \"Elgin\", \"Plano\", \"Longmont\", \"Coppell\", \"Lakewood\", \"Jonesboro\", \"College Station\", \"Dearborn\", \"Utica\", \"Monroe\", \"Baltimore\", \"Springfield\", \"Pine Bluff\", \"Plainfield\", \"Lynn\", \"Woodbury\", \"Gainesville\", \"West Sacramento\", \"Sammamish\", \"Aventura\", \"Fayetteville\", \"San Rafael\", \"Conway\", \"Tacoma\", \"Middletown\", \"Burlington\", \"Twin Falls\", \"Sherman\", \"New York\", \"Simi Valley\", \"West Covina\", \"Castle Rock\", \"Valdosta\", \"Fort Worth\", \"Carson\", \"Evansville\", \"Santa Maria\", \"Brentwood\", \"La Mesa\", \"Westminster\", \"Reading\", \"Turlock\", \"Greeley\", \"Tyler\", \"Winter Garden\", \"Waco\", \"Martinez\", \"Thousand Oaks\", \"Azusa\", \"Bridgeport\", \"St. Louis Park\", \"Chesterfield\", \"Greenacres\", \"Pasco\", \"Torrance\", \"Madison\", \"Janesville\", \"Waukegan\", \"Bowling Green\", \"Arlington\", \"Lewisville\", \"Farmington\", \"Oakley\", \"Palo Alto\", \"Springfield\", \"New Bedford\", \"Redmond\", \"Brentwood\", \"Davis\", \"La Mirada\", \"Smyrna\", \"Altoona\", \"Dothan\", \"East Orange\", \"Tinley Park\", \"Biloxi\", \"Urbana\", \"Garden Grove\", \"Lynwood\", \"Northglenn\", \"Canton\", \"Brookhaven\", \"Baton Rouge\", \"Bristol\", \"Independence\", \"Lansing\", \"Orland Park\", \"Vineland\", \"Green Bay\", \"Evanston\", \"Ocoee\", \"Los Angeles\", \"Federal Way\", \"West Jordan\", \"Yucaipa\", \"Pittsburgh\", \"Downey\", \"Cicero\", \"South Gate\", \"Panama City\", \"Joplin\", \"League City\", \"Salt Lake City\", \"Fort Pierce\", \"Phoenix\", \"Corvallis\", \"Cedar Hill\", \"Chicopee\", \"Ocala\", \"Roswell\", \"Park Ridge\", \"Concord\", \"Olympia\", \"Huntington Beach\", \"Corpus Christi\", \"Haverhill\", \"Hanover Park\", \"Cambridge\", \"Glendale\", \"Stanton\", \"Summerville\", \"Davenport\", \"Boca Raton\", \"New Britain\", \"Roseville\", \"Cleveland Heights\", \"Gresham\", \"Lauderhill\", \"Hendersonville\", \"Santa Clara\", \"Oceanside\", \"Lake Forest\", \"Novi\", \"West New York\", \"Everett\", \"Linden\", \"Asheville\", \"Compton\"], \"lat\": [48.0517637, 33.7825194, 41.49932, 42.26259320000001, 34.0007104, 41.55815250000001, 44.80413220000001, 42.4733688, 30.2240897, 43.6187102, 41.6819935, 33.8675143, 33.952602, 39.5186002, 26.7153424, 42.51954, 41.7605849, 39.1156615, 25.8195424, 33.7513419, 33.5778631, 38.9822282, 32.298757300000005, 35.262082, 29.2108147, 39.0997265, 33.7444613, 44.7677424, 32.9029017, 33.3942655, 32.366805199999995, 41.7369803, 42.4792618, 40.6084305, 32.8323225, 32.4609764, 42.8864468, 42.9764027, 32.8342952, 40.742551, 38.5815719, 35.38592420000001, 41.81371160000001, 41.6266555, 40.9125992, 39.7047095, 36.0395247, 34.0900091, 41.0534302, 39.165325, 36.548434, 47.6587802, 46.2112458, 39.9525839, 48.74908, 36.3302284, 43.8013556, 41.2619444, 26.217305, 32.7766642, 38.0049214, 42.5803122, 26.3184123, 39.95675479999999, 41.1399814, 33.553914299999995, 38.9536174, 40.0455917, 34.9889818, 34.0122346, 39.14344060000001, 33.7091847, 39.4142688, 35.612661, 41.9294736, 43.0166806, 39.8680412, 41.5772115, 41.7014912, 36.20772879999999, 32.6400541, 26.271192, 35.4087517, 33.883992600000006, 28.6934076, 47.9252568, 39.71367539999999, 41.7508391, 26.0112014, 36.3320196, 29.9510658, 47.1717649, 41.71997800000001, 43.6629384, 45.52306220000001, 37.9779776, 47.4703767, 38.7881062, 43.0116784, 35.1982836, 47.1853785, 42.8142432, 39.7392358, 39.7817213, 37.2871651, 33.9424658, 39.6895036, 42.2505943, 34.483901, 34.769535999999995, 39.5296329, 39.613321, 34.540024200000005, 37.7021521, 33.425125, 43.661471, 45.0941315, 41.2705484, 32.792, 33.0806083, 43.0125274, 38.02797620000001, 33.3703197, 33.9166805, 33.7205771, 33.494170399999994, 39.9611755, 40.0378755, 40.8257625, 40.2170534, 42.3600825, 34.136118700000004, 44.0121221, 38.789217, 38.9784453, 35.91319960000001, 39.8386516, 32.6789476, 41.6155909, 46.8787176, 36.8252277, 29.5635666, 33.3528264, 44.9591352, 35.7795897, 33.7877944, 37.9100783, 47.56732020000001, 36.06523, 32.436381, 30.4382559, 30.3118769, 37.2295733, 29.4241219, 41.7637111, 42.492786, 42.0986867, 43.61210870000001, 43.7730448, 29.735504700000003, 35.79154000000001, 42.2180724, 36.1539816, 26.2159066, 41.1339449, 42.4250964, 33.1031744, 32.2217429, 35.9250637, 44.79739620000001, 30.3321838, 39.3642834, 42.1292241, 37.3021632, 32.4487364, 33.888625899999994, 34.8526176, 35.410694, 42.4974085, 40.27319110000001, 34.274646000000004, 37.54826970000001, 38.2544472, 42.3917638, 38.5200504, 44.977753, 35.2045328, 33.91370850000001, 29.6185669, 38.6270025, 26.1947962, 35.0853336, 33.9519347, 40.5621704, 36.1988592, 34.055103, 33.952463, 39.8814519, 38.9716689, 31.9973456, 35.4675602, 32.3909071, 33.4151843, 41.117744, 42.8694731, 43.0605671, 32.9312336, 41.6619927, 33.7458511, 45.5579451, 40.8567662, 33.1192068, 37.6304904, 37.87159260000001, 33.4269728, 34.6035669, 44.811349, 33.05810630000001, 32.589699800000005, 41.079273, 47.7556531, 42.4184296, 33.9319578, 42.65257929999999, 37.6879241, 42.240872, 37.4137536, 39.0067768, 41.394817, 38.0293059, 25.72149, 47.6776832, 34.0686206, 42.2411344, 37.8215929, 33.4353394, 40.9167654, 44.9428975, 28.291955699999995, 43.4194699, 25.9017472, 33.0145673, 32.9342919, 44.88968660000001, 42.33142700000001, 39.3454673, 32.5631924, 43.16103, 33.5206608, 30.267153000000004, 34.4208305, 41.931696, 35.2327544, 40.5142026, 41.6475306, 45.1732394, 37.56299170000001, 28.5383355, 42.866632, 32.844017, 34.2257255, 27.8428025, 25.9331488, 39.11405300000001, 42.5834228, 42.1391927, 42.3370413, 25.8900949, 41.5242649, 40.735657, 31.3112936, 45.1607987, 26.1906306, 34.6391501, 33.2148412, 29.3013479, 39.6136578, 36.6777372, 25.9420377, 38.41924960000001, 27.530567100000006, 28.0836269, 32.799573800000005, 28.03446210000001, 35.7212689, 40.8893895, 37.5949316, 41.40477420000001, 44.0805434, 33.9652918, 39.8083196, 42.1014831, 40.5852602, 37.7249296, 33.2000368, 40.9312099, 39.1031182, 39.6417629, 28.802861199999995, 40.6975898, 41.6639383, 31.5455001, 37.0870821, 41.5833688, 42.1662831, 29.6196787, 34.730368799999994, 38.1341477, 47.8106521, 32.6518004, 35.93821029999999, 42.6389216, 32.6781085, 37.6688205, 43.0962143, 39.5349112, 36.3274502, 33.8169599, 41.0997803, 34.6992579, 34.055569299999995, 37.3058839, 43.5407172, 38.9071923, 41.8661403, 32.5920798, 34.1064001, 46.8771863, 40.6936488, 41.25236339999999, 33.640855, 39.1836082, 33.8302961, 32.715738, 38.440429, 42.633424700000006, 36.060949, 47.38093350000001, 36.1626638, 40.8859325, 39.9205411, 35.99403289999999, 37.688889, 33.780538799999995, 44.6496868, 41.8994744, 26.1595194, 42.9614039, 37.36883, 36.9741171, 42.5847425, 40.7933949, 40.75839000000001, 39.9356016, 26.2378597, 31.4637723, 40.4842027, 37.7396513, 34.949567200000004, 42.7653662, 32.8406946, 40.7062128, 39.9259463, 33.7222445, 42.02558270000001, 36.7682088, 40.0992294, 34.216393700000005, 43.2341813, 40.6639916, 61.2180556, 48.23296679999999, 26.0764783, 26.203407100000003, 33.19724650000001, 31.1171194, 41.04422, 37.8043637, 37.3860517, 33.668077200000006, 35.2219971, 40.2338438, 33.7489954, 34.0625106, 41.3144966, 36.96133560000001, 39.84031470000001, 42.0028761, 30.6953657, 38.1040864, 34.139729200000005, 35.042036, 38.57670170000001, 32.5007037, 33.3061605, 39.8027644, 34.095287, 40.486427, 26.1723065, 39.768403, 26.531786600000004, 33.4150485, 42.06641670000001, 41.7798226, 40.4167022, 38.8813958, 34.0289259, 36.0726354, 42.2917069, 45.4312294, 34.7540524, 38.7071247, 33.2098407, 41.7317884, 33.9164032, 33.405386699999994, 26.4614625, 26.6617635, 35.1359386, 26.1003654, 42.6064095, 40.9114882, 37.9577016, 42.4894801, 28.6122187, 33.5225261, 47.6732281, 33.6411316, 32.7459645, 36.8354258, 47.0342629, 35.732652, 42.4999942, 33.0369867, 40.114955, 33.981681200000004, 44.8546856, 33.5805955, 33.4255104, 39.7390721, 40.6677248, 42.324204, 32.7667955, 36.0956918, 32.912624, 37.9357576, 46.8083268, 39.1637984, 35.74787689999999, 33.4734978, 35.0526641, 31.5785074, 40.4594021, 37.5296593, 34.02862260000001, 34.6059253, 35.0456297, 38.27757020000001, 41.9950276, 34.0852868, 25.790654, 35.6145169, 29.8849504, 35.2827524, 32.5420821, 33.6189101, 40.521893, 46.6020711, 39.7589478, 30.367419800000004, 33.770050399999995, 39.7284944, 31.3271189, 44.0520691, 34.0739016, 34.0165053, 37.6624312, 47.9789848, 38.0608445, 38.2493581, 33.4355977, 41.5931049, 42.32115220000001, 44.840798, 41.5094771, 45.487062, 29.9940924, 34.4047987, 42.7284117, 37.4323341, 42.03336229999999, 33.87223710000001, 41.900101, 34.0775104, 36.3134397, 32.0835407, 41.2375569, 45.6387281, 26.1669711, 40.1933767, 40.3916172, 37.7749295, 34.0922335, 33.1506744, 33.989818799999995, 32.9628232, 39.843947, 40.4862157, 36.8507689, 45.5228939, 33.783908399999994, 30.421309, 39.3995008, 34.1954331, 34.1083449, 33.9698929, 34.5362184, 41.5933696, 32.8795022, 37.13050120000001, 42.5005583, 43.0481221, 36.5297706, 28.0394654, 40.6642699, 39.158168, 46.8737648, 34.0211224, 42.1103041, 47.6062095, 39.08367120000001, 38.4087993, 32.5251516, 41.223, 38.4495688, 33.9616801, 34.1477849, 42.7070354, 45.4206749, 38.232417, 39.9242266, 38.2975381, 39.7294319, 46.7866719, 37.2709704, 44.0581728, 34.5008311, 42.37648520000001, 26.640628000000003, 27.950575, 34.09751, 36.5859718, 42.5083482, 26.1275862, 38.8338816, 37.6390972, 42.9633599, 41.885031700000006, 27.3364347, 33.9971974, 33.8816818, 40.0149856, 35.686975200000006, 33.6803003, 42.3459271, 33.9533487, 34.5794343, 38.1074198, 41.0602216, 41.6986416, 33.6000232, 42.0697509, 38.891565, 38.6779591, 34.6100243, 32.3199396, 45.6769979, 42.0333607, 42.5144566, 38.7874699, 42.034722, 33.62923370000001, 32.948333500000004, 43.6155825, 29.8832749, 41.2459149, 44.2619309, 39.0228485, 41.6661573, 37.6818745, 35.2270869, 37.7719074, 26.934224600000004, 38.3396367, 41.8781136, 45.783285600000006, 43.049457200000006, 41.8800296, 41.308274, 39.9625984, 35.96063839999999, 41.36837979999999, 41.7003208, 40.6668916, 37.7652065, 37.7974273, 44.95302150000001, 42.3265152, 35.8456213, 39.1404477, 41.3164856, 42.5348993, 35.08675770000001, 41.408969, 32.6098566, 38.7509488, 38.3565773, 34.01945429999999, 36.7282054, 42.6583661, 33.663357299999994, 38.3498195, 35.7688425, 28.2489016, 32.776474900000004, 35.4873613, 33.8752935, 38.7907339, 38.9108408, 29.5844524, 40.56497810000001, 36.3728538, 34.3916641, 28.6611089, 29.7030024, 35.1495343, 32.814017699999994, 38.8048355, 34.4263886, 42.2042586, 33.9462125, 42.0324025, 40.7684342, 40.6259316, 39.7674578, 33.8491816, 29.7604267, 33.4936391, 42.2808256, 30.080174, 42.7369792, 32.8383828, 26.2128609, 41.1543623, 26.007765, 36.18674420000001, 34.1975048, 31.8456816, 36.1156071, 42.08343350000001, 40.6687141, 33.8894598, 41.5067003, 32.3643098, 35.1595182, 40.7281575, 44.9537029, 28.9005446, 40.65760220000001, 41.6611277, 33.8352932, 44.7319094, 47.4941836, 40.691613200000006, 37.0298687, 30.633261800000003, 40.2968979, 34.14426160000001, 32.9341893, 32.9810059, 34.7464809, 33.7455731, 41.0339862, 43.4916514, 47.610377, 38.7521235, 40.5067723, 42.5278731, 40.92639570000001, 38.95170529999999, 42.7261309, 39.978371, 42.20115379999999, 39.5150576, 38.6785157, 42.40843020000001, 32.8370727, 42.0883603, 33.7475203, 35.95569229999999, 40.0581205, 35.4495065, 33.1433723, 29.1383165, 33.853626899999995, 40.1261743, 42.2711311, 32.7947731, 27.773056, 41.8089191, 41.2306979, 44.6365107, 36.1699412, 29.6910625, 27.2730492, 41.9778795, 29.2858129, 42.25287720000001, 25.9860762, 31.7775757, 39.0558235, 34.0805651, 44.9901194, 44.9211836, 41.08144470000001, 26.3017374, 34.1063989, 32.8546197, 38.2526647, 36.910231, 26.2517482, 27.4989278, 33.158093300000004, 29.383845, 40.5865396, 42.9133602, 41.452819, 41.1616108, 26.1224386, 32.6130007, 27.9658533, 25.5808323, 34.79981, 39.4667034, 31.0982344, 39.7092262, 43.5445959, 39.2014404, 26.244526300000004, 42.5250906, 41.7001009, 35.3732921, 25.7616798, 30.226594899999995, 46.2856907, 35.7344538, 37.654656, 45.01051939999999, 41.6763545, 35.6528323, 41.6005448, 26.339806, 40.5246711, 33.97917929999999, 42.36837, 43.0389025, 47.3073228, 33.9204354, 42.5584283, 47.4828776, 39.5807452, 37.5407246, 40.1053196, 33.92946060000001, 30.4393696, 40.7439905, 38.040583700000006, 33.9022367, 32.6926512, 34.1283442, 41.9125286, 41.525031, 34.9248667, 38.5890723, 42.3369816, 21.3069444, 28.8052674, 41.9445441, 33.0151201, 32.975641499999995, 41.632223, 42.0629915, 42.7262016, 27.044224, 39.0839973, 34.18083920000001, 33.8703596, 44.0247062, 30.723526300000003, 42.4989936, 33.9830688, 33.8583483, 34.0200114, 39.0638705, 36.3955891, 37.3382082, 30.508255100000003, 45.07246420000001, 35.2225668, 25.4687224, 29.529399800000004, 33.6839473, 42.8713032, 37.6138253, 43.7508284, 32.5159852, 30.505198, 33.9304352, 40.1164204, 40.8584328, 35.339507899999994, 39.0169509, 34.6867846, 30.6743643, 32.82346210000001, 26.5628537, 37.3229978, 42.4500845, 37.0057816, 42.99563970000001, 36.8529263, 38.8402805, 42.3875968, 27.9094665, 36.7468422, 32.4709761, 41.8505874, 26.8233946, 41.878711, 34.0961111, 36.0998596, 34.07537620000001, 38.8106075, 37.4852152, 37.59339179999999, 25.9812024, 44.1635775, 33.5676842, 33.6971468, 40.39776120000001, 42.1211364, 41.8239891, 25.8575963, 37.7799273, 34.0633443, 47.6814875, 37.0965278, 32.216316, 34.1425078, 41.5381535, 33.8883487, 42.1250929, 42.0354084, 33.0198431, 40.1672068, 32.9545687, 41.48199320000001, 35.8422967, 30.627977, 42.3222599, 43.100903, 32.5093109, 39.2903848, 37.20895720000001, 34.2284312, 40.6337136, 42.466763, 44.92385520000001, 29.6516344, 38.5804609, 47.6162683, 25.9564812, 36.0625795, 37.9735346, 35.0886963, 47.2528768, 41.5623209, 44.4758825, 42.5629668, 33.635661799999994, 40.7127837, 34.2694474, 34.0686208, 39.37221210000001, 30.8327022, 32.7554883, 33.8316745, 37.9715592, 34.95303370000001, 36.0331164, 32.7678287, 39.8366528, 40.3356483, 37.4946568, 40.42331420000001, 32.351260100000005, 28.5652787, 31.549333, 38.0193657, 34.1705609, 34.1336186, 41.18654779999999, 44.9597376, 38.6631083, 26.6276276, 46.2395793, 33.83584920000001, 43.07305170000001, 42.6827885, 42.3636331, 36.9685219, 32.735687, 33.046233, 36.7280583, 37.9974219, 37.4418834, 44.0462362, 41.6362152, 47.6739881, 37.931868, 38.5449065, 33.9172357, 35.9828412, 40.5186809, 31.2232313, 40.767323, 41.5731442, 30.396031800000006, 40.1105875, 33.7739053, 33.930293, 39.8961821, 40.7989473, 33.8651033, 30.4582829, 41.6717648, 39.0911161, 42.732535, 41.6303103, 39.4863773, 44.519159, 42.0450722, 28.5691677, 34.0522342, 47.3223221, 40.6096698, 34.033625, 40.4406248, 33.9401088, 41.8455877, 33.954737, 30.1588129, 37.0842271, 29.5074538, 40.7607793, 27.446705600000005, 33.4483771, 44.5645659, 32.5884689, 42.14870429999999, 29.1871986, 34.0232431, 42.0111412, 43.2081366, 47.0378741, 33.660297, 27.8005828, 42.7762015, 41.9994722, 42.3736158, 33.538652299999995, 33.802515500000005, 33.0185039, 41.5236437, 26.3683064, 41.6612104, 42.4972583, 41.5200518, 45.5001357, 26.1403635, 36.3047735, 37.3541079, 33.1958696, 33.6469661, 42.48059, 40.7878788, 42.40843, 40.6220478, 35.5950581, 33.8958492], \"legendgroup\": \"\", \"lon\": [-122.1770818, -117.2286478, -81.6943605, -71.8022934, -81.0348144, -73.0514965, -93.1668858, -83.2218731, -92.0198427, -116.2146068, -85.9766671, -117.9981181, -84.5499327, -104.7613633, -80.0533746, -70.8967155, -88.3200715, -77.5636015, -80.3553302, -117.9939921, -101.8551665, -94.6707917, -90.1848103, -81.1873005, -81.02283309999999, -94.5785667, -118.3870173, -93.2777226, -96.56388, -104.5230242, -86.2999689, -111.8338359, -71.1522765, -75.4901833, -79.82842579999998, -84.9877094, -78.8783689, -88.10842240000002, -97.2289029, -84.1052256, -121.4943996, -94.3985475, -71.37005450000002, -93.7121656, -73.8370786, -105.08137340000002, -114.9817213, -117.8903397, -73.53873409999999, -86.5263857, -82.5618186, -117.4260466, -119.1372338, -75.1652215, -122.4781473, -119.2920585, -91.2395807, -95.8608333, -80.2258811, -96.7969879, -121.805789, -83.0302033, -80.0997657, -86.01335, -104.8202462, -117.2139232, -94.7335709, -86.0085955, -90.0125913, -117.688944, -77.2013705, -117.9536697, -77.41054090000002, -77.3663538, -88.7503647, -88.0070315, -104.9719243, -93.711332, -71.1550451, -119.3473379, -117.0841955, -80.27060440000002, -80.579511, -84.51437609999998, -81.53221490000001, -97.0328547, -82.59932940000002, -88.15353520000002, -80.1494901, -94.1185366, -90.0715323, -122.518458, -87.7479528, -116.6873596, -122.6764816, -122.0310733, -122.3467918, -90.4974359, -88.2314813, -111.651302, -122.29289740000002, -73.93956870000002, -104.990251, -89.6501481, -121.9499568, -117.2296717, -84.16882740000001, -83.17853609999997, -114.3224548, -92.2670941, -119.8138027, -105.0166498, -112.4685025, -121.9357918, -94.0476882, -70.2553259, -93.3563405, -72.94697109999998, -115.5630514, -96.8928309, -83.6874562, -121.88468059999998, -112.58377659999998, -117.9000604, -116.2155619, -111.9260519, -82.9987942, -76.3055144, -96.6851982, -74.74293840000001, -71.0588801, -117.865339, -92.4801989, -90.322614, -76.4921829, -79.05584449999998, -86.0252612, -115.4988834, -87.5294871, -113.996586, -119.7029194, -95.2860474, -111.789027, -89.6301221, -78.6381787, -117.8531119, -122.0651819, -122.6329356, -119.0167679, -111.2224422, -84.2807329, -95.4560512, -80.4139393, -98.4936282, -72.6850932, -92.3425775, -75.9179738, -116.3915131, -88.44705079999999, -94.9774274, -78.78111690000001, -70.94103559999998, -95.992775, -98.3252932, -81.48455849999998, -71.066163, -96.6705503, -110.926479, -86.86888990000001, -93.5272861, -81.655651, -74.4229266, -80.085059, -120.48296770000002, -99.7331439, -117.8131125, -82.3940104, -80.8428504, -82.8963604, -76.88670079999999, -119.22903159999998, -121.9885719, -104.6091409, -71.03282840000001, -89.98399350000003, -93.2650108, -89.8739753, -98.4933873, -95.5377215, -90.1994042, -98.1836216, -106.6055534, -83.357567, -111.929658, -115.1175013, -117.7499909, -117.5848025, -83.09296440000001, -95.2352501, -102.0779146, -97.5164276, -110.96648799999998, -111.8314724, -73.4081575, -85.6447492, -88.1064787, -96.4597089, -86.15861559999998, -117.826166, -94.1632404, -74.12847640000003, -117.086421, -122.4110835, -122.272747, -117.6119925, -98.3959291, -91.4984941, -112.0476423, -96.8570738, -85.13935129999999, -122.3415178, -71.10616390000001, -117.94617340000002, -73.7562317, -122.47020790000002, -83.2696509, -79.1422464, -76.77913649999998, -73.45401109999997, -78.4766781, -80.2683838, -116.7804664, -118.0275667, -88.3161965, -121.9999606, -112.3576567, -74.171811, -123.0350963, -81.40757099999998, -83.9508068, -97.4974838, -97.0969552, -97.0780654, -93.3499489, -83.0457538, -84.56031870000002, -97.1416768, -77.61092190000002, -86.80249, -97.7430608, -119.6981901, -87.9889556, -106.6630437, -88.99063120000002, -88.0895061, -93.3030063, -122.3255254, -81.3792365, -106.313081, -97.1430671, -77.9447102, -82.6995443, -80.1625463, -94.6274636, -71.8022955, -87.92895909999999, -71.2092214, -80.18671379999998, -72.07591049999998, -74.1723667, -92.4451371, -93.2349489, -97.6961026, -120.4579409, -97.1330683, -94.7976958, -86.10665259999998, -121.6555013, -80.2456045, -82.445154, -99.4803241, -80.6081089, -97.2691817, -80.5886646, -77.91553950000002, -111.880771, -120.9577098, -81.72290859999998, -103.2310149, -118.1514588, -104.9338675, -72.589811, -105.084423, -122.1560768, -117.2425355, -73.8987469, -84.5120196, -77.7199932, -81.269453, -74.2631635, -83.555212, -110.27728559999998, -76.4730122, -87.5000412, -87.9631308, -95.6349463, -86.5861037, -121.2722194, -122.3773552, -96.9083366, -77.7905339, -83.2910468, -117.0991967, -122.0807964, -79.03773879999999, -119.7526886, -119.6456844, -118.0372852, -80.6495194, -86.7483318, -117.1825381, -89.51814759999998, -116.5634624, -77.03687070000002, -88.1070127, -96.7561082, -117.3703235, -96.7898034, -89.58898640000002, -95.9979883, -117.603104, -96.5716694, -116.54529209999998, -117.1610838, -122.7140548, -71.3161718, -95.7974526, -122.2348431, -86.78160159999999, -74.0434736, -105.0866504, -78.898619, -97.336111, -116.4668036, -93.24272, -87.9403418, -97.9908366, -88.0125865, -122.0363496, -122.0307963, -87.8211854, -77.8600012, -82.51544709999997, -91.4098726, -80.1247667, -100.4370375, -88.9936873, -121.4252227, -81.93204820000003, -71.467566, -83.6324022, -73.6187397, -75.1196199, -116.3744556, -88.1784085, -76.2874927, -83.11407709999997, -119.0376023, -86.2483921, -74.2107006, -149.90027780000003, -101.2922906, -80.2521157, -98.2300124, -96.6397822, -97.7277959, -83.6499321, -122.27111370000002, -122.0838511, -117.3272615, -101.8312969, -111.6585337, -84.3879824, -118.1228476, -81.83569, -120.0607176, -88.9548001, -71.5147839, -88.0398912, -122.25663670000002, -118.0353449, -89.66452659999999, -92.1735164, -94.7404891, -111.8412502, -105.0874842, -118.1270146, -86.13360329999998, -80.13198929999999, -86.158068, -80.0905465, -111.5495777, -87.9372908, -71.4372796, -86.8752869, -94.8191285, -84.19857900000002, -79.79197540000001, -85.5872286, -122.7714861, -77.43024140000001, -121.2810611, -87.5691735, -93.6001278, -118.3525748, -86.8113781, -80.07282009999999, -80.2683571, -114.5285981, -80.3997748, -83.1497751, -73.78235490000002, -121.29077959999998, -83.1446485, -80.8075537, -117.7075526, -117.2393748, -117.9186689, -96.9977846, -76.29827420000002, -122.8231915, -78.85028559999998, -96.4003069, -117.2919818, -111.654923, -118.2250725, -93.470786, -112.2373779, -111.9400054, -75.5397878, -111.9388258, -83.400211, -96.5991593, -79.43779909999998, -96.6388833, -122.3477486, -100.7837392, -119.7674034, -95.3696909, -82.0105148, -78.87835849999998, -84.155741, -74.360846, -122.0402399, -117.8103367, -86.9833417, -85.3096801, -85.7371847, -88.1856301, -117.96089779999998, -80.1300455, -88.8139469, -93.939947, -120.6596156, -97.3208492, -117.9289469, -111.9391023, -120.5058987, -84.1916069, -89.0928155, -118.1937395, -121.8374777, -89.2903392, -123.08675359999998, -117.3136547, -118.1137535, -121.8746789, -122.2020794, -97.9297743, -122.0399663, -112.3496021, -81.5267873, -85.17971419999998, -93.2982799, -90.5787476, -122.8037102, -90.2417434, -103.2052272, -73.69178509999998, -121.8995741, -87.88339909999998, -117.8703363, -71.08976740000001, -117.6897776, -82.35347270000003, -81.0998342, -80.81841659999998, -122.6614861, -80.25659499999998, -85.3863599, -111.8507662, -122.4194155, -117.435048, -96.8236116, -117.7325848, -117.0358646, -84.1246608, -74.4518188, -76.28587259999998, -122.989827, -116.95863500000002, -87.2169149, -84.5613355, -79.7625625, -117.2897652, -84.2214551, -117.2927641, -87.3464271, -111.7573521, -121.6543901, -90.6645718, -76.1474244, -87.3594528, -81.9498042, -73.7084645, -75.5243682, -96.7678039, -118.3964665, -88.03424, -122.33207079999998, -84.5085536, -121.3716178, -93.7501789, -111.9738304, -78.8689155, -118.3531311, -118.1445155, -71.1631137, -122.6706498, -122.6366524, -83.8088171, -122.286865, -104.8319195, -92.1004852, -79.9414266, -121.3153096, -117.1858759, -71.2356113, -81.87230840000002, -82.4571776, -117.6483876, -79.3950228, -89.0317765, -80.23310359999998, -104.8213634, -120.9968782, -85.6680863, -87.7845025, -82.5306527, -117.4854802, -118.1170117, -105.2705456, -105.937799, -116.173894, -71.55228740000003, -117.3961564, -118.11646129999998, -122.5697032, -111.9710529, -88.0683955, -117.6719953, -87.7878408, -121.29300790000002, -121.17605829999998, -112.315721, -106.7636538, -111.0429339, -88.0834059, -83.01465259999998, -90.6298922, -93.62, -112.3679279, -96.7298519, -84.24721159999999, -97.9413941, -75.88130749999998, -88.4153847, -94.7151865, -81.339552, -121.7680088, -80.8431267, -87.1111676, -80.09420870000002, -122.70109840000002, -87.62979820000002, -108.5006904, -88.0075875, -88.0078435, -72.9278835, -76.727745, -83.9207392, -82.10764859999998, -70.3002024, -111.8879909, -122.2416355, -121.21605259999998, -92.9952153, -122.8755949, -86.39027, -121.6169108, -73.0931641, -92.4453161, -89.8100858, -75.66241219999998, -85.48078249999998, -77.4752667, -121.9877444, -118.4911912, -76.5835621, -83.14993220000002, -116.3100095, -81.6326234, -119.2470536, -81.2811801, -79.9310512, -80.62173409999998, -117.5664384, -121.2357828, -94.3821724, -81.2078699, -111.8389726, -94.2088172, -118.542586, -81.36562420000001, -98.1244531, -90.0489801, -96.9488945, -77.0469214, -117.3008784, -72.61620090000002, -84.3346473, -87.7416246, -74.1454214, -75.3704579, -94.846681, -118.3884078, -95.3698028, -117.1483648, -83.7430378, -94.1265562, -84.48386540000001, -116.97391670000002, -80.2497707, -95.9145568, -80.2962555, -94.1288141, -119.17705159999998, -102.3676431, -97.0583681, -71.0183787, -74.11430909999999, -118.15979109999998, -90.5151342, -88.70365600000002, -84.8766115, -74.0776417, -93.0899578, -81.2636738, -73.58318349999998, -91.5301683, -117.9145036, -93.21772, -111.2833449, -112.0010501, -76.3452218, -97.6779842, -111.69464750000002, -118.0019482, -97.229298, -80.03258670000002, -92.2895948, -117.8678338, -73.76290970000002, -112.0339645, -122.2006786, -121.28800590000002, -74.2654234, -70.92866090000003, -98.3420118, -92.3340724, -87.78285229999999, -86.1180435, -85.5800022, -84.39827629999998, -121.7732971, -71.0119948, -97.0819541, -87.9806265, -116.9719684, -80.0053176, -82.4012642, -97.3967019, -117.1661449, -80.9956105, -118.1339563, -82.9290696, -89.09399520000002, -116.9625269, -82.64, -88.01117459999998, -73.064036, -123.1059282, -115.13982959999998, -95.2091006, -80.3582261, -91.6656232, -81.05588940000001, -71.0022705, -80.3035602, -106.4424559, -95.6890185, -118.072846, -123.0262077, -93.4687489, -81.51900529999998, -98.1633432, -117.5931084, -79.9748103, -85.7584557, -121.7568946, -80.17893509999998, -82.5748194, -117.3505939, -94.9027002, -122.3916754, -85.7053085, -82.18237459999997, -112.0263313, -80.13731740000001, -83.624201, -82.8001026, -80.3468593, -87.677251, -87.4139092, -97.342782, -84.0632685, -96.7311034, -85.9213796, -80.206436, -71.759794, -71.4161671, -119.0187125, -80.1917902, -93.2173758, -119.2844621, -81.3444573, -122.4077498, -93.4555093, -86.25198979999998, -97.4780954, -93.6091064, -81.77869720000002, -111.8638226, -118.032844, -83.3527097, -87.9064736, -122.22845320000002, -80.3414693, -70.880049, -122.21706609999998, -104.8771726, -77.4360481, -85.6802541, -116.977248, -97.6200043, -74.0323626, -84.50371640000002, -118.081733, -114.6276916, -117.2086513, -88.1347927, -88.0817251, -81.02507840000001, -121.302728, -83.2732627, -157.8583333, -97.0035982, -71.2856082, -96.5388789, -96.8899636, -88.2120315, -88.1227199, -71.19089240000002, -82.23592540000001, -77.1527578, -118.30896609999998, -117.9242966, -88.5426136, -95.5507771, -83.3677168, -118.096735, -118.0647871, -117.9495083, -108.5506486, -97.8783911, -121.88632859999998, -97.678896, -93.4557877, -97.4394777, -80.4775569, -95.2010447, -117.7946942, -112.4455344, -122.48691940000002, -87.71453000000002, -93.7321228, -97.8202888, -84.3733147, -88.2433829, -74.16375529999998, -97.4867028, -94.2816148, -118.1541632, -96.3699632, -97.1705678, -81.94953309999998, -122.0321823, -73.2453824, -121.5682751, -71.4547891, -75.977985, -97.6114237, -71.0994968, -82.7873244, -119.7725868, -85.0007653, -87.79366850000002, -80.1386547, -71.38255579999998, -118.1058333, -80.24421600000002, -84.2940899, -90.6998477, -122.2363548, -122.0438298, -80.148379, -93.9993996, -117.7256083, -117.185294, -105.0749801, -88.2578582, -71.4128343, -80.2781057, -121.9780153, -117.6508876, -122.2087353, -113.5684164, -80.752608, -118.255075, -72.8070435, -118.3089624, -72.749538, -88.2825668, -96.6988856, -105.1019275, -97.0150078, -81.7981908, -90.704279, -96.3344068, -83.1763145, -75.232664, -92.1193012, -76.6121893, -93.2922989, -92.0031955, -74.40737359999999, -70.9494938, -92.9593797, -82.3248262, -121.530234, -122.0355736, -80.1392121, -94.1574263, -122.5310874, -92.4421011, -122.4442906, -72.6506488, -73.21207199999998, -114.4608711, -96.6088805, -74.00594129999998, -118.781482, -117.93895259999998, -104.8560902, -83.2784851, -97.3307658, -118.281693, -87.5710898, -120.4357191, -86.7827772, -117.02308390000002, -105.03720459999998, -75.9268747, -120.8465941, -104.7091322, -95.3010624, -81.5861847, -97.1466695, -122.1341321, -118.8375937, -117.9075627, -73.1951767, -93.3702186, -90.5770675, -80.1353896, -119.10056570000002, -118.3406288, -89.4012302, -89.01872220000001, -87.84479379999998, -86.48080429999997, -97.1080656, -96.994174, -108.2186856, -121.7124536, -122.1430195, -123.0220289, -70.934205, -122.121512, -121.6957863, -121.7405167, -118.0120086, -86.51860450000002, -78.3947359, -85.39048879999999, -74.20486770000002, -87.7932939, -88.88530779999998, -88.2072697, -117.9414477, -118.21146029999998, -104.9811468, -81.378447, -84.3365917, -91.1403196, -72.9492703, -94.4155068, -84.55553470000002, -87.8539425, -75.0259637, -88.019826, -87.6876969, -81.5439619, -118.24368490000002, -122.3126222, -111.9391031, -117.0430865, -79.9958864, -118.1331593, -87.7539448, -118.2120161, -85.6602058, -94.513281, -95.0949303, -111.89104740000002, -80.3256056, -112.0740373, -123.2620435, -96.9561152, -72.6078672, -82.14009229999998, -84.36155550000002, -87.8406192, -71.5375718, -122.9006951, -117.9992265, -97.396381, -71.0772796, -88.1450735, -71.10973349999998, -112.1859866, -117.9931165, -80.17564809999998, -90.5776367, -80.1289321, -72.77954190000001, -82.93714090000002, -81.556235, -122.4302013, -80.2133808, -86.6199957, -121.9552356, -117.3794834, -117.689218, -83.47549129999999, -74.0143064, -71.0536625, -74.2445902, -82.5514869, -118.2200712], \"marker\": {\"color\": \"fuchsia\"}, \"mode\": \"markers\", \"name\": \"\", \"showlegend\": false, \"subplot\": \"mapbox\", \"type\": \"scattermapbox\"}],\n",
       "                        {\"height\": 500, \"legend\": {\"tracegroupgap\": 0}, \"mapbox\": {\"center\": {\"lat\": 37.338240701500006, \"lon\": -96.48302336069996}, \"domain\": {\"x\": [0.0, 0.98], \"y\": [0.0, 1.0]}, \"layers\": [{\"below\": \"traces\", \"source\": [\"https://earthengine.googleapis.com/map/b9bc77862440e50666361ba1a044da7d/{z}/{x}/{y}?token=eb2244e1221af88ac66bea1f153fdc92\"], \"sourcetype\": \"raster\"}], \"style\": \"open-street-map\", \"zoom\": 3}, \"margin\": {\"b\": 0, \"l\": 0, \"r\": 0, \"t\": 0}, \"template\": {\"data\": {\"bar\": [{\"error_x\": {\"color\": \"#2a3f5f\"}, \"error_y\": {\"color\": \"#2a3f5f\"}, \"marker\": {\"line\": {\"color\": \"#E5ECF6\", \"width\": 0.5}}, \"type\": \"bar\"}], \"barpolar\": [{\"marker\": {\"line\": {\"color\": \"#E5ECF6\", \"width\": 0.5}}, \"type\": \"barpolar\"}], \"carpet\": [{\"aaxis\": {\"endlinecolor\": \"#2a3f5f\", \"gridcolor\": \"white\", \"linecolor\": \"white\", \"minorgridcolor\": \"white\", \"startlinecolor\": \"#2a3f5f\"}, \"baxis\": {\"endlinecolor\": \"#2a3f5f\", \"gridcolor\": \"white\", \"linecolor\": \"white\", \"minorgridcolor\": \"white\", \"startlinecolor\": \"#2a3f5f\"}, \"type\": \"carpet\"}], \"choropleth\": [{\"colorbar\": {\"outlinewidth\": 0, \"ticks\": \"\"}, \"type\": \"choropleth\"}], \"contour\": [{\"colorbar\": {\"outlinewidth\": 0, \"ticks\": \"\"}, \"colorscale\": [[0.0, \"#0d0887\"], [0.1111111111111111, \"#46039f\"], [0.2222222222222222, \"#7201a8\"], [0.3333333333333333, \"#9c179e\"], [0.4444444444444444, \"#bd3786\"], [0.5555555555555556, \"#d8576b\"], [0.6666666666666666, \"#ed7953\"], [0.7777777777777778, \"#fb9f3a\"], [0.8888888888888888, \"#fdca26\"], [1.0, \"#f0f921\"]], \"type\": \"contour\"}], \"contourcarpet\": [{\"colorbar\": {\"outlinewidth\": 0, \"ticks\": \"\"}, \"type\": \"contourcarpet\"}], \"heatmap\": [{\"colorbar\": {\"outlinewidth\": 0, \"ticks\": \"\"}, \"colorscale\": [[0.0, \"#0d0887\"], [0.1111111111111111, \"#46039f\"], [0.2222222222222222, \"#7201a8\"], [0.3333333333333333, \"#9c179e\"], [0.4444444444444444, \"#bd3786\"], [0.5555555555555556, \"#d8576b\"], [0.6666666666666666, \"#ed7953\"], [0.7777777777777778, \"#fb9f3a\"], [0.8888888888888888, \"#fdca26\"], [1.0, \"#f0f921\"]], \"type\": \"heatmap\"}], \"heatmapgl\": [{\"colorbar\": {\"outlinewidth\": 0, \"ticks\": \"\"}, \"colorscale\": [[0.0, \"#0d0887\"], [0.1111111111111111, \"#46039f\"], [0.2222222222222222, \"#7201a8\"], [0.3333333333333333, \"#9c179e\"], [0.4444444444444444, \"#bd3786\"], [0.5555555555555556, \"#d8576b\"], [0.6666666666666666, \"#ed7953\"], [0.7777777777777778, \"#fb9f3a\"], [0.8888888888888888, \"#fdca26\"], [1.0, \"#f0f921\"]], \"type\": \"heatmapgl\"}], \"histogram\": [{\"marker\": {\"colorbar\": {\"outlinewidth\": 0, \"ticks\": \"\"}}, \"type\": \"histogram\"}], \"histogram2d\": [{\"colorbar\": {\"outlinewidth\": 0, \"ticks\": \"\"}, \"colorscale\": [[0.0, \"#0d0887\"], [0.1111111111111111, \"#46039f\"], [0.2222222222222222, \"#7201a8\"], [0.3333333333333333, \"#9c179e\"], [0.4444444444444444, \"#bd3786\"], [0.5555555555555556, \"#d8576b\"], [0.6666666666666666, \"#ed7953\"], [0.7777777777777778, \"#fb9f3a\"], [0.8888888888888888, \"#fdca26\"], [1.0, \"#f0f921\"]], \"type\": \"histogram2d\"}], \"histogram2dcontour\": [{\"colorbar\": {\"outlinewidth\": 0, \"ticks\": \"\"}, \"colorscale\": [[0.0, \"#0d0887\"], [0.1111111111111111, \"#46039f\"], [0.2222222222222222, \"#7201a8\"], [0.3333333333333333, \"#9c179e\"], [0.4444444444444444, \"#bd3786\"], [0.5555555555555556, \"#d8576b\"], [0.6666666666666666, \"#ed7953\"], [0.7777777777777778, \"#fb9f3a\"], [0.8888888888888888, \"#fdca26\"], [1.0, \"#f0f921\"]], \"type\": \"histogram2dcontour\"}], \"mesh3d\": [{\"colorbar\": {\"outlinewidth\": 0, \"ticks\": \"\"}, \"type\": \"mesh3d\"}], \"parcoords\": [{\"line\": {\"colorbar\": {\"outlinewidth\": 0, \"ticks\": \"\"}}, \"type\": \"parcoords\"}], \"scatter\": [{\"marker\": {\"colorbar\": {\"outlinewidth\": 0, \"ticks\": \"\"}}, \"type\": \"scatter\"}], \"scatter3d\": [{\"line\": {\"colorbar\": {\"outlinewidth\": 0, \"ticks\": \"\"}}, \"marker\": {\"colorbar\": {\"outlinewidth\": 0, \"ticks\": \"\"}}, \"type\": \"scatter3d\"}], \"scattercarpet\": [{\"marker\": {\"colorbar\": {\"outlinewidth\": 0, \"ticks\": \"\"}}, \"type\": \"scattercarpet\"}], \"scattergeo\": [{\"marker\": {\"colorbar\": {\"outlinewidth\": 0, \"ticks\": \"\"}}, \"type\": \"scattergeo\"}], \"scattergl\": [{\"marker\": {\"colorbar\": {\"outlinewidth\": 0, \"ticks\": \"\"}}, \"type\": \"scattergl\"}], \"scattermapbox\": [{\"marker\": {\"colorbar\": {\"outlinewidth\": 0, \"ticks\": \"\"}}, \"type\": \"scattermapbox\"}], \"scatterpolar\": [{\"marker\": {\"colorbar\": {\"outlinewidth\": 0, \"ticks\": \"\"}}, \"type\": \"scatterpolar\"}], \"scatterpolargl\": [{\"marker\": {\"colorbar\": {\"outlinewidth\": 0, \"ticks\": \"\"}}, \"type\": \"scatterpolargl\"}], \"scatterternary\": [{\"marker\": {\"colorbar\": {\"outlinewidth\": 0, \"ticks\": \"\"}}, \"type\": \"scatterternary\"}], \"surface\": [{\"colorbar\": {\"outlinewidth\": 0, \"ticks\": \"\"}, \"colorscale\": [[0.0, \"#0d0887\"], [0.1111111111111111, \"#46039f\"], [0.2222222222222222, \"#7201a8\"], [0.3333333333333333, \"#9c179e\"], [0.4444444444444444, \"#bd3786\"], [0.5555555555555556, \"#d8576b\"], [0.6666666666666666, \"#ed7953\"], [0.7777777777777778, \"#fb9f3a\"], [0.8888888888888888, \"#fdca26\"], [1.0, \"#f0f921\"]], \"type\": \"surface\"}], \"table\": [{\"cells\": {\"fill\": {\"color\": \"#EBF0F8\"}, \"line\": {\"color\": \"white\"}}, \"header\": {\"fill\": {\"color\": \"#C8D4E3\"}, \"line\": {\"color\": \"white\"}}, \"type\": \"table\"}]}, \"layout\": {\"annotationdefaults\": {\"arrowcolor\": \"#2a3f5f\", \"arrowhead\": 0, \"arrowwidth\": 1}, \"colorscale\": {\"diverging\": [[0, \"#8e0152\"], [0.1, \"#c51b7d\"], [0.2, \"#de77ae\"], [0.3, \"#f1b6da\"], [0.4, \"#fde0ef\"], [0.5, \"#f7f7f7\"], [0.6, \"#e6f5d0\"], [0.7, \"#b8e186\"], [0.8, \"#7fbc41\"], [0.9, \"#4d9221\"], [1, \"#276419\"]], \"sequential\": [[0.0, \"#0d0887\"], [0.1111111111111111, \"#46039f\"], [0.2222222222222222, \"#7201a8\"], [0.3333333333333333, \"#9c179e\"], [0.4444444444444444, \"#bd3786\"], [0.5555555555555556, \"#d8576b\"], [0.6666666666666666, \"#ed7953\"], [0.7777777777777778, \"#fb9f3a\"], [0.8888888888888888, \"#fdca26\"], [1.0, \"#f0f921\"]], \"sequentialminus\": [[0.0, \"#0d0887\"], [0.1111111111111111, \"#46039f\"], [0.2222222222222222, \"#7201a8\"], [0.3333333333333333, \"#9c179e\"], [0.4444444444444444, \"#bd3786\"], [0.5555555555555556, \"#d8576b\"], [0.6666666666666666, \"#ed7953\"], [0.7777777777777778, \"#fb9f3a\"], [0.8888888888888888, \"#fdca26\"], [1.0, \"#f0f921\"]]}, \"colorway\": [\"#636efa\", \"#EF553B\", \"#00cc96\", \"#ab63fa\", \"#FFA15A\", \"#19d3f3\", \"#FF6692\", \"#B6E880\", \"#FF97FF\", \"#FECB52\"], \"font\": {\"color\": \"#2a3f5f\"}, \"geo\": {\"bgcolor\": \"white\", \"lakecolor\": \"white\", \"landcolor\": \"#E5ECF6\", \"showlakes\": true, \"showland\": true, \"subunitcolor\": \"white\"}, \"hoverlabel\": {\"align\": \"left\"}, \"hovermode\": \"closest\", \"mapbox\": {\"style\": \"light\"}, \"paper_bgcolor\": \"white\", \"plot_bgcolor\": \"#E5ECF6\", \"polar\": {\"angularaxis\": {\"gridcolor\": \"white\", \"linecolor\": \"white\", \"ticks\": \"\"}, \"bgcolor\": \"#E5ECF6\", \"radialaxis\": {\"gridcolor\": \"white\", \"linecolor\": \"white\", \"ticks\": \"\"}}, \"scene\": {\"xaxis\": {\"backgroundcolor\": \"#E5ECF6\", \"gridcolor\": \"white\", \"gridwidth\": 2, \"linecolor\": \"white\", \"showbackground\": true, \"ticks\": \"\", \"zerolinecolor\": \"white\"}, \"yaxis\": {\"backgroundcolor\": \"#E5ECF6\", \"gridcolor\": \"white\", \"gridwidth\": 2, \"linecolor\": \"white\", \"showbackground\": true, \"ticks\": \"\", \"zerolinecolor\": \"white\"}, \"zaxis\": {\"backgroundcolor\": \"#E5ECF6\", \"gridcolor\": \"white\", \"gridwidth\": 2, \"linecolor\": \"white\", \"showbackground\": true, \"ticks\": \"\", \"zerolinecolor\": \"white\"}}, \"shapedefaults\": {\"line\": {\"color\": \"#2a3f5f\"}}, \"ternary\": {\"aaxis\": {\"gridcolor\": \"white\", \"linecolor\": \"white\", \"ticks\": \"\"}, \"baxis\": {\"gridcolor\": \"white\", \"linecolor\": \"white\", \"ticks\": \"\"}, \"bgcolor\": \"#E5ECF6\", \"caxis\": {\"gridcolor\": \"white\", \"linecolor\": \"white\", \"ticks\": \"\"}}, \"title\": {\"x\": 0.05}, \"xaxis\": {\"automargin\": true, \"gridcolor\": \"white\", \"linecolor\": \"white\", \"ticks\": \"\", \"zerolinecolor\": \"white\", \"zerolinewidth\": 2}, \"yaxis\": {\"automargin\": true, \"gridcolor\": \"white\", \"linecolor\": \"white\", \"ticks\": \"\", \"zerolinecolor\": \"white\", \"zerolinewidth\": 2}}}},\n",
       "                        {\"responsive\": true}\n",
       "                    ).then(function(){\n",
       "                            \n",
       "var gd = document.getElementById('577c4f32-d9ef-4b2a-a879-c1bedefe7d9e');\n",
       "var x = new MutationObserver(function (mutations, observer) {{\n",
       "        var display = window.getComputedStyle(gd).display;\n",
       "        if (!display || display === 'none') {{\n",
       "            console.log([gd, 'removed!']);\n",
       "            Plotly.purge(gd);\n",
       "            observer.disconnect();\n",
       "        }}\n",
       "}});\n",
       "\n",
       "// Listen for the removal of the full notebook cells\n",
       "var notebookContainer = gd.closest('#notebook-container');\n",
       "if (notebookContainer) {{\n",
       "    x.observe(notebookContainer, {childList: true});\n",
       "}}\n",
       "\n",
       "// Listen for the clearing of the current output cell\n",
       "var outputEl = gd.closest('.output');\n",
       "if (outputEl) {{\n",
       "    x.observe(outputEl, {childList: true});\n",
       "}}\n",
       "\n",
       "                        })\n",
       "                };\n",
       "                });\n",
       "            </script>\n",
       "        </div>"
      ]
     },
     "metadata": {},
     "output_type": "display_data"
    }
   ],
   "source": [
    "\"\"\"\n",
    "The accepted values for layout.mapbox.style are one of:\n",
    "\n",
    "\"white-bg\" yields an empty white canvas which results in no external HTTP requests\n",
    "\"open-street-map\", \"carto-positron\", \"carto-darkmatter\", \"stamen-terrain\", \"stamen-toner\" or \"stamen-watercolor\" \n",
    "yeild maps composed of raster tiles from various public tile servers which do not require signups or access tokens\n",
    "\"basic\", \"streets\", \"outdoors\", \"light\", \"dark\", \"satellite\", or \"satellite-streets\" yeild maps composed of vector tiles \n",
    "from the Mapbox service, and do require a Mapbox Access Token or an on-premise Mapbox installation.\n",
    "\"\"\"\n",
    "fig.update_layout(\n",
    "    mapbox_style=\"open-street-map\",\n",
    "    mapbox_layers=[\n",
    "        {\n",
    "            \"below\": 'traces',\n",
    "            \"sourcetype\": \"raster\",\n",
    "            \"source\": [source_tile]\n",
    "        }\n",
    "      ])\n",
    "fig.update_layout(margin={\"r\":0,\"t\":0,\"l\":0,\"b\":0})\n",
    "#fig.show()\n",
    "#plot(fig)"
   ]
  },
  {
   "cell_type": "code",
   "execution_count": 84,
   "metadata": {},
   "outputs": [
    {
     "ename": "EEException",
     "evalue": "Empty date ranges not supported for the current operation.",
     "output_type": "error",
     "traceback": [
      "\u001b[1;31m---------------------------------------------------------------------------\u001b[0m",
      "\u001b[1;31mEEException\u001b[0m                               Traceback (most recent call last)",
      "\u001b[1;32m<ipython-input-84-683d7e462f65>\u001b[0m in \u001b[0;36m<module>\u001b[1;34m\u001b[0m\n\u001b[0;32m     11\u001b[0m \u001b[1;33m\u001b[0m\u001b[0m\n\u001b[0;32m     12\u001b[0m \u001b[0mrgb_S2\u001b[0m \u001b[1;33m=\u001b[0m \u001b[1;33m{\u001b[0m\u001b[1;34m'min'\u001b[0m\u001b[1;33m:\u001b[0m \u001b[1;36m0.0\u001b[0m\u001b[1;33m,\u001b[0m\u001b[1;34m'max'\u001b[0m\u001b[1;33m:\u001b[0m \u001b[1;36m0.2\u001b[0m\u001b[1;33m,\u001b[0m\u001b[1;34m'bands'\u001b[0m\u001b[1;33m:\u001b[0m \u001b[1;33m[\u001b[0m\u001b[1;34m'B4'\u001b[0m\u001b[1;33m,\u001b[0m \u001b[1;34m'B3'\u001b[0m\u001b[1;33m,\u001b[0m \u001b[1;34m'B2'\u001b[0m\u001b[1;33m]\u001b[0m\u001b[1;33m}\u001b[0m\u001b[1;33m\u001b[0m\u001b[1;33m\u001b[0m\u001b[0m\n\u001b[1;32m---> 13\u001b[1;33m \u001b[0mS2_tk\u001b[0m \u001b[1;33m=\u001b[0m \u001b[0mdataset\u001b[0m\u001b[1;33m.\u001b[0m\u001b[0mgetMapId\u001b[0m\u001b[1;33m(\u001b[0m\u001b[0mrgb_S2\u001b[0m\u001b[1;33m)\u001b[0m\u001b[1;33m\u001b[0m\u001b[1;33m\u001b[0m\u001b[0m\n\u001b[0m\u001b[0;32m     14\u001b[0m \u001b[1;33m\u001b[0m\u001b[0m\n\u001b[0;32m     15\u001b[0m \u001b[0mtile_url_template1\u001b[0m \u001b[1;33m=\u001b[0m \u001b[1;34m\"https://earthengine.googleapis.com/map/{mapid}/{{z}}/{{x}}/{{y}}?token={token}\"\u001b[0m\u001b[1;33m\u001b[0m\u001b[1;33m\u001b[0m\u001b[0m\n",
      "\u001b[1;32mC:\\ProgramData\\Anaconda3\\lib\\site-packages\\ee\\imagecollection.py\u001b[0m in \u001b[0;36mgetMapId\u001b[1;34m(self, vis_params)\u001b[0m\n\u001b[0;32m     96\u001b[0m     \"\"\"\n\u001b[0;32m     97\u001b[0m     \u001b[0mmosaic\u001b[0m \u001b[1;33m=\u001b[0m \u001b[0mapifunction\u001b[0m\u001b[1;33m.\u001b[0m\u001b[0mApiFunction\u001b[0m\u001b[1;33m.\u001b[0m\u001b[0mcall_\u001b[0m\u001b[1;33m(\u001b[0m\u001b[1;34m'ImageCollection.mosaic'\u001b[0m\u001b[1;33m,\u001b[0m \u001b[0mself\u001b[0m\u001b[1;33m)\u001b[0m\u001b[1;33m\u001b[0m\u001b[1;33m\u001b[0m\u001b[0m\n\u001b[1;32m---> 98\u001b[1;33m     \u001b[1;32mreturn\u001b[0m \u001b[0mmosaic\u001b[0m\u001b[1;33m.\u001b[0m\u001b[0mgetMapId\u001b[0m\u001b[1;33m(\u001b[0m\u001b[0mvis_params\u001b[0m\u001b[1;33m)\u001b[0m\u001b[1;33m\u001b[0m\u001b[1;33m\u001b[0m\u001b[0m\n\u001b[0m\u001b[0;32m     99\u001b[0m \u001b[1;33m\u001b[0m\u001b[0m\n\u001b[0;32m    100\u001b[0m   \u001b[1;32mdef\u001b[0m \u001b[0mselect\u001b[0m\u001b[1;33m(\u001b[0m\u001b[0mself\u001b[0m\u001b[1;33m,\u001b[0m \u001b[0mselectors\u001b[0m\u001b[1;33m,\u001b[0m \u001b[0mopt_names\u001b[0m\u001b[1;33m=\u001b[0m\u001b[1;32mNone\u001b[0m\u001b[1;33m,\u001b[0m \u001b[1;33m*\u001b[0m\u001b[0margs\u001b[0m\u001b[1;33m)\u001b[0m\u001b[1;33m:\u001b[0m\u001b[1;33m\u001b[0m\u001b[1;33m\u001b[0m\u001b[0m\n",
      "\u001b[1;32mC:\\ProgramData\\Anaconda3\\lib\\site-packages\\ee\\image.py\u001b[0m in \u001b[0;36mgetMapId\u001b[1;34m(self, vis_params)\u001b[0m\n\u001b[0;32m    129\u001b[0m     \u001b[0mvis_image\u001b[0m\u001b[1;33m,\u001b[0m \u001b[0mrequest\u001b[0m \u001b[1;33m=\u001b[0m \u001b[0mself\u001b[0m\u001b[1;33m.\u001b[0m\u001b[0m_apply_visualization\u001b[0m\u001b[1;33m(\u001b[0m\u001b[0mvis_params\u001b[0m\u001b[1;33m)\u001b[0m\u001b[1;33m\u001b[0m\u001b[1;33m\u001b[0m\u001b[0m\n\u001b[0;32m    130\u001b[0m     \u001b[0mrequest\u001b[0m\u001b[1;33m[\u001b[0m\u001b[1;34m'image'\u001b[0m\u001b[1;33m]\u001b[0m \u001b[1;33m=\u001b[0m \u001b[0mvis_image\u001b[0m\u001b[1;33m\u001b[0m\u001b[1;33m\u001b[0m\u001b[0m\n\u001b[1;32m--> 131\u001b[1;33m     \u001b[0mresponse\u001b[0m \u001b[1;33m=\u001b[0m \u001b[0mdata\u001b[0m\u001b[1;33m.\u001b[0m\u001b[0mgetMapId\u001b[0m\u001b[1;33m(\u001b[0m\u001b[0mrequest\u001b[0m\u001b[1;33m)\u001b[0m\u001b[1;33m\u001b[0m\u001b[1;33m\u001b[0m\u001b[0m\n\u001b[0m\u001b[0;32m    132\u001b[0m     \u001b[0mresponse\u001b[0m\u001b[1;33m[\u001b[0m\u001b[1;34m'image'\u001b[0m\u001b[1;33m]\u001b[0m \u001b[1;33m=\u001b[0m \u001b[0mself\u001b[0m\u001b[1;33m\u001b[0m\u001b[1;33m\u001b[0m\u001b[0m\n\u001b[0;32m    133\u001b[0m     \u001b[1;32mreturn\u001b[0m \u001b[0mresponse\u001b[0m\u001b[1;33m\u001b[0m\u001b[1;33m\u001b[0m\u001b[0m\n",
      "\u001b[1;32mC:\\ProgramData\\Anaconda3\\lib\\site-packages\\ee\\data.py\u001b[0m in \u001b[0;36mgetMapId\u001b[1;34m(params)\u001b[0m\n\u001b[0;32m    505\u001b[0m     \u001b[0mparams\u001b[0m\u001b[1;33m[\u001b[0m\u001b[1;34m'image'\u001b[0m\u001b[1;33m]\u001b[0m \u001b[1;33m=\u001b[0m \u001b[0mparams\u001b[0m\u001b[1;33m[\u001b[0m\u001b[1;34m'image'\u001b[0m\u001b[1;33m]\u001b[0m\u001b[1;33m.\u001b[0m\u001b[0mserialize\u001b[0m\u001b[1;33m(\u001b[0m\u001b[1;33m)\u001b[0m\u001b[1;33m\u001b[0m\u001b[1;33m\u001b[0m\u001b[0m\n\u001b[0;32m    506\u001b[0m   \u001b[0mparams\u001b[0m\u001b[1;33m[\u001b[0m\u001b[1;34m'json_format'\u001b[0m\u001b[1;33m]\u001b[0m \u001b[1;33m=\u001b[0m \u001b[1;34m'v2'\u001b[0m\u001b[1;33m\u001b[0m\u001b[1;33m\u001b[0m\u001b[0m\n\u001b[1;32m--> 507\u001b[1;33m   \u001b[0mresult\u001b[0m \u001b[1;33m=\u001b[0m \u001b[0msend_\u001b[0m\u001b[1;33m(\u001b[0m\u001b[1;34m'/mapid'\u001b[0m\u001b[1;33m,\u001b[0m \u001b[0mparams\u001b[0m\u001b[1;33m)\u001b[0m\u001b[1;33m\u001b[0m\u001b[1;33m\u001b[0m\u001b[0m\n\u001b[0m\u001b[0;32m    508\u001b[0m   url_format = '%s/map/%s/{z}/{x}/{y}?token=%s' % (\n\u001b[0;32m    509\u001b[0m       _tile_base_url, result['mapid'], result['token'])\n",
      "\u001b[1;32mC:\\ProgramData\\Anaconda3\\lib\\site-packages\\ee\\data.py\u001b[0m in \u001b[0;36msend_\u001b[1;34m(path, params, opt_method, opt_raw)\u001b[0m\n\u001b[0;32m   1667\u001b[0m       \u001b[1;32mraise\u001b[0m \u001b[0mee_exception\u001b[0m\u001b[1;33m.\u001b[0m\u001b[0mEEException\u001b[0m\u001b[1;33m(\u001b[0m\u001b[1;34m'Invalid JSON: %s'\u001b[0m \u001b[1;33m%\u001b[0m \u001b[0mcontent\u001b[0m\u001b[1;33m)\u001b[0m\u001b[1;33m\u001b[0m\u001b[1;33m\u001b[0m\u001b[0m\n\u001b[0;32m   1668\u001b[0m     \u001b[1;32mif\u001b[0m \u001b[1;34m'error'\u001b[0m \u001b[1;32min\u001b[0m \u001b[0mjson_content\u001b[0m\u001b[1;33m:\u001b[0m\u001b[1;33m\u001b[0m\u001b[1;33m\u001b[0m\u001b[0m\n\u001b[1;32m-> 1669\u001b[1;33m       \u001b[1;32mraise\u001b[0m \u001b[0mee_exception\u001b[0m\u001b[1;33m.\u001b[0m\u001b[0mEEException\u001b[0m\u001b[1;33m(\u001b[0m\u001b[0mjson_content\u001b[0m\u001b[1;33m[\u001b[0m\u001b[1;34m'error'\u001b[0m\u001b[1;33m]\u001b[0m\u001b[1;33m[\u001b[0m\u001b[1;34m'message'\u001b[0m\u001b[1;33m]\u001b[0m\u001b[1;33m)\u001b[0m\u001b[1;33m\u001b[0m\u001b[1;33m\u001b[0m\u001b[0m\n\u001b[0m\u001b[0;32m   1670\u001b[0m     \u001b[1;32mif\u001b[0m \u001b[1;34m'data'\u001b[0m \u001b[1;32mnot\u001b[0m \u001b[1;32min\u001b[0m \u001b[0mcontent\u001b[0m\u001b[1;33m:\u001b[0m\u001b[1;33m\u001b[0m\u001b[1;33m\u001b[0m\u001b[0m\n\u001b[0;32m   1671\u001b[0m       \u001b[1;32mraise\u001b[0m \u001b[0mee_exception\u001b[0m\u001b[1;33m.\u001b[0m\u001b[0mEEException\u001b[0m\u001b[1;33m(\u001b[0m\u001b[1;34m'Malformed response: '\u001b[0m \u001b[1;33m+\u001b[0m \u001b[0mstr\u001b[0m\u001b[1;33m(\u001b[0m\u001b[0mcontent\u001b[0m\u001b[1;33m)\u001b[0m\u001b[1;33m)\u001b[0m\u001b[1;33m\u001b[0m\u001b[1;33m\u001b[0m\u001b[0m\n",
      "\u001b[1;31mEEException\u001b[0m: Empty date ranges not supported for the current operation."
     ]
    }
   ],
   "source": [
    "#Map the function over one year of data and take the median.\n",
    "#Load Sentinel-2 TOA reflectance data.\n",
    "date1='2019-08-24'\n",
    "date1 = ee.Date(date1)\n",
    "date2='2019-08-01'\n",
    "date2 = ee.Date(date2)\n",
    "\n",
    "\n",
    "#Pre-filter to get less cloudy granules.\n",
    "dataset = ee.ImageCollection('COPERNICUS/S2').filterDate(date1, date2).filter(ee.Filter.lt('CLOUDY_PIXEL_PERCENTAGE', 5)).map(maskS2clouds)\n",
    "\n",
    "rgb_S2 = {'min': 0.0,'max': 0.2,'bands': ['B4', 'B3', 'B2']}\n",
    "S2_tk = dataset.getMapId(rgb_S2)\n",
    "\n",
    "tile_url_template1 = \"https://earthengine.googleapis.com/map/{mapid}/{{z}}/{{x}}/{{y}}?token={token}\"\n",
    "source_tile1=tile_url_template1.format(**S2_tk)\n",
    "\n",
    "fig1 = px.scatter_mapbox(us_cities, lat=\"lat\", lon=\"lon\", hover_name=\"City\", hover_data=[\"State\", \"Population\"],\n",
    "                        color_discrete_sequence=[\"fuchsia\"], zoom=3, height=500)\n",
    "\n",
    "fig1.update_layout(\n",
    "    mapbox_style=\"open-street-map\",\n",
    "    mapbox_layers=[\n",
    "        {\n",
    "            \"below\": 'fig',\n",
    "            \"sourcetype\": \"raster\",\n",
    "            \"source\": [source_tile1]\n",
    "        }\n",
    "      ])\n",
    "fig1.update_layout(margin={\"r\":0,\"t\":0,\"l\":0,\"b\":0})\n",
    "\n"
   ]
  },
  {
   "cell_type": "code",
   "execution_count": 85,
   "metadata": {},
   "outputs": [
    {
     "name": "stdout",
     "output_type": "stream",
     "text": [
      "paste in your browser: http://localhost:8050/\n",
      " * Serving Flask app \"__main__\" (lazy loading)\n",
      " * Environment: production\n",
      "   WARNING: This is a development server. Do not use it in a production deployment.\n",
      "   Use a production WSGI server instead.\n",
      " * Debug mode: off\n"
     ]
    },
    {
     "name": "stderr",
     "output_type": "stream",
     "text": [
      " * Running on http://127.0.0.1:8050/ (Press CTRL+C to quit)\n",
      "127.0.0.1 - - [28/Aug/2019 11:58:24] \"\u001b[37mGET / HTTP/1.1\u001b[0m\" 200 -\n",
      "127.0.0.1 - - [28/Aug/2019 11:58:24] \"\u001b[37mGET /_dash-component-suites/dash_renderer/react@16.8.6.min.js?v=1.0.0&m=1565444703 HTTP/1.1\u001b[0m\" 200 -\n",
      "127.0.0.1 - - [28/Aug/2019 11:58:24] \"\u001b[37mGET /_dash-component-suites/dash_renderer/prop-types@15.7.2.min.js?v=1.0.0&m=1565444702 HTTP/1.1\u001b[0m\" 200 -\n",
      "127.0.0.1 - - [28/Aug/2019 11:58:24] \"\u001b[37mGET /_dash-component-suites/dash_renderer/react-dom@16.8.6.min.js?v=1.0.0&m=1565444703 HTTP/1.1\u001b[0m\" 200 -\n",
      "127.0.0.1 - - [28/Aug/2019 11:58:24] \"\u001b[37mGET /_dash-component-suites/dash_core_components/highlight.pack.js?v=1.1.1&m=1565444707 HTTP/1.1\u001b[0m\" 200 -\n",
      "127.0.0.1 - - [28/Aug/2019 11:58:24] \"\u001b[37mGET /_dash-component-suites/dash_html_components/dash_html_components.min.js?v=1.0.0&m=1565444711 HTTP/1.1\u001b[0m\" 200 -\n",
      "127.0.0.1 - - [28/Aug/2019 11:58:24] \"\u001b[37mGET /_dash-component-suites/dash_renderer/dash_renderer.min.js?v=1.0.0&m=1565444702 HTTP/1.1\u001b[0m\" 200 -\n",
      "127.0.0.1 - - [28/Aug/2019 11:58:24] \"\u001b[37mGET /_dash-component-suites/dash_core_components/dash_core_components.min.js?v=1.1.1&m=1565444707 HTTP/1.1\u001b[0m\" 200 -\n",
      "127.0.0.1 - - [28/Aug/2019 11:58:24] \"\u001b[37mGET /_dash-component-suites/dash_core_components/plotly-1.49.1.min.js?v=1.1.1&m=1565444707 HTTP/1.1\u001b[0m\" 200 -\n",
      "127.0.0.1 - - [28/Aug/2019 11:58:25] \"\u001b[37mGET /_dash-dependencies HTTP/1.1\u001b[0m\" 200 -\n",
      "127.0.0.1 - - [28/Aug/2019 11:58:25] \"\u001b[37mGET /_dash-layout HTTP/1.1\u001b[0m\" 200 -\n",
      "127.0.0.1 - - [28/Aug/2019 11:58:25] \"\u001b[37mPOST /_dash-update-component HTTP/1.1\u001b[0m\" 200 -\n"
     ]
    }
   ],
   "source": [
    "\"\"\" \n",
    "The <div> tag is a container unit that encapsulates other page elements and divides the HTML document \n",
    "into sections. Web developers use <div> elements to group together HTML elements and apply CSS styles to many elements \n",
    "at once. \n",
    "\n",
    "By placing text inside of an <h1> heading tag, for example, the text displays bold and the size of the text increases to \n",
    "a 24pt font size. Heading tags are numbered 1 through 6, and they change size depending on which tag you choose, \n",
    "with 1 being the largest font size at 24pt, and 6 being the smallest font size at 8pt.\n",
    "The <p> tag is reserved specifically for blocks of text\n",
    "\n",
    "Type_orbit_w=widgets.Text(value='Type Orbit',description='Orbit:',disabled=True)\n",
    "\"\"\"\n",
    "colors = {  'background': '#111111',\n",
    "            'text':       '#FFFFFF'}\n",
    "# Step 1. Launch the application\n",
    "external_stylesheets = ['https://codepen.io/chriddyp/pen/bWLwgP.css']\n",
    "app = dash.Dash(__name__, external_stylesheets=external_stylesheets)\n",
    "#app = dash.Dash()\n",
    "app.layout = html.Div(style={'backgroundColor': colors['background']},\n",
    "                #,'columnCount': 2\n",
    "                #<!-- Hexadecimal Color Value -->bgcolor=\"#004488\"\n",
    "                children=[  \n",
    "                        \n",
    "                            html.Div([html.H1(\"World scale monitoring with Earth Engine and Dash\"),html.H2(\"Sentinel-1\")],\n",
    "                                style={'textAlign': 'center','color': colors['text']}),\n",
    "                                #style = {'padding' : '10px' ,'backgroundColor' : '#00CC00'}),\n",
    "                            #html.Div([dcc.Input(id='input-box', type='text'),html.Button('Submit', id='button'),\n",
    "                                      #html.Div(id='output-container-button',children='Enter a value and press submit')],            \n",
    "                # adding the datepickers\n",
    "                    html.Div(style={'backgroundColor': colors['background'],'columnCount': 3},\n",
    "                        children=[\n",
    "                            html.Div([html.P(\"Select the period of analysis:\")],\n",
    "                                style={'color': colors['text']}),\n",
    "\n",
    "                            html.Div([dcc.DatePickerRange(\n",
    "                                    id='my-date-picker-range',\n",
    "                                    min_date_allowed=dt(1995, 8, 5),\n",
    "                                    max_date_allowed=dt(2017, 9, 19),\n",
    "                                    initial_visible_month=dt(2017, 8, 5),\n",
    "                                    start_date_placeholder_text=\"Start Period\",\n",
    "                                    end_date_placeholder_text=\"End Period\",\n",
    "                                ),\n",
    "                                html.Div(id='output-container-date-picker-range')],\n",
    "                                style={'color': colors['text']}),\n",
    "                # Widgets to select other options\n",
    "                            \n",
    "                           html.Div([html.Label('Direction:'),\n",
    "                                     dcc.Checklist(options=[{'label': 'Ascending', 'value': 'Asc'},\n",
    "                                                        {'label': 'Descending', 'value': 'Des'},\n",
    "                                                        {'label': 'Both', 'value': 'Both'}],\n",
    "                                                        value=['Des'],\n",
    "                                                        labelStyle={'display': 'inline-block'})],\n",
    "                                                        style = {'color': colors['text']}),\n",
    "\n",
    "                            html.Div([html.Label('Orbit:'),\n",
    "                                      dcc.Checklist(options=[{'label': 'All available', 'value': 'Orbit_all'},\n",
    "                                                            {'label': 'Type it', 'value': 'Orbit_type_it'}],\n",
    "                                                            value=['Orbit'],\n",
    "                                                            labelStyle={'display': 'inline-block'})],\n",
    "                                                            style = {'color': colors['text']}),    \n",
    "                        \n",
    "                             html.Div([\n",
    "                                       html.Label(' Latitude: '),\n",
    "                                       dcc.Input(value='-8.5136', type='',\n",
    "                                       style = {'color': colors['text']}),    \n",
    "\n",
    "                                       html.Label(' Longitude: '),\n",
    "                                       dcc.Input(value='-438.7951', type='')],\n",
    "                                       style = {'color': colors['text']}),\n",
    "\n",
    "                             html.Div([\n",
    "                                html.Label('Clip map'),\n",
    "                                dcc.RadioItems(options=[{'label': 'Yes', 'value': 'Y'},\n",
    "                                                        {'label': 'No', 'value': 'N'}],\n",
    "                                                        value='N')],\n",
    "                                                        style = {'color': colors['text']}),\n",
    "\n",
    "                            html.Div([html.Button('Load map',id='button'),\n",
    "                                      html.Div(id='output-container-button',children='Click to  load map')],\n",
    "                                      style = {'color': colors['text']})      \n",
    "                    ]),\n",
    "                                # adding a plot\n",
    "                      html.Div(style={'backgroundColor': colors['background'],'columnCount': 2},\n",
    "                          children=[\n",
    "                                html.Div([dcc.Graph(id = 'plot', figure = fig),dcc.Graph(id = 'plot1', figure = fig1)])\n",
    "                                #style = {'padding' : '2px' ,'backgroundColor' : '#004488'})\n",
    "                          ])\n",
    "                ])\n",
    "#style = {'width': '400px','fontSize' : '20px','padding-left' : '100px','display': 'inline-block'})\n",
    "\n",
    "print(\"paste in your browser: http://localhost:8050/\")\n",
    "\n",
    "@app.callback(\n",
    "    dash.dependencies.Output('output-container-date-picker-range', 'children'),\n",
    "    [dash.dependencies.Input('my-date-picker-range', 'start_date'),\n",
    "     dash.dependencies.Input('my-date-picker-range', 'end_date')])\n",
    "def update_output(start_date, end_date):\n",
    "    string_prefix = 'You have selected: '\n",
    "    if start_date is not None:\n",
    "        start_date = dt.strptime(start_date, '%Y-%m-%d')\n",
    "        start_date_string = start_date.strftime('%B %d, %Y')\n",
    "        string_prefix = string_prefix + 'Start Date: ' + start_date_string + ' | '\n",
    "    if end_date is not None:\n",
    "        end_date = dt.strptime(end_date, '%Y-%m-%d')\n",
    "        end_date_string = end_date.strftime('%B %d, %Y')\n",
    "        string_prefix = string_prefix + 'End Date: ' + end_date_string\n",
    "    if len(string_prefix) == len('You have selected: '):\n",
    "        return 'Select a date to see it displayed here'\n",
    "    else:\n",
    "        return string_prefix\n",
    "    \n",
    "# Step 6. Add the server clause\n",
    "if __name__ == '__main__':\n",
    "    app.run_server(debug = False)"
   ]
  },
  {
   "cell_type": "code",
   "execution_count": 58,
   "metadata": {
    "scrolled": true
   },
   "outputs": [
    {
     "data": {
      "text/plain": [
       "'https://earthengine.googleapis.com/map/98f38f8281d55b547a8f94e3c30e0bfb/{z}/{x}/{y}?token=df130d3ab3750054d9b6d8ddab9a783e'"
      ]
     },
     "execution_count": 58,
     "metadata": {},
     "output_type": "execute_result"
    }
   ],
   "source": [
    "#map_id = ee.Image(ee_image_object).getMapId()\n",
    "map_id=Sentinel1_median_RGB.getMapId(vis_param)\n",
    "tile_url_template = \"https://earthengine.googleapis.com/map/{mapid}/{{z}}/{{x}}/{{y}}?token={token}\"\n",
    "tile_url_template.format(**map_id)"
   ]
  },
  {
   "cell_type": "code",
   "execution_count": null,
   "metadata": {
    "scrolled": false
   },
   "outputs": [],
   "source": [
    "w=widgets.interactive(dates_f, a=date1_w, b=date2_w,c=Direction_w,d=Orbit_w,e=Type_orbit_w,f=Latitude_w,g=Longitude_w,h=bounded_w)\n",
    "display(w)\n"
   ]
  },
  {
   "cell_type": "code",
   "execution_count": null,
   "metadata": {},
   "outputs": [],
   "source": [
    "from IPython.display import display\n",
    "button = widgets.Button(description=\"Load image collection\")\n",
    "output = widgets.Output()\n",
    "\n",
    "display(button, output)\n",
    "\n",
    "def on_button_clicked(b):\n",
    "    with output:\n",
    "        w.kwargs\n",
    "        date1=w.kwargs['a']\n",
    "        date1=date1.strftime(\"%Y-%m-%d\")\n",
    "        date1 = ee.Date(date1)\n",
    "        date2=w.kwargs['b']\n",
    "        date2 = ee.Date(date2.strftime(\"%Y-%m-%d\"))\n",
    "        Direction=w.kwargs['c']\n",
    "        Orbit=w.kwargs['d']\n",
    "        Orbit_No=w.kwargs['e']\n",
    "        Latitude=w.kwargs['f']\n",
    "        Longitude=w.kwargs['g']\n",
    "        bound_it=w.kwargs['h']\n",
    "        #sentinel1=x.load_img_collection(date1,date2,Direction,Orbit,Latitude,Longitude,bound_it)\n",
    "        sentinel1=load_img_collection(date1,date2,Direction,Orbit,Latitude,Longitude,bound_it)\n",
    "        median_reduction(sentinel1,Latitude,Longitude)\n",
    "        print(\"OK\") \n",
    "        #print(sentinel1)\n",
    "        #print(sentinel1)\n",
    "        \n",
    "    return (sentinel1)\n",
    "\n",
    "sentinel1=button.on_click(on_button_clicked)\n"
   ]
  },
  {
   "cell_type": "markdown",
   "metadata": {
    "extensions": {
     "jupyter_dashboards": {
      "version": 1,
      "views": {
       "grid_default": {},
       "report_default": {}
      }
     }
    }
   },
   "source": [
    "# Show a reduced image of the collection by using the ee.reduce.median() "
   ]
  },
  {
   "cell_type": "markdown",
   "metadata": {
    "extensions": {
     "jupyter_dashboards": {
      "version": 1,
      "views": {
       "grid_default": {},
       "report_default": {}
      }
     }
    }
   },
   "source": [
    "### Reduce the image collection by getting the standard deviation "
   ]
  },
  {
   "cell_type": "code",
   "execution_count": 39,
   "metadata": {},
   "outputs": [],
   "source": [
    "Sentinel1_std_dev=sentinel1.reduce(ee.Reducer.stdDev())"
   ]
  },
  {
   "cell_type": "code",
   "execution_count": 40,
   "metadata": {
    "extensions": {
     "jupyter_dashboards": {
      "version": 1,
      "views": {
       "grid_default": {},
       "report_default": {}
      }
     }
    },
    "scrolled": false
   },
   "outputs": [
    {
     "data": {
      "text/html": [
       "<div style=\"width:100%;\"><div style=\"position:relative;width:100%;height:0;padding-bottom:60%;\"><iframe src=\"data:text/html;charset=utf-8;base64,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\" style=\"position:absolute;width:100%;height:100%;left:0;top:0;border:none !important;\" allowfullscreen webkitallowfullscreen mozallowfullscreen></iframe></div></div>"
      ],
      "text/plain": [
       "<folium.folium.Map at 0x236dc4e5588>"
      ]
     },
     "execution_count": 40,
     "metadata": {},
     "output_type": "execute_result"
    }
   ],
   "source": [
    "vis_param1 = {'min': 0, 'max':3, 'bands': ['VV_stdDev', 'VH_stdDev', 'angle_stdDev'],'gamma': 1}\n",
    "median_tk1 = Sentinel1_std_dev.getMapId(vis_param1)\n",
    "#m1=Mapdisplay(center,{'Sentinel 1 - median':median_tk},zoom_start=11)\n",
    "m2=Mapdisplay(center,{'Sentinel 1 - Std_Dev':median_tk1},zoom_start=13)\n",
    "m2.add_child(folium.LatLngPopup())"
   ]
  },
  {
   "cell_type": "markdown",
   "metadata": {},
   "source": [
    "# Get the time series of a point (latitude,longited)  "
   ]
  },
  {
   "cell_type": "code",
   "execution_count": null,
   "metadata": {
    "extensions": {
     "jupyter_dashboards": {
      "version": 1,
      "views": {
       "grid_default": {},
       "report_default": {}
      }
     }
    }
   },
   "outputs": [],
   "source": [
    "#print(Latitude)\n",
    "%matplotlib qt\n",
    "#point = ee.Geometry.Point(-76.7506,0.7456) # nice example\n",
    "point = ee.Geometry.Point(-71.9295,2.6002)\n",
    "title='Point in M06T01L237'   \n",
    "df_point=EE_library.Time_series_of_a_point(sentinel1,point,title)\n"
   ]
  },
  {
   "cell_type": "code",
   "execution_count": null,
   "metadata": {
    "scrolled": true
   },
   "outputs": [],
   "source": [
    "df_point"
   ]
  },
  {
   "cell_type": "code",
   "execution_count": null,
   "metadata": {
    "extensions": {
     "jupyter_dashboards": {
      "version": 1,
      "views": {
       "grid_default": {},
       "report_default": {}
      }
     }
    }
   },
   "outputs": [],
   "source": [
    "# Esparrago\n",
    "Lat1=-8.5249\n",
    "long1=-438.7914\n",
    "Lat2=-8.5227\n",
    "long2=-438.7894\n",
    "Lat3=-8.5232\n",
    "long3=-438.7887\n",
    "Lat4=-8.5235\n",
    "long4=-438.7919\n",
    "#Pimientos\n",
    "#Lat1=-8.4841\n",
    "#long1=-438.8196\n",
    "#Lat2=-8.4840\n",
    "#long2=-438.8180\n",
    "#Lat3=-8.4846\n",
    "#long3=-438.8178\n",
    "#Lat4=-8.4848\n",
    "#long4=-438.8194\n",
    "#Doñana Parcel A\n",
    "#Lat1=37.0603\n",
    "#long1=-366.1100\n",
    "#Lat2=37.0615\n",
    "#long2= -366.1025\n",
    "#Lat3=37.0608\n",
    "#long3=-366.1010\n",
    "#Lat4=37.0597\n",
    "#long4=-366.1093"
   ]
  },
  {
   "cell_type": "markdown",
   "metadata": {
    "extensions": {
     "jupyter_dashboards": {
      "version": 1,
      "views": {
       "grid_default": {},
       "report_default": {}
      }
     }
    }
   },
   "source": [
    "### Create an earth engine geometry"
   ]
  },
  {
   "cell_type": "code",
   "execution_count": null,
   "metadata": {
    "extensions": {
     "jupyter_dashboards": {
      "version": 1,
      "views": {
       "grid_default": {},
       "report_default": {}
      }
     }
    }
   },
   "outputs": [],
   "source": [
    "#interesting point Col\n",
    "#Lat1=0.7551\n",
    "#long1=-76.6678\n",
    "#Lat2=0.7551\n",
    "#long2=-76.6674\n",
    "#Lat3=0.7547\n",
    "#long3=-76.6674\n",
    "#Lat4=-0.7550\n",
    "#long4=-76.6673\n",
    "Geo1 = ee.Geometry.Polygon([[      [long1, Lat1],\n",
    "                                   [long2, Lat2],\n",
    "                                   [long3, Lat3],\n",
    "                                   [long4,  Lat4]]])"
   ]
  },
  {
   "cell_type": "markdown",
   "metadata": {
    "extensions": {
     "jupyter_dashboards": {
      "version": 1,
      "views": {
       "grid_default": {},
       "report_default": {}
      }
     }
    }
   },
   "source": [
    "\n",
    "### Generate the time series of the created geometry"
   ]
  },
  {
   "cell_type": "code",
   "execution_count": null,
   "metadata": {
    "extensions": {
     "jupyter_dashboards": {
      "version": 1,
      "views": {
       "grid_default": {},
       "report_default": {}
      }
     }
    }
   },
   "outputs": [],
   "source": [
    "#sentinel1=sentinel1.filterBounds(Geo1)\n",
    "stats = 'mean'    #   median, max, min, minMax\n",
    "title='Custom geometry'\n",
    "# Use automatic_ax_lim=\"No\" if it is desired to do interparcel visual comparisons. All plot will have then same y limits               \n",
    "df_region=EE_library.Time_series_of_a_region(sentinel1,Geo1,stats,title,automatic_ax_lim=\"Yes\")"
   ]
  },
  {
   "cell_type": "code",
   "execution_count": null,
   "metadata": {},
   "outputs": [],
   "source": [
    "df_region"
   ]
  },
  {
   "cell_type": "markdown",
   "metadata": {
    "extensions": {
     "jupyter_dashboards": {
      "version": 1,
      "views": {
       "grid_default": {},
       "report_default": {}
      }
     }
    }
   },
   "source": [
    "# Read shapefile"
   ]
  },
  {
   "cell_type": "code",
   "execution_count": null,
   "metadata": {
    "extensions": {
     "jupyter_dashboards": {
      "version": 1,
      "views": {
       "grid_default": {},
       "report_default": {}
      }
     }
    }
   },
   "outputs": [],
   "source": [
    "geo_df = geopandas.read_file(\"D:\\\\PhD Info\\\\EO4 Cultivar\\\\Ground data\\\\20180504_Danper_Ground_data\\Shapefiles\\\\Danper_Campositan_parcels_boundaries_lotes_EPSG 4326 - WGS 84.shp\")"
   ]
  },
  {
   "cell_type": "code",
   "execution_count": null,
   "metadata": {},
   "outputs": [],
   "source": [
    "geo_df"
   ]
  },
  {
   "cell_type": "markdown",
   "metadata": {
    "extensions": {
     "jupyter_dashboards": {
      "version": 1,
      "views": {
       "grid_default": {},
       "report_default": {}
      }
     }
    }
   },
   "source": [
    "Select the polygons to extract the time series:\n",
    "\n",
    "Select the columns by which to filter the geodataframe to select the desired polygons\n",
    "\n",
    "Specify the poligons mathing the ones in the geo_df"
   ]
  },
  {
   "cell_type": "code",
   "execution_count": null,
   "metadata": {
    "extensions": {
     "jupyter_dashboards": {
      "version": 1,
      "views": {
       "grid_default": {},
       "report_default": {}
      }
     }
    },
    "scrolled": true
   },
   "outputs": [],
   "source": [
    "filter_geo_df_by=\"ID_MT\"\n",
    "#List_of_interesting_modulos = [\"M14\",\"M14\",\"M14\",\"M14\",\"M24\",\"M12\"]\n",
    "#List_of_interesting_turnos =  [\"T02\",\"T04\",\"T05\",\"T06\",\"T02\",\"T05\"]\n",
    "# MT with phenology\n",
    "#List_of_interesting_modulos = [\"M19\",\"M11\",\"M24\",\"M10\",\"M23\",\"M06\",\"M22\",\"M12\",\"M14\",'M07']\n",
    "#List_of_interesting_turnos =  [\"T04\",\"T01\",\"T02\",\"T05\",\"T05\",\"T02\",\"T03\",\"T02\",\"T05\",'T04'] # Turno representativo de ese modulo\n",
    "List_of_interesting_modulos = [\"M14\",\"M24\"]\n",
    "List_of_interesting_turnos =  [\"T05\",\"T01\"]\n",
    "\n",
    "\n"
   ]
  },
  {
   "cell_type": "code",
   "execution_count": null,
   "metadata": {
    "extensions": {
     "jupyter_dashboards": {
      "version": 1,
      "views": {
       "grid_default": {},
       "report_default": {}
      }
     }
    },
    "scrolled": true
   },
   "outputs": [],
   "source": [
    "def pri(M,T):\n",
    "    List_of_interesting_modulos.append(M)\n",
    "    print('List_of_interesting_modulos:' +M)\n",
    "    print('List_of_interesting_turnos: ' +T)\n",
    "M = widgets.Dropdown(options=['14', '12', '23'],description='Modulo:')\n",
    "T = widgets.Dropdown(options=['01', '02', '03'],description='Turno:')    \n",
    "widgets.interactive(pri, M=M, T=T)"
   ]
  },
  {
   "cell_type": "code",
   "execution_count": null,
   "metadata": {
    "extensions": {
     "jupyter_dashboards": {
      "version": 1,
      "views": {
       "grid_default": {},
       "report_default": {}
      }
     }
    }
   },
   "outputs": [],
   "source": [
    "%matplotlib qt\n",
    "sentinel1 = ee.ImageCollection('COPERNICUS/S1_GRD').filterDate(date1, date2).filter(ee.Filter.listContains('transmitterReceiverPolarisation', 'VV')).filter(ee.Filter.listContains('transmitterReceiverPolarisation', 'VH')).filter(ee.Filter.eq('instrumentMode', 'IW')) \n",
    "\n",
    "for o in range(len(List_of_interesting_modulos)):\n",
    "    #ID_MT=\"M23T05\"\n",
    "    ID_MT=List_of_interesting_modulos[o]+List_of_interesting_turnos[o]\n",
    "    geo_df_IDMT=geo_df.loc[geo_df[filter_geo_df_by] == ID_MT]  \n",
    "    # Use automatic_ax_lim=\"No\" if it is desired to do interparcel visual comparisons. All plot will have then same y limits               \n",
    "    dicc_of_geometries1[ID_MT]=EE_library.time_series_from_shp(sentinel1,geo_df_IDMT,ID_MT,stats,save_ts,out_path,automatic_ax_lim=\"No\")\n",
    "    #dicc_of_geometries1[ID_MT].to_csv(path_or_buf=\"C:\\\\Users\\\\crisj\\\\Box\\\\Danper_Data_analysis\\\\Output_xlsx\\\\EE_\"+ID_MT+\"_\"+Direction+\"_\"+str(orbit_No))\n"
   ]
  },
  {
   "cell_type": "code",
   "execution_count": null,
   "metadata": {
    "extensions": {
     "jupyter_dashboards": {
      "version": 1,
      "views": {
       "grid_default": {},
       "report_default": {}
      }
     }
    }
   },
   "outputs": [],
   "source": []
  },
  {
   "cell_type": "code",
   "execution_count": null,
   "metadata": {
    "extensions": {
     "jupyter_dashboards": {
      "version": 1,
      "views": {
       "grid_default": {},
       "report_default": {}
      }
     }
    },
    "scrolled": true
   },
   "outputs": [],
   "source": [
    "widgets.FileUpload(\n",
    "    accept='',  # Accepted file extension e.g. '.txt', '.pdf', 'image/*', 'image/*,.pdf'\n",
    "    multiple=False  # True to accept multiple files upload else False\n",
    ")"
   ]
  },
  {
   "cell_type": "code",
   "execution_count": null,
   "metadata": {
    "extensions": {
     "jupyter_dashboards": {
      "version": 1,
      "views": {
       "grid_default": {},
       "report_default": {}
      }
     }
    }
   },
   "outputs": [],
   "source": [
    "widgets.Button(\n",
    "    description='Click me',\n",
    "    disabled=False,\n",
    "    button_style='', # 'success', 'info', 'warning', 'danger' or ''\n",
    "    tooltip='Click me',\n",
    "    icon='check'\n",
    ")"
   ]
  },
  {
   "cell_type": "code",
   "execution_count": null,
   "metadata": {
    "extensions": {
     "jupyter_dashboards": {
      "version": 1,
      "views": {
       "grid_default": {},
       "report_default": {}
      }
     }
    }
   },
   "outputs": [],
   "source": [
    "import ipywidgets as widgets\n",
    "from ipywidgets import interact, interactive, fixed, interact_manual"
   ]
  },
  {
   "cell_type": "markdown",
   "metadata": {
    "extensions": {
     "jupyter_dashboards": {
      "version": 1,
      "views": {
       "grid_default": {},
       "report_default": {}
      }
     }
    }
   },
   "source": [
    "### Keyword (x=?) argument - Widget\n",
    "True or False - Checkbox\n",
    "'Hi there' - Text\n",
    "value or (min,max) or (min,max,step) if integers are passed - IntSlider\n",
    "\n",
    "value or (min,max) or (min,max,step) if floats are passed - FloatSlider\n",
    "\n",
    "['orange','apple'] or `[(‘one’, 1), (‘two’, 2)] - Dropdown\n"
   ]
  },
  {
   "cell_type": "code",
   "execution_count": null,
   "metadata": {
    "extensions": {
     "jupyter_dashboards": {
      "version": 1,
      "views": {
       "grid_default": {},
       "report_default": {}
      }
     }
    }
   },
   "outputs": [],
   "source": [
    "%matplotlib qt\n",
    "#%matplotlib inline\n",
    "x = np.linspace(0, 2, 1000)\n",
    "fig, ax = plt.subplots(1, figsize=(10, 4))\n",
    "plt.suptitle('Sine Wave')\n",
    "\n",
    "\n",
    "def update_plot(amp, phase, freq):\n",
    "    \n",
    "    ax.clear()\n",
    "    y = amp * np.sin(freq * 2 * np.pi * x + phase * 2 * np.pi)\n",
    "    units = 'amp = {} $(psi)$ \\nphase = {} $(s)$ \\nfreq = {} $(Hz)$'\n",
    "    \n",
    "    ax.plot(x, y, label=units.format(amp, phase, freq))\n",
    "    ax.set_xlim(x[0], x[-1])\n",
    "    ax.legend(loc=1)\n",
    "    ax.set_xlabel('$(s)$')\n",
    "    plt.show()\n",
    "\n",
    "\n",
    "amp = widgets.FloatSlider(min=1, max=10, value=1, description='Amp:')\n",
    "phase = widgets.FloatSlider(min=0, max=5, value=0, description='Phase:')\n",
    "freq = widgets.FloatSlider(min=1, max=10, value=1, description='Freq:')\n",
    "    \n",
    "widgets.interactive(update_plot, amp=amp, phase=phase, freq=freq)"
   ]
  },
  {
   "cell_type": "markdown",
   "metadata": {},
   "source": [
    "# Supervised classification"
   ]
  },
  {
   "cell_type": "code",
   "execution_count": null,
   "metadata": {
    "extensions": {
     "jupyter_dashboards": {
      "version": 1,
      "views": {
       "grid_default": {},
       "report_default": {}
      }
     }
    },
    "scrolled": false
   },
   "outputs": [],
   "source": [
    "# Define a region in which to generate a sample of the input.\n",
    "region = ee.Geometry.Rectangle(-74.3619,4.8210,-74.2236,4.7430)\n",
    "region_img = ee.Image().paint(region, 0, 2)\n",
    "# Display the sample region.\n",
    "center = [4.7789, -74.2954]\n",
    "m3=Mapdisplay(center,{'Region':region_img.getMapId()},zoom_start=11)\n",
    "m3.add_child(folium.LatLngPopup())"
   ]
  },
  {
   "cell_type": "code",
   "execution_count": null,
   "metadata": {},
   "outputs": [],
   "source": [
    "# Make the training dataset.\n",
    "training = Sentinel1_std_dev.sample(region=region,scale=30,numPixels=5000)\n",
    "\n",
    "# Instantiate the clusterer and train it.\n",
    "clusterer = ee.Clusterer.wekaKMeans(15).train(training)\n",
    "\n",
    "# Cluster the input using the trained clusterer.\n",
    "result = Sentinel1_std_dev.cluster(clusterer)\n",
    "result_tk = result.randomVisualizer().getMapId()\n",
    "# Display the clusters with random colors.\n",
    "Mapdisplay(center, {'results':result_tk},zoom_start=8)\n"
   ]
  },
  {
   "cell_type": "markdown",
   "metadata": {},
   "source": [
    "# Sentinel 2"
   ]
  },
  {
   "cell_type": "code",
   "execution_count": 64,
   "metadata": {},
   "outputs": [],
   "source": [
    "def maskS2clouds(image): \n",
    "  qa = image.select('QA60');\n",
    "\n",
    "  # Bits 10 and 11 are clouds and cirrus, respectively.\n",
    "  cloudBitMask = 1 << 10;\n",
    "  cirrusBitMask = 1 << 11;\n",
    "\n",
    "  #Both flags should be set to zero, indicating clear conditions.\n",
    "  mask = qa.bitwiseAnd(cloudBitMask).eq(0)\n",
    "  mask = mask.bitwiseAnd(cirrusBitMask).eq(0)\n",
    "  return (image.updateMask(mask).divide(10000))\n"
   ]
  },
  {
   "cell_type": "code",
   "execution_count": 65,
   "metadata": {},
   "outputs": [],
   "source": [
    "#Map the function over one year of data and take the median.\n",
    "#Load Sentinel-2 TOA reflectance data.\n",
    "date1='2019-08-10'\n",
    "date1 = ee.Date(date1)\n",
    "date2='2019-08-26'\n",
    "date2 = ee.Date(date2)\n",
    "\n",
    "\n",
    "#Pre-filter to get less cloudy granules.\n",
    "dataset = ee.ImageCollection('COPERNICUS/S2').filterDate(date1, date2).filter(ee.Filter.lt('CLOUDY_PIXEL_PERCENTAGE', 5)).map(maskS2clouds)"
   ]
  },
  {
   "cell_type": "code",
   "execution_count": null,
   "metadata": {},
   "outputs": [],
   "source": []
  },
  {
   "cell_type": "code",
   "execution_count": 66,
   "metadata": {},
   "outputs": [
    {
     "data": {
      "text/html": [
       "<div style=\"width:100%;\"><div style=\"position:relative;width:100%;height:0;padding-bottom:60%;\"><iframe src=\"data:text/html;charset=utf-8;base64,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\" style=\"position:absolute;width:100%;height:100%;left:0;top:0;border:none !important;\" allowfullscreen webkitallowfullscreen mozallowfullscreen></iframe></div></div>"
      ],
      "text/plain": [
       "<folium.folium.Map at 0x219f51ba908>"
      ]
     },
     "execution_count": 66,
     "metadata": {},
     "output_type": "execute_result"
    }
   ],
   "source": [
    "rgb_S2 = {'min': 0.0,'max': 0.2,'bands': ['B4', 'B3', 'B2']}\n",
    "S2_tk = dataset.getMapId(rgb_S2)\n",
    "center = [x.Latitude,x.Longitude]\n",
    "m=Mapdisplay(center,{'Sentinel 2':S2_tk},zoom_start=13)\n",
    "m.add_child(folium.LatLngPopup())\n",
    "#Map.addLayer(dataset.median(), rgbVis, 'RGB');\n"
   ]
  },
  {
   "cell_type": "code",
   "execution_count": 42,
   "metadata": {},
   "outputs": [],
   "source": [
    "#Function to calculate and add an NDVI band\n",
    "def addNDVI(image):\n",
    "    return (image.addBands(image.normalizedDifference(['B8', 'B4'])))\n",
    "\n",
    "#NDVImed = dataset.median();\n",
    "#Add NDVI band to image collection\n",
    "S2 = dataset.map(addNDVI);    \n",
    "S2_median=S2.reduce(ee.Reducer.median())"
   ]
  },
  {
   "cell_type": "code",
   "execution_count": 43,
   "metadata": {},
   "outputs": [],
   "source": [
    "#Create palettes for display of NDVI\n",
    "ndvi_pal = ['#d73027', '#f46d43', '#fdae61', '#fee08b', '#d9ef8b','#a6d96a']"
   ]
  },
  {
   "cell_type": "code",
   "execution_count": 44,
   "metadata": {},
   "outputs": [
    {
     "ename": "EEException",
     "evalue": "ImageCollection.getRegion: No bands in collection.",
     "output_type": "error",
     "traceback": [
      "\u001b[1;31m---------------------------------------------------------------------------\u001b[0m",
      "\u001b[1;31mEEException\u001b[0m                               Traceback (most recent call last)",
      "\u001b[1;32m<ipython-input-44-c1628cf4925f>\u001b[0m in \u001b[0;36m<module>\u001b[1;34m\u001b[0m\n\u001b[0;32m      1\u001b[0m \u001b[0mpoint\u001b[0m \u001b[1;33m=\u001b[0m \u001b[0mee\u001b[0m\u001b[1;33m.\u001b[0m\u001b[0mGeometry\u001b[0m\u001b[1;33m.\u001b[0m\u001b[0mPoint\u001b[0m\u001b[1;33m(\u001b[0m\u001b[1;33m-\u001b[0m\u001b[1;36m438.8015\u001b[0m\u001b[1;33m,\u001b[0m\u001b[1;33m-\u001b[0m\u001b[1;36m8.5229\u001b[0m\u001b[1;33m)\u001b[0m\u001b[1;33m\u001b[0m\u001b[1;33m\u001b[0m\u001b[0m\n\u001b[0;32m      2\u001b[0m \u001b[1;33m\u001b[0m\u001b[0m\n\u001b[1;32m----> 3\u001b[1;33m \u001b[0ml\u001b[0m \u001b[1;33m=\u001b[0m \u001b[0mS2\u001b[0m\u001b[1;33m.\u001b[0m\u001b[0mfilterBounds\u001b[0m\u001b[1;33m(\u001b[0m\u001b[0mpoint\u001b[0m\u001b[1;33m)\u001b[0m\u001b[1;33m.\u001b[0m\u001b[0mgetRegion\u001b[0m\u001b[1;33m(\u001b[0m\u001b[0mpoint\u001b[0m\u001b[1;33m,\u001b[0m \u001b[1;36m30\u001b[0m\u001b[1;33m)\u001b[0m\u001b[1;33m.\u001b[0m\u001b[0mgetInfo\u001b[0m\u001b[1;33m(\u001b[0m\u001b[1;33m)\u001b[0m\u001b[1;33m\u001b[0m\u001b[1;33m\u001b[0m\u001b[0m\n\u001b[0m\u001b[0;32m      4\u001b[0m \u001b[1;33m\u001b[0m\u001b[0m\n\u001b[0;32m      5\u001b[0m \u001b[0mout\u001b[0m \u001b[1;33m=\u001b[0m \u001b[1;33m[\u001b[0m\u001b[0mdict\u001b[0m\u001b[1;33m(\u001b[0m\u001b[0mzip\u001b[0m\u001b[1;33m(\u001b[0m\u001b[0ml\u001b[0m\u001b[1;33m[\u001b[0m\u001b[1;36m0\u001b[0m\u001b[1;33m]\u001b[0m\u001b[1;33m,\u001b[0m \u001b[0mvalues\u001b[0m\u001b[1;33m)\u001b[0m\u001b[1;33m)\u001b[0m \u001b[1;32mfor\u001b[0m \u001b[0mvalues\u001b[0m \u001b[1;32min\u001b[0m \u001b[0ml\u001b[0m\u001b[1;33m[\u001b[0m\u001b[1;36m1\u001b[0m\u001b[1;33m:\u001b[0m\u001b[1;33m]\u001b[0m\u001b[1;33m]\u001b[0m\u001b[1;33m\u001b[0m\u001b[1;33m\u001b[0m\u001b[0m\n",
      "\u001b[1;32mC:\\ProgramData\\Anaconda3\\lib\\site-packages\\ee\\computedobject.py\u001b[0m in \u001b[0;36mgetInfo\u001b[1;34m(self)\u001b[0m\n\u001b[0;32m     93\u001b[0m       \u001b[0mThe\u001b[0m \u001b[0mobject\u001b[0m \u001b[0mcan\u001b[0m \u001b[0mevaluate\u001b[0m \u001b[0mto\u001b[0m \u001b[0manything\u001b[0m\u001b[1;33m.\u001b[0m\u001b[1;33m\u001b[0m\u001b[1;33m\u001b[0m\u001b[0m\n\u001b[0;32m     94\u001b[0m     \"\"\"\n\u001b[1;32m---> 95\u001b[1;33m     \u001b[1;32mreturn\u001b[0m \u001b[0mdata\u001b[0m\u001b[1;33m.\u001b[0m\u001b[0mcomputeValue\u001b[0m\u001b[1;33m(\u001b[0m\u001b[0mself\u001b[0m\u001b[1;33m)\u001b[0m\u001b[1;33m\u001b[0m\u001b[1;33m\u001b[0m\u001b[0m\n\u001b[0m\u001b[0;32m     96\u001b[0m \u001b[1;33m\u001b[0m\u001b[0m\n\u001b[0;32m     97\u001b[0m   \u001b[1;32mdef\u001b[0m \u001b[0mencode\u001b[0m\u001b[1;33m(\u001b[0m\u001b[0mself\u001b[0m\u001b[1;33m,\u001b[0m \u001b[0mencoder\u001b[0m\u001b[1;33m)\u001b[0m\u001b[1;33m:\u001b[0m\u001b[1;33m\u001b[0m\u001b[1;33m\u001b[0m\u001b[0m\n",
      "\u001b[1;32mC:\\ProgramData\\Anaconda3\\lib\\site-packages\\ee\\data.py\u001b[0m in \u001b[0;36mcomputeValue\u001b[1;34m(obj)\u001b[0m\n\u001b[0;32m    621\u001b[0m         \u001b[0mproject\u001b[0m\u001b[1;33m=\u001b[0m\u001b[0m_get_projects_path\u001b[0m\u001b[1;33m(\u001b[0m\u001b[1;33m)\u001b[0m\u001b[1;33m,\u001b[0m\u001b[1;33m\u001b[0m\u001b[1;33m\u001b[0m\u001b[0m\n\u001b[0;32m    622\u001b[0m         prettyPrint=False))['result']\n\u001b[1;32m--> 623\u001b[1;33m   \u001b[1;32mreturn\u001b[0m \u001b[0msend_\u001b[0m\u001b[1;33m(\u001b[0m\u001b[1;34m'/value'\u001b[0m\u001b[1;33m,\u001b[0m \u001b[1;33m(\u001b[0m\u001b[1;33m{\u001b[0m\u001b[1;34m'json'\u001b[0m\u001b[1;33m:\u001b[0m \u001b[0mobj\u001b[0m\u001b[1;33m.\u001b[0m\u001b[0mserialize\u001b[0m\u001b[1;33m(\u001b[0m\u001b[1;33m)\u001b[0m\u001b[1;33m,\u001b[0m \u001b[1;34m'json_format'\u001b[0m\u001b[1;33m:\u001b[0m \u001b[1;34m'v2'\u001b[0m\u001b[1;33m}\u001b[0m\u001b[1;33m)\u001b[0m\u001b[1;33m)\u001b[0m\u001b[1;33m\u001b[0m\u001b[1;33m\u001b[0m\u001b[0m\n\u001b[0m\u001b[0;32m    624\u001b[0m \u001b[1;33m\u001b[0m\u001b[0m\n\u001b[0;32m    625\u001b[0m \u001b[1;33m\u001b[0m\u001b[0m\n",
      "\u001b[1;32mC:\\ProgramData\\Anaconda3\\lib\\site-packages\\ee\\data.py\u001b[0m in \u001b[0;36msend_\u001b[1;34m(path, params, opt_method, opt_raw)\u001b[0m\n\u001b[0;32m   1667\u001b[0m       \u001b[1;32mraise\u001b[0m \u001b[0mee_exception\u001b[0m\u001b[1;33m.\u001b[0m\u001b[0mEEException\u001b[0m\u001b[1;33m(\u001b[0m\u001b[1;34m'Invalid JSON: %s'\u001b[0m \u001b[1;33m%\u001b[0m \u001b[0mcontent\u001b[0m\u001b[1;33m)\u001b[0m\u001b[1;33m\u001b[0m\u001b[1;33m\u001b[0m\u001b[0m\n\u001b[0;32m   1668\u001b[0m     \u001b[1;32mif\u001b[0m \u001b[1;34m'error'\u001b[0m \u001b[1;32min\u001b[0m \u001b[0mjson_content\u001b[0m\u001b[1;33m:\u001b[0m\u001b[1;33m\u001b[0m\u001b[1;33m\u001b[0m\u001b[0m\n\u001b[1;32m-> 1669\u001b[1;33m       \u001b[1;32mraise\u001b[0m \u001b[0mee_exception\u001b[0m\u001b[1;33m.\u001b[0m\u001b[0mEEException\u001b[0m\u001b[1;33m(\u001b[0m\u001b[0mjson_content\u001b[0m\u001b[1;33m[\u001b[0m\u001b[1;34m'error'\u001b[0m\u001b[1;33m]\u001b[0m\u001b[1;33m[\u001b[0m\u001b[1;34m'message'\u001b[0m\u001b[1;33m]\u001b[0m\u001b[1;33m)\u001b[0m\u001b[1;33m\u001b[0m\u001b[1;33m\u001b[0m\u001b[0m\n\u001b[0m\u001b[0;32m   1670\u001b[0m     \u001b[1;32mif\u001b[0m \u001b[1;34m'data'\u001b[0m \u001b[1;32mnot\u001b[0m \u001b[1;32min\u001b[0m \u001b[0mcontent\u001b[0m\u001b[1;33m:\u001b[0m\u001b[1;33m\u001b[0m\u001b[1;33m\u001b[0m\u001b[0m\n\u001b[0;32m   1671\u001b[0m       \u001b[1;32mraise\u001b[0m \u001b[0mee_exception\u001b[0m\u001b[1;33m.\u001b[0m\u001b[0mEEException\u001b[0m\u001b[1;33m(\u001b[0m\u001b[1;34m'Malformed response: '\u001b[0m \u001b[1;33m+\u001b[0m \u001b[0mstr\u001b[0m\u001b[1;33m(\u001b[0m\u001b[0mcontent\u001b[0m\u001b[1;33m)\u001b[0m\u001b[1;33m)\u001b[0m\u001b[1;33m\u001b[0m\u001b[1;33m\u001b[0m\u001b[0m\n",
      "\u001b[1;31mEEException\u001b[0m: ImageCollection.getRegion: No bands in collection."
     ]
    }
   ],
   "source": [
    "point = ee.Geometry.Point(-438.8015,-8.5229)\n",
    "\n",
    "l = S2.filterBounds(point).getRegion(point, 30).getInfo()\n",
    "\n",
    "out = [dict(zip(l[0], values)) for values in l[1:]]\n",
    "\n",
    "Dates=np.zeros(len(out)).tolist()\n",
    "NDVI=np.zeros(len(out)).tolist()\n",
    "df=pd.DataFrame()\n",
    "\n",
    "for i in range(len(out)):\n",
    "    a=out[i]['id']\n",
    "    b=a.split(sep='_')\n",
    "    b1=b[0]\n",
    "    b2=b1.split(sep='T')\n",
    "    Dates[i]=datetime.strptime(b2[0], \"%Y%m%d\")\n",
    "    NDVI[i]=out[i]['nd']\n",
    "\n",
    "df['Dates']=Dates\n",
    "df['NDVI']=NDVI\n",
    "df.set_index('Dates', inplace=True)\n",
    "#return(df)\n",
    "print(df)"
   ]
  },
  {
   "cell_type": "code",
   "execution_count": 45,
   "metadata": {},
   "outputs": [
    {
     "ename": "NameError",
     "evalue": "name 'df' is not defined",
     "output_type": "error",
     "traceback": [
      "\u001b[1;31m---------------------------------------------------------------------------\u001b[0m",
      "\u001b[1;31mNameError\u001b[0m                                 Traceback (most recent call last)",
      "\u001b[1;32m<ipython-input-45-31bedcf0cf81>\u001b[0m in \u001b[0;36m<module>\u001b[1;34m\u001b[0m\n\u001b[0;32m      1\u001b[0m \u001b[0mtitle\u001b[0m\u001b[1;33m=\u001b[0m\u001b[1;34m\"NDVI point\"\u001b[0m\u001b[1;33m\u001b[0m\u001b[1;33m\u001b[0m\u001b[0m\n\u001b[0;32m      2\u001b[0m \u001b[0mfig\u001b[0m\u001b[1;33m,\u001b[0m \u001b[1;33m(\u001b[0m\u001b[0max\u001b[0m\u001b[1;33m)\u001b[0m \u001b[1;33m=\u001b[0m \u001b[0mplt\u001b[0m\u001b[1;33m.\u001b[0m\u001b[0msubplots\u001b[0m\u001b[1;33m(\u001b[0m\u001b[1;36m1\u001b[0m\u001b[1;33m,\u001b[0m\u001b[0mfigsize\u001b[0m\u001b[1;33m=\u001b[0m\u001b[1;33m(\u001b[0m\u001b[1;36m19\u001b[0m\u001b[1;33m,\u001b[0m\u001b[1;36m9\u001b[0m\u001b[1;33m)\u001b[0m\u001b[1;33m)\u001b[0m\u001b[1;33m\u001b[0m\u001b[1;33m\u001b[0m\u001b[0m\n\u001b[1;32m----> 3\u001b[1;33m \u001b[0max\u001b[0m\u001b[1;33m.\u001b[0m\u001b[0mplot\u001b[0m\u001b[1;33m(\u001b[0m\u001b[0mdf\u001b[0m\u001b[1;33m[\u001b[0m\u001b[1;34m'NDVI'\u001b[0m\u001b[1;33m]\u001b[0m\u001b[1;33m,\u001b[0m\u001b[0mmarker\u001b[0m\u001b[1;33m=\u001b[0m\u001b[1;34m'o'\u001b[0m\u001b[1;33m,\u001b[0m \u001b[0mmarkersize\u001b[0m\u001b[1;33m=\u001b[0m\u001b[1;36m4\u001b[0m\u001b[1;33m,\u001b[0m \u001b[0mlinestyle\u001b[0m\u001b[1;33m=\u001b[0m\u001b[1;34m'--'\u001b[0m\u001b[1;33m,\u001b[0m \u001b[0mlinewidth\u001b[0m\u001b[1;33m=\u001b[0m\u001b[1;36m1\u001b[0m\u001b[1;33m,\u001b[0m\u001b[0mcolor\u001b[0m\u001b[1;33m=\u001b[0m\u001b[1;34m\"blue\"\u001b[0m\u001b[1;33m,\u001b[0m\u001b[0mlabel\u001b[0m\u001b[1;33m=\u001b[0m\u001b[1;34m'NDVI '\u001b[0m\u001b[1;33m+\u001b[0m\u001b[0mtitle\u001b[0m\u001b[1;33m)\u001b[0m\u001b[1;33m\u001b[0m\u001b[1;33m\u001b[0m\u001b[0m\n\u001b[0m\u001b[0;32m      4\u001b[0m \u001b[0max\u001b[0m\u001b[1;33m.\u001b[0m\u001b[0mlegend\u001b[0m\u001b[1;33m(\u001b[0m\u001b[1;33m)\u001b[0m\u001b[1;33m\u001b[0m\u001b[1;33m\u001b[0m\u001b[0m\n\u001b[0;32m      5\u001b[0m \u001b[1;31m#ax.set_ylim(-29,-2)\u001b[0m\u001b[1;33m\u001b[0m\u001b[1;33m\u001b[0m\u001b[1;33m\u001b[0m\u001b[0m\n",
      "\u001b[1;31mNameError\u001b[0m: name 'df' is not defined"
     ]
    },
    {
     "data": {
      "image/png": "[encoded data removed]",
      "text/plain": [
       "<Figure size 1368x648 with 1 Axes>"
      ]
     },
     "metadata": {
      "needs_background": "light"
     },
     "output_type": "display_data"
    }
   ],
   "source": [
    "title=\"NDVI point\"\n",
    "fig, (ax) = plt.subplots(1,figsize=(19,9)) \n",
    "ax.plot(df['NDVI'],marker='o', markersize=4, linestyle='--', linewidth=1,color=\"blue\",label='NDVI '+title)\n",
    "ax.legend()\n",
    "#ax.set_ylim(-29,-2)\n",
    "plt.tight_layout()"
   ]
  },
  {
   "cell_type": "code",
   "execution_count": 46,
   "metadata": {},
   "outputs": [
    {
     "data": {
      "text/html": [
       "<div style=\"width:100%;\"><div style=\"position:relative;width:100%;height:0;padding-bottom:60%;\"><iframe src=\"data:text/html;charset=utf-8;base64,PCFET0NUWVBFIGh0bWw+CjxoZWFkPiAgICAKICAgIDxtZXRhIGh0dHAtZXF1aXY9ImNvbnRlbnQtdHlwZSIgY29udGVudD0idGV4dC9odG1sOyBjaGFyc2V0PVVURi04IiAvPgogICAgCiAgICAgICAgPHNjcmlwdD4KICAgICAgICAgICAgTF9OT19UT1VDSCA9IGZhbHNlOwogICAgICAgICAgICBMX0RJU0FCTEVfM0QgPSBmYWxzZTsKICAgICAgICA8L3NjcmlwdD4KICAgIAogICAgPHNjcmlwdCBzcmM9Imh0dHBzOi8vY2RuLmpzZGVsaXZyLm5ldC9ucG0vbGVhZmxldEAxLjQuMC9kaXN0L2xlYWZsZXQuanMiPjwvc2NyaXB0PgogICAgPHNjcmlwdCBzcmM9Imh0dHBzOi8vY29kZS5qcXVlcnkuY29tL2pxdWVyeS0xLjEyLjQubWluLmpzIj48L3NjcmlwdD4KICAgIDxzY3JpcHQgc3JjPSJodHRwczovL21heGNkbi5ib290c3RyYXBjZG4uY29tL2Jvb3RzdHJhcC8zLjIuMC9qcy9ib290c3RyYXAubWluLmpzIj48L3NjcmlwdD4KICAgIDxzY3JpcHQgc3JjPSJodHRwczovL2NkbmpzLmNsb3VkZmxhcmUuY29tL2FqYXgvbGlicy9MZWFmbGV0LmF3ZXNvbWUtbWFya2Vycy8yLjAuMi9sZWFmbGV0LmF3ZXNvbWUtbWFya2Vycy5qcyI+PC9zY3JpcHQ+CiAgICA8bGluayByZWw9InN0eWxlc2hlZXQiIGhyZWY9Imh0dHBzOi8vY2RuLmpzZGVsaXZyLm5ldC9ucG0vbGVhZmxldEAxLjQuMC9kaXN0L2xlYWZsZXQuY3NzIi8+CiAgICA8bGluayByZWw9InN0eWxlc2hlZXQiIGhyZWY9Imh0dHBzOi8vbWF4Y2RuLmJvb3RzdHJhcGNkbi5jb20vYm9vdHN0cmFwLzMuMi4wL2Nzcy9ib290c3RyYXAubWluLmNzcyIvPgogICAgPGxpbmsgcmVsPSJzdHlsZXNoZWV0IiBocmVmPSJodHRwczovL21heGNkbi5ib290c3RyYXBjZG4uY29tL2Jvb3RzdHJhcC8zLjIuMC9jc3MvYm9vdHN0cmFwLXRoZW1lLm1pbi5jc3MiLz4KICAgIDxsaW5rIHJlbD0ic3R5bGVzaGVldCIgaHJlZj0iaHR0cHM6Ly9tYXhjZG4uYm9vdHN0cmFwY2RuLmNvbS9mb250LWF3ZXNvbWUvNC42LjMvY3NzL2ZvbnQtYXdlc29tZS5taW4uY3NzIi8+CiAgICA8bGluayByZWw9InN0eWxlc2hlZXQiIGhyZWY9Imh0dHBzOi8vY2RuanMuY2xvdWRmbGFyZS5jb20vYWpheC9saWJzL0xlYWZsZXQuYXdlc29tZS1tYXJrZXJzLzIuMC4yL2xlYWZsZXQuYXdlc29tZS1tYXJrZXJzLmNzcyIvPgogICAgPGxpbmsgcmVsPSJzdHlsZXNoZWV0IiBocmVmPSJodHRwczovL3Jhd2Nkbi5naXRoYWNrLmNvbS9weXRob24tdmlzdWFsaXphdGlvbi9mb2xpdW0vbWFzdGVyL2ZvbGl1bS90ZW1wbGF0ZXMvbGVhZmxldC5hd2Vzb21lLnJvdGF0ZS5jc3MiLz4KICAgIDxzdHlsZT5odG1sLCBib2R5IHt3aWR0aDogMTAwJTtoZWlnaHQ6IDEwMCU7bWFyZ2luOiAwO3BhZGRpbmc6IDA7fTwvc3R5bGU+CiAgICA8c3R5bGU+I21hcCB7cG9zaXRpb246YWJzb2x1dGU7dG9wOjA7Ym90dG9tOjA7cmlnaHQ6MDtsZWZ0OjA7fTwvc3R5bGU+CiAgICAKICAgICAgICAgICAgPG1ldGEgbmFtZT0idmlld3BvcnQiIGNvbnRlbnQ9IndpZHRoPWRldmljZS13aWR0aCwKICAgICAgICAgICAgICAgIGluaXRpYWwtc2NhbGU9MS4wLCBtYXhpbXVtLXNjYWxlPTEuMCwgdXNlci1zY2FsYWJsZT1ubyIgLz4KICAgICAgICAgICAgPHN0eWxlPgogICAgICAgICAgICAgICAgI21hcF9lZDE3NDFmYmExNmY0MmJmYmZmODM3OWYyMzA5YjFlNCB7CiAgICAgICAgICAgICAgICAgICAgcG9zaXRpb246IHJlbGF0aXZlOwogICAgICAgICAgICAgICAgICAgIHdpZHRoOiAxMDAuMCU7CiAgICAgICAgICAgICAgICAgICAgaGVpZ2h0OiAxMDAuMCU7CiAgICAgICAgICAgICAgICAgICAgbGVmdDogMC4wJTsKICAgICAgICAgICAgICAgICAgICB0b3A6IDAuMCU7CiAgICAgICAgICAgICAgICB9CiAgICAgICAgICAgIDwvc3R5bGU+CiAgICAgICAgCjwvaGVhZD4KPGJvZHk+ICAgIAogICAgCiAgICAgICAgICAgIDxkaXYgY2xhc3M9ImZvbGl1bS1tYXAiIGlkPSJtYXBfZWQxNzQxZmJhMTZmNDJiZmJmZjgzNzlmMjMwOWIxZTQiID48L2Rpdj4KICAgICAgICAKPC9ib2R5Pgo8c2NyaXB0PiAgICAKICAgIAogICAgICAgICAgICB2YXIgbWFwX2VkMTc0MWZiYTE2ZjQyYmZiZmY4Mzc5ZjIzMDliMWU0ID0gTC5tYXAoCiAgICAgICAgICAgICAgICAibWFwX2VkMTc0MWZiYTE2ZjQyYmZiZmY4Mzc5ZjIzMDliMWU0IiwKICAgICAgICAgICAgICAgIHsKICAgICAgICAgICAgICAgICAgICBjZW50ZXI6IFstOC41MTM2LCAtNDM4Ljc5NTFdLAogICAgICAgICAgICAgICAgICAgIGNyczogTC5DUlMuRVBTRzM4NTcsCiAgICAgICAgICAgICAgICAgICAgem9vbTogMTMsCiAgICAgICAgICAgICAgICAgICAgem9vbUNvbnRyb2w6IHRydWUsCiAgICAgICAgICAgICAgICAgICAgcHJlZmVyQ2FudmFzOiBmYWxzZSwKICAgICAgICAgICAgICAgIH0KICAgICAgICAgICAgKTsKCiAgICAgICAgICAgIAoKICAgICAgICAKICAgIAogICAgICAgICAgICB2YXIgdGlsZV9sYXllcl81MDZhMzE0MDA5ODY0NmQzYTFiOWI3Y2Q2NjkzZmRiMSA9IEwudGlsZUxheWVyKAogICAgICAgICAgICAgICAgImh0dHBzOi8ve3N9LnRpbGUub3BlbnN0cmVldG1hcC5vcmcve3p9L3t4fS97eX0ucG5nIiwKICAgICAgICAgICAgICAgIHsiYXR0cmlidXRpb24iOiAiRGF0YSBieSBcdTAwMjZjb3B5OyBcdTAwM2NhIGhyZWY9XCJodHRwOi8vb3BlbnN0cmVldG1hcC5vcmdcIlx1MDAzZU9wZW5TdHJlZXRNYXBcdTAwM2MvYVx1MDAzZSwgdW5kZXIgXHUwMDNjYSBocmVmPVwiaHR0cDovL3d3dy5vcGVuc3RyZWV0bWFwLm9yZy9jb3B5cmlnaHRcIlx1MDAzZU9EYkxcdTAwM2MvYVx1MDAzZS4iLCAiZGV0ZWN0UmV0aW5hIjogZmFsc2UsICJtYXhOYXRpdmVab29tIjogMTgsICJtYXhab29tIjogMTgsICJtaW5ab29tIjogMCwgIm5vV3JhcCI6IGZhbHNlLCAib3BhY2l0eSI6IDEsICJzdWJkb21haW5zIjogImFiYyIsICJ0bXMiOiBmYWxzZX0KICAgICAgICAgICAgKS5hZGRUbyhtYXBfZWQxNzQxZmJhMTZmNDJiZmJmZjgzNzlmMjMwOWIxZTQpOwogICAgICAgIAogICAgCiAgICAgICAgICAgIHZhciB0aWxlX2xheWVyX2U4MDBlZTIzYTY4MDQ2ZDdhNDIyOWY2MGUwZDljMDk0ID0gTC50aWxlTGF5ZXIoCiAgICAgICAgICAgICAgICAiaHR0cHM6Ly9lYXJ0aGVuZ2luZS5nb29nbGVhcGlzLmNvbS9tYXAvMDBiMzRkYmI3MjdiMmJhY2U4NTU1ZGM1ZTFkNTJhYTcve3p9L3t4fS97eX0/dG9rZW49ODQxOTc5ZGRiYTc3ZjI1YmIzOTJjOTliYWU5NzYxMTQiLAogICAgICAgICAgICAgICAgeyJhdHRyaWJ1dGlvbiI6ICJHb29nbGUgRWFydGggRW5naW5lIiwgImRldGVjdFJldGluYSI6IGZhbHNlLCAibWF4TmF0aXZlWm9vbSI6IDE4LCAibWF4Wm9vbSI6IDE4LCAibWluWm9vbSI6IDAsICJub1dyYXAiOiBmYWxzZSwgIm9wYWNpdHkiOiAxLCAic3ViZG9tYWlucyI6ICJhYmMiLCAidG1zIjogZmFsc2V9CiAgICAgICAgICAgICkuYWRkVG8obWFwX2VkMTc0MWZiYTE2ZjQyYmZiZmY4Mzc5ZjIzMDliMWU0KTsKICAgICAgICAKICAgIAogICAgICAgICAgICB2YXIgbGF5ZXJfY29udHJvbF8wZDg4MDAxNmY5NWQ0MGU1OWM2NGVhYzY5ZDNjMDk1YiA9IHsKICAgICAgICAgICAgICAgIGJhc2VfbGF5ZXJzIDogewogICAgICAgICAgICAgICAgICAgICJvcGVuc3RyZWV0bWFwIiA6IHRpbGVfbGF5ZXJfNTA2YTMxNDAwOTg2NDZkM2ExYjliN2NkNjY5M2ZkYjEsCiAgICAgICAgICAgICAgICB9LAogICAgICAgICAgICAgICAgb3ZlcmxheXMgOiAgewogICAgICAgICAgICAgICAgICAgICJTMl9SR0IiIDogdGlsZV9sYXllcl9lODAwZWUyM2E2ODA0NmQ3YTQyMjlmNjBlMGQ5YzA5NCwKICAgICAgICAgICAgICAgIH0sCiAgICAgICAgICAgIH07CiAgICAgICAgICAgIEwuY29udHJvbC5sYXllcnMoCiAgICAgICAgICAgICAgICBsYXllcl9jb250cm9sXzBkODgwMDE2Zjk1ZDQwZTU5YzY0ZWFjNjlkM2MwOTViLmJhc2VfbGF5ZXJzLAogICAgICAgICAgICAgICAgbGF5ZXJfY29udHJvbF8wZDg4MDAxNmY5NWQ0MGU1OWM2NGVhYzY5ZDNjMDk1Yi5vdmVybGF5cywKICAgICAgICAgICAgICAgIHsiYXV0b1pJbmRleCI6IHRydWUsICJjb2xsYXBzZWQiOiB0cnVlLCAicG9zaXRpb24iOiAidG9wcmlnaHQifQogICAgICAgICAgICApLmFkZFRvKG1hcF9lZDE3NDFmYmExNmY0MmJmYmZmODM3OWYyMzA5YjFlNCk7CiAgICAgICAgCiAgICAKICAgICAgICAgICAgICAgIHZhciBsYXRfbG5nX3BvcHVwXzk3OTkwOTNiM2IzYTRkMDU5NTFlZmZiMjQwZjkwNDM1ID0gTC5wb3B1cCgpOwogICAgICAgICAgICAgICAgZnVuY3Rpb24gbGF0TG5nUG9wKGUpIHsKICAgICAgICAgICAgICAgICAgICBsYXRfbG5nX3BvcHVwXzk3OTkwOTNiM2IzYTRkMDU5NTFlZmZiMjQwZjkwNDM1CiAgICAgICAgICAgICAgICAgICAgICAgIC5zZXRMYXRMbmcoZS5sYXRsbmcpCiAgICAgICAgICAgICAgICAgICAgICAgIC5zZXRDb250ZW50KCJMYXRpdHVkZTogIiArIGUubGF0bG5nLmxhdC50b0ZpeGVkKDQpICsKICAgICAgICAgICAgICAgICAgICAgICAgICAgICAgICAgICAgIjxicj5Mb25naXR1ZGU6ICIgKyBlLmxhdGxuZy5sbmcudG9GaXhlZCg0KSkKICAgICAgICAgICAgICAgICAgICAgICAgLm9wZW5PbihtYXBfZWQxNzQxZmJhMTZmNDJiZmJmZjgzNzlmMjMwOWIxZTQpOwogICAgICAgICAgICAgICAgICAgIH0KICAgICAgICAgICAgICAgIG1hcF9lZDE3NDFmYmExNmY0MmJmYmZmODM3OWYyMzA5YjFlNC5vbignY2xpY2snLCBsYXRMbmdQb3ApOwogICAgICAgICAgICAKPC9zY3JpcHQ+\" style=\"position:absolute;width:100%;height:100%;left:0;top:0;border:none !important;\" allowfullscreen webkitallowfullscreen mozallowfullscreen></iframe></div></div>"
      ],
      "text/plain": [
       "<folium.folium.Map at 0x236dc536c50>"
      ]
     },
     "execution_count": 46,
     "metadata": {},
     "output_type": "execute_result"
    }
   ],
   "source": [
    "vis_RGB_S2 = {'min': 0, 'max':0.3, 'bands': ['B4_median', 'B3_median', 'B2_median']}\n",
    "\n",
    "\n",
    "\n",
    "\n",
    "median_tk1_S2 = S2_median.getMapId(vis_RGB_S2)\n",
    "#m1=Mapdisplay(center,{'Sentinel 1 - median':median_tk},zoom_start=11)\n",
    "m2=Mapdisplay(center,{'S2_RGB':median_tk1_S2},zoom_start=13)\n",
    "m2.add_child(folium.LatLngPopup())"
   ]
  },
  {
   "cell_type": "code",
   "execution_count": 47,
   "metadata": {},
   "outputs": [
    {
     "data": {
      "text/html": [
       "<div style=\"width:100%;\"><div style=\"position:relative;width:100%;height:0;padding-bottom:60%;\"><iframe src=\"data:text/html;charset=utf-8;base64,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\" style=\"position:absolute;width:100%;height:100%;left:0;top:0;border:none !important;\" allowfullscreen webkitallowfullscreen mozallowfullscreen></iframe></div></div>"
      ],
      "text/plain": [
       "<folium.folium.Map at 0x236dc4e5f98>"
      ]
     },
     "execution_count": 47,
     "metadata": {},
     "output_type": "execute_result"
    }
   ],
   "source": [
    "#vis_RGB_S2 = {'min': 0, 'max':1,'bands': ['nd_median']}\n",
    "vis_RGB_S2 = {'min': -1, 'max':1,'palette': ['blue', 'white', 'green'],'bands': ['nd_median']}\n",
    "\n",
    "\n",
    "\n",
    "\n",
    "median_tk1_S2 = S2_median.getMapId(vis_RGB_S2)\n",
    "#m1=Mapdisplay(center,{'Sentinel 1 - median':median_tk},zoom_start=11)\n",
    "m2=Mapdisplay(center,{'S2_RGB':median_tk1_S2},zoom_start=13)\n",
    "m2.add_child(folium.LatLngPopup())"
   ]
  },
  {
   "cell_type": "code",
   "execution_count": 203,
   "metadata": {},
   "outputs": [
    {
     "data": {
      "text/html": [
       "<div style=\"width:100%;\"><div style=\"position:relative;width:100%;height:0;padding-bottom:60%;\"><iframe src=\"data:text/html;charset=utf-8;base64,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\" style=\"position:absolute;width:100%;height:100%;left:0;top:0;border:none !important;\" allowfullscreen webkitallowfullscreen mozallowfullscreen></iframe></div></div>"
      ],
      "text/plain": [
       "<folium.folium.Map at 0x20bdc2e3da0>"
      ]
     },
     "execution_count": 203,
     "metadata": {},
     "output_type": "execute_result"
    }
   ],
   "source": [
    "# Define a region in which to generate a sample of the input.\n",
    "region = ee.Geometry.Rectangle(-436.4951,3.3473,-436.3594,3.2650)\n",
    "region_img = ee.Image().paint(region, 0, 2)\n",
    "# Display the sample region.\n",
    "#center = [4.7789, -74.2954]\n",
    "#center = [-8.5148, -438.7955]\n",
    "center = [3.3142, -436.4269]\n",
    "m3=Mapdisplay(center,{'Region':region_img.getMapId()},zoom_start=11)\n",
    "m3.add_child(folium.LatLngPopup())"
   ]
  },
  {
   "cell_type": "code",
   "execution_count": 204,
   "metadata": {},
   "outputs": [
    {
     "data": {
      "text/html": [
       "<div style=\"width:100%;\"><div style=\"position:relative;width:100%;height:0;padding-bottom:60%;\"><iframe src=\"data:text/html;charset=utf-8;base64,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\" style=\"position:absolute;width:100%;height:100%;left:0;top:0;border:none !important;\" allowfullscreen webkitallowfullscreen mozallowfullscreen></iframe></div></div>"
      ],
      "text/plain": [
       "<folium.folium.Map at 0x20bdc28b2e8>"
      ]
     },
     "execution_count": 204,
     "metadata": {},
     "output_type": "execute_result"
    }
   ],
   "source": [
    "# Make the training dataset.\n",
    "training = S2_median.sample(region=region,scale=30,numPixels=5000)\n",
    "\n",
    "# Instantiate the clusterer and train it.\n",
    "clusterer = ee.Clusterer.wekaKMeans(15).train(training)\n",
    "\n",
    "# Cluster the input using the trained clusterer.\n",
    "result = S2_median.cluster(clusterer)\n",
    "result_tk = result.randomVisualizer().getMapId()\n",
    "# Display the clusters with random colors.\n",
    "Mapdisplay(center, {'results':result_tk},zoom_start=8)"
   ]
  },
  {
   "cell_type": "code",
   "execution_count": null,
   "metadata": {},
   "outputs": [],
   "source": []
  }
 ],
 "metadata": {
  "extensions": {
   "jupyter_dashboards": {
    "activeView": "grid_default",
    "version": 1,
    "views": {
     "grid_default": {
      "cellMargin": 10,
      "defaultCellHeight": 20,
      "maxColumns": 12,
      "name": "grid",
      "type": "grid"
     },
     "report_default": {
      "name": "report",
      "type": "report"
     }
    }
   }
  },
  "kernelspec": {
   "display_name": "Python 3",
   "language": "python",
   "name": "python3"
  },
  "language_info": {
   "codemirror_mode": {
    "name": "ipython",
    "version": 3
   },
   "file_extension": ".py",
   "mimetype": "text/x-python",
   "name": "python",
   "nbconvert_exporter": "python",
   "pygments_lexer": "ipython3",
   "version": "3.6.8"
  }
 },
 "nbformat": 4,
 "nbformat_minor": 2
}
